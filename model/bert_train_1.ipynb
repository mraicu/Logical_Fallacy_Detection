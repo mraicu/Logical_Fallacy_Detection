{
 "cells": [
  {
   "metadata": {
    "id": "5175b93817895455",
    "executionInfo": {
     "status": "ok",
     "timestamp": 1730105579856,
     "user_tz": -120,
     "elapsed": 8842,
     "user": {
      "displayName": "Maria Raicu",
      "userId": "00664458830913320871"
     }
    },
    "ExecuteTime": {
     "end_time": "2024-10-29T08:13:14.060157Z",
     "start_time": "2024-10-29T08:13:14.013574Z"
    }
   },
   "cell_type": "code",
   "source": [
    "import torch\n",
    "import pandas as pd\n",
    "from torch.utils.data import Dataset"
   ],
   "id": "5175b93817895455",
   "outputs": [],
   "execution_count": 74
  },
  {
   "metadata": {
    "id": "5a8ecfaa8646625c",
    "executionInfo": {
     "status": "ok",
     "timestamp": 1730105619534,
     "user_tz": -120,
     "elapsed": 313,
     "user": {
      "displayName": "Maria Raicu",
      "userId": "00664458830913320871"
     }
    },
    "ExecuteTime": {
     "end_time": "2024-10-29T08:13:14.905521Z",
     "start_time": "2024-10-29T08:13:14.698910Z"
    }
   },
   "cell_type": "code",
   "source": [
    "train_df = pd.read_csv('../data/huggingface/train.csv')\n",
    "test_df = pd.read_csv('../data/huggingface/test.csv')\n",
    "dev_df = pd.read_csv('../data/huggingface/dev.csv')"
   ],
   "id": "5a8ecfaa8646625c",
   "outputs": [],
   "execution_count": 75
  },
  {
   "metadata": {
    "colab": {
     "base_uri": "https://localhost:8080/",
     "height": 206
    },
    "id": "db1fc906b4bb2e95",
    "executionInfo": {
     "status": "ok",
     "timestamp": 1730105620777,
     "user_tz": -120,
     "elapsed": 337,
     "user": {
      "displayName": "Maria Raicu",
      "userId": "00664458830913320871"
     }
    },
    "outputId": "dce6cdbb-8637-4a13-9dea-31d78fac4620",
    "ExecuteTime": {
     "end_time": "2024-10-29T08:13:15.398693Z",
     "start_time": "2024-10-29T08:13:15.367411Z"
    }
   },
   "cell_type": "code",
   "source": [
    "train_df.head()"
   ],
   "id": "db1fc906b4bb2e95",
   "outputs": [
    {
     "data": {
      "text/plain": [
       "  config                                     source_article  \\\n",
       "0    edu          company's slogan \"Expect More. Pay Less.\"   \n",
       "1    edu  The bigger a child's shoe size, the better the...   \n",
       "2    edu  Since many people believe this, then it must b...   \n",
       "3    edu  Senator Randall isn't lying when she says she ...   \n",
       "4    edu  A mother is telling her daughter that she went...   \n",
       "\n",
       "      logical_fallacies                                  source_article_ro  \n",
       "0     appeal to emotion  sloganul companiei „Așteptați mai mult. Plătiț...  \n",
       "1       false causality  Cu cât mărimea pantofilor unui copil este mai ...  \n",
       "2            ad populum  Din moment ce mulți oameni cred asta, atunci t...  \n",
       "3    circular reasoning  Senatorul Randall nu minte când spune că îi pa...  \n",
       "4  fallacy of relevance  O mamă îi spune fiicei ei că și-a analizat dat...  "
      ],
      "text/html": [
       "<div>\n",
       "<style scoped>\n",
       "    .dataframe tbody tr th:only-of-type {\n",
       "        vertical-align: middle;\n",
       "    }\n",
       "\n",
       "    .dataframe tbody tr th {\n",
       "        vertical-align: top;\n",
       "    }\n",
       "\n",
       "    .dataframe thead th {\n",
       "        text-align: right;\n",
       "    }\n",
       "</style>\n",
       "<table border=\"1\" class=\"dataframe\">\n",
       "  <thead>\n",
       "    <tr style=\"text-align: right;\">\n",
       "      <th></th>\n",
       "      <th>config</th>\n",
       "      <th>source_article</th>\n",
       "      <th>logical_fallacies</th>\n",
       "      <th>source_article_ro</th>\n",
       "    </tr>\n",
       "  </thead>\n",
       "  <tbody>\n",
       "    <tr>\n",
       "      <th>0</th>\n",
       "      <td>edu</td>\n",
       "      <td>company's slogan \"Expect More. Pay Less.\"</td>\n",
       "      <td>appeal to emotion</td>\n",
       "      <td>sloganul companiei „Așteptați mai mult. Plătiț...</td>\n",
       "    </tr>\n",
       "    <tr>\n",
       "      <th>1</th>\n",
       "      <td>edu</td>\n",
       "      <td>The bigger a child's shoe size, the better the...</td>\n",
       "      <td>false causality</td>\n",
       "      <td>Cu cât mărimea pantofilor unui copil este mai ...</td>\n",
       "    </tr>\n",
       "    <tr>\n",
       "      <th>2</th>\n",
       "      <td>edu</td>\n",
       "      <td>Since many people believe this, then it must b...</td>\n",
       "      <td>ad populum</td>\n",
       "      <td>Din moment ce mulți oameni cred asta, atunci t...</td>\n",
       "    </tr>\n",
       "    <tr>\n",
       "      <th>3</th>\n",
       "      <td>edu</td>\n",
       "      <td>Senator Randall isn't lying when she says she ...</td>\n",
       "      <td>circular reasoning</td>\n",
       "      <td>Senatorul Randall nu minte când spune că îi pa...</td>\n",
       "    </tr>\n",
       "    <tr>\n",
       "      <th>4</th>\n",
       "      <td>edu</td>\n",
       "      <td>A mother is telling her daughter that she went...</td>\n",
       "      <td>fallacy of relevance</td>\n",
       "      <td>O mamă îi spune fiicei ei că și-a analizat dat...</td>\n",
       "    </tr>\n",
       "  </tbody>\n",
       "</table>\n",
       "</div>"
      ]
     },
     "execution_count": 76,
     "metadata": {},
     "output_type": "execute_result"
    }
   ],
   "execution_count": 76
  },
  {
   "metadata": {
    "id": "f878bccda856230e",
    "executionInfo": {
     "status": "ok",
     "timestamp": 1730105623764,
     "user_tz": -120,
     "elapsed": 291,
     "user": {
      "displayName": "Maria Raicu",
      "userId": "00664458830913320871"
     }
    },
    "ExecuteTime": {
     "end_time": "2024-10-29T08:13:16.029498Z",
     "start_time": "2024-10-29T08:13:15.997374Z"
    }
   },
   "cell_type": "code",
   "source": [
    "train_dataset = train_df[['logical_fallacies', 'source_article_ro']]\n",
    "test_dataset = test_df[['logical_fallacies', 'source_article_ro']]\n",
    "dev_dataset = dev_df[['logical_fallacies', 'source_article_ro']]"
   ],
   "id": "f878bccda856230e",
   "outputs": [],
   "execution_count": 77
  },
  {
   "metadata": {
    "colab": {
     "base_uri": "https://localhost:8080/",
     "height": 206
    },
    "id": "24dbe65a6e282834",
    "executionInfo": {
     "status": "ok",
     "timestamp": 1730105624627,
     "user_tz": -120,
     "elapsed": 529,
     "user": {
      "displayName": "Maria Raicu",
      "userId": "00664458830913320871"
     }
    },
    "outputId": "1e862832-d0c3-424f-c557-49c39d0be004",
    "ExecuteTime": {
     "end_time": "2024-10-29T08:13:16.338766Z",
     "start_time": "2024-10-29T08:13:16.322966Z"
    }
   },
   "cell_type": "code",
   "source": [
    "train_dataset.head()"
   ],
   "id": "24dbe65a6e282834",
   "outputs": [
    {
     "data": {
      "text/plain": [
       "      logical_fallacies                                  source_article_ro\n",
       "0     appeal to emotion  sloganul companiei „Așteptați mai mult. Plătiț...\n",
       "1       false causality  Cu cât mărimea pantofilor unui copil este mai ...\n",
       "2            ad populum  Din moment ce mulți oameni cred asta, atunci t...\n",
       "3    circular reasoning  Senatorul Randall nu minte când spune că îi pa...\n",
       "4  fallacy of relevance  O mamă îi spune fiicei ei că și-a analizat dat..."
      ],
      "text/html": [
       "<div>\n",
       "<style scoped>\n",
       "    .dataframe tbody tr th:only-of-type {\n",
       "        vertical-align: middle;\n",
       "    }\n",
       "\n",
       "    .dataframe tbody tr th {\n",
       "        vertical-align: top;\n",
       "    }\n",
       "\n",
       "    .dataframe thead th {\n",
       "        text-align: right;\n",
       "    }\n",
       "</style>\n",
       "<table border=\"1\" class=\"dataframe\">\n",
       "  <thead>\n",
       "    <tr style=\"text-align: right;\">\n",
       "      <th></th>\n",
       "      <th>logical_fallacies</th>\n",
       "      <th>source_article_ro</th>\n",
       "    </tr>\n",
       "  </thead>\n",
       "  <tbody>\n",
       "    <tr>\n",
       "      <th>0</th>\n",
       "      <td>appeal to emotion</td>\n",
       "      <td>sloganul companiei „Așteptați mai mult. Plătiț...</td>\n",
       "    </tr>\n",
       "    <tr>\n",
       "      <th>1</th>\n",
       "      <td>false causality</td>\n",
       "      <td>Cu cât mărimea pantofilor unui copil este mai ...</td>\n",
       "    </tr>\n",
       "    <tr>\n",
       "      <th>2</th>\n",
       "      <td>ad populum</td>\n",
       "      <td>Din moment ce mulți oameni cred asta, atunci t...</td>\n",
       "    </tr>\n",
       "    <tr>\n",
       "      <th>3</th>\n",
       "      <td>circular reasoning</td>\n",
       "      <td>Senatorul Randall nu minte când spune că îi pa...</td>\n",
       "    </tr>\n",
       "    <tr>\n",
       "      <th>4</th>\n",
       "      <td>fallacy of relevance</td>\n",
       "      <td>O mamă îi spune fiicei ei că și-a analizat dat...</td>\n",
       "    </tr>\n",
       "  </tbody>\n",
       "</table>\n",
       "</div>"
      ]
     },
     "execution_count": 78,
     "metadata": {},
     "output_type": "execute_result"
    }
   ],
   "execution_count": 78
  },
  {
   "metadata": {
    "colab": {
     "base_uri": "https://localhost:8080/",
     "height": 523
    },
    "id": "ff7c9125c618814",
    "executionInfo": {
     "status": "ok",
     "timestamp": 1730105625642,
     "user_tz": -120,
     "elapsed": 8,
     "user": {
      "displayName": "Maria Raicu",
      "userId": "00664458830913320871"
     }
    },
    "outputId": "da0168c7-f7b2-42bd-f5d2-3430cf0b36f6",
    "ExecuteTime": {
     "end_time": "2024-10-29T08:13:16.576437Z",
     "start_time": "2024-10-29T08:13:16.562503Z"
    }
   },
   "cell_type": "code",
   "source": [
    "train_dataset['logical_fallacies'].value_counts()"
   ],
   "id": "ff7c9125c618814",
   "outputs": [
    {
     "data": {
      "text/plain": [
       "logical_fallacies\n",
       "faulty generalization     401\n",
       "intentional               321\n",
       "ad hominem                289\n",
       "appeal to emotion         217\n",
       "false causality           212\n",
       "ad populum                209\n",
       "fallacy of credibility    200\n",
       "fallacy of logic          176\n",
       "fallacy of relevance      175\n",
       "false dilemma             143\n",
       "circular reasoning        140\n",
       "fallacy of extension      139\n",
       "equivocation               58\n",
       "Name: count, dtype: int64"
      ]
     },
     "execution_count": 79,
     "metadata": {},
     "output_type": "execute_result"
    }
   ],
   "execution_count": 79
  },
  {
   "metadata": {
    "colab": {
     "base_uri": "https://localhost:8080/",
     "height": 523
    },
    "id": "6d5ff4c6c8432fa5",
    "executionInfo": {
     "status": "ok",
     "timestamp": 1730105627039,
     "user_tz": -120,
     "elapsed": 302,
     "user": {
      "displayName": "Maria Raicu",
      "userId": "00664458830913320871"
     }
    },
    "outputId": "fa50f3d4-a86b-4ec2-8633-2551a3c360f9",
    "ExecuteTime": {
     "end_time": "2024-10-29T08:13:16.807249Z",
     "start_time": "2024-10-29T08:13:16.789742Z"
    }
   },
   "cell_type": "code",
   "source": [
    "test_dataset['logical_fallacies'].value_counts()"
   ],
   "id": "6d5ff4c6c8432fa5",
   "outputs": [
    {
     "data": {
      "text/plain": [
       "logical_fallacies\n",
       "faulty generalization     89\n",
       "intentional               60\n",
       "ad hominem                57\n",
       "appeal to emotion         49\n",
       "fallacy of relevance      46\n",
       "fallacy of credibility    37\n",
       "ad populum                35\n",
       "false causality           34\n",
       "fallacy of logic          31\n",
       "fallacy of extension      26\n",
       "circular reasoning        20\n",
       "false dilemma             18\n",
       "equivocation               9\n",
       "Name: count, dtype: int64"
      ]
     },
     "execution_count": 80,
     "metadata": {},
     "output_type": "execute_result"
    }
   ],
   "execution_count": 80
  },
  {
   "metadata": {
    "colab": {
     "base_uri": "https://localhost:8080/",
     "height": 523
    },
    "id": "2c95a5702a3af305",
    "executionInfo": {
     "status": "ok",
     "timestamp": 1730105628378,
     "user_tz": -120,
     "elapsed": 311,
     "user": {
      "displayName": "Maria Raicu",
      "userId": "00664458830913320871"
     }
    },
    "outputId": "1e152470-175a-45a5-c13e-f14edce9a4d7",
    "ExecuteTime": {
     "end_time": "2024-10-29T08:13:17.058071Z",
     "start_time": "2024-10-29T08:13:17.043286Z"
    }
   },
   "cell_type": "code",
   "source": [
    "dev_dataset['logical_fallacies'].value_counts()"
   ],
   "id": "2c95a5702a3af305",
   "outputs": [
    {
     "data": {
      "text/plain": [
       "logical_fallacies\n",
       "intentional               99\n",
       "faulty generalization     84\n",
       "ad hominem                52\n",
       "ad populum                51\n",
       "fallacy of relevance      44\n",
       "false causality           43\n",
       "appeal to emotion         42\n",
       "fallacy of extension      40\n",
       "fallacy of logic          33\n",
       "false dilemma             29\n",
       "fallacy of credibility    26\n",
       "circular reasoning        18\n",
       "equivocation               9\n",
       "Name: count, dtype: int64"
      ]
     },
     "execution_count": 81,
     "metadata": {},
     "output_type": "execute_result"
    }
   ],
   "execution_count": 81
  },
  {
   "metadata": {
    "id": "1ead25f616a7f5b",
    "executionInfo": {
     "status": "ok",
     "timestamp": 1730105629943,
     "user_tz": -120,
     "elapsed": 283,
     "user": {
      "displayName": "Maria Raicu",
      "userId": "00664458830913320871"
     }
    },
    "ExecuteTime": {
     "end_time": "2024-10-29T08:13:19.018448Z",
     "start_time": "2024-10-29T08:13:18.955332Z"
    }
   },
   "cell_type": "code",
   "source": [
    "logical_fallacies = ['faulty generalization', 'intentional', 'ad hominem']\n",
    "train_data = train_dataset[train_dataset.logical_fallacies.isin(logical_fallacies)]\n",
    "test_data = test_dataset[test_dataset.logical_fallacies.isin(logical_fallacies)]\n",
    "dev_data = dev_dataset[dev_dataset.logical_fallacies.isin(logical_fallacies)]"
   ],
   "id": "1ead25f616a7f5b",
   "outputs": [],
   "execution_count": 82
  },
  {
   "metadata": {
    "colab": {
     "base_uri": "https://localhost:8080/"
    },
    "id": "9ae4c3a3a1c822dd",
    "executionInfo": {
     "status": "ok",
     "timestamp": 1730105630720,
     "user_tz": -120,
     "elapsed": 2,
     "user": {
      "displayName": "Maria Raicu",
      "userId": "00664458830913320871"
     }
    },
    "outputId": "ffdb6907-fb64-4ecc-d62c-86759d64a70c",
    "ExecuteTime": {
     "end_time": "2024-10-29T08:13:19.647228Z",
     "start_time": "2024-10-29T08:13:19.631214Z"
    }
   },
   "cell_type": "code",
   "source": [
    "len(train_data), len(test_data), len(dev_data)"
   ],
   "id": "9ae4c3a3a1c822dd",
   "outputs": [
    {
     "data": {
      "text/plain": [
       "(1011, 206, 235)"
      ]
     },
     "execution_count": 83,
     "metadata": {},
     "output_type": "execute_result"
    }
   ],
   "execution_count": 83
  },
  {
   "metadata": {
    "id": "d4fc748243f30a5e",
    "executionInfo": {
     "status": "ok",
     "timestamp": 1730105631430,
     "user_tz": -120,
     "elapsed": 303,
     "user": {
      "displayName": "Maria Raicu",
      "userId": "00664458830913320871"
     }
    },
    "ExecuteTime": {
     "end_time": "2024-10-29T08:13:20.047615Z",
     "start_time": "2024-10-29T08:13:20.028962Z"
    }
   },
   "cell_type": "code",
   "source": [
    "num_labels = len(logical_fallacies)\n",
    "\n",
    "id2label = {id: label for id, label in enumerate(logical_fallacies)}\n",
    "\n",
    "label2id = {label: id for id, label in enumerate(logical_fallacies)}"
   ],
   "id": "d4fc748243f30a5e",
   "outputs": [],
   "execution_count": 84
  },
  {
   "metadata": {
    "colab": {
     "base_uri": "https://localhost:8080/"
    },
    "id": "f180c9d7a6f22fd9",
    "executionInfo": {
     "status": "ok",
     "timestamp": 1730105632087,
     "user_tz": -120,
     "elapsed": 2,
     "user": {
      "displayName": "Maria Raicu",
      "userId": "00664458830913320871"
     }
    },
    "outputId": "53178e51-173d-4c29-a85a-241789e0123a",
    "ExecuteTime": {
     "end_time": "2024-10-29T08:13:20.476860Z",
     "start_time": "2024-10-29T08:13:20.460886Z"
    }
   },
   "cell_type": "code",
   "source": [
    "label2id"
   ],
   "id": "f180c9d7a6f22fd9",
   "outputs": [
    {
     "data": {
      "text/plain": [
       "{'faulty generalization': 0, 'intentional': 1, 'ad hominem': 2}"
      ]
     },
     "execution_count": 85,
     "metadata": {},
     "output_type": "execute_result"
    }
   ],
   "execution_count": 85
  },
  {
   "metadata": {
    "colab": {
     "base_uri": "https://localhost:8080/"
    },
    "id": "a7f6df207f87f268",
    "executionInfo": {
     "status": "ok",
     "timestamp": 1730105632775,
     "user_tz": -120,
     "elapsed": 296,
     "user": {
      "displayName": "Maria Raicu",
      "userId": "00664458830913320871"
     }
    },
    "outputId": "cbac9580-defc-4d88-de14-55adff51a919",
    "ExecuteTime": {
     "end_time": "2024-10-29T08:13:22.227717Z",
     "start_time": "2024-10-29T08:13:22.212180Z"
    }
   },
   "cell_type": "code",
   "source": [
    "id2label"
   ],
   "id": "a7f6df207f87f268",
   "outputs": [
    {
     "data": {
      "text/plain": [
       "{0: 'faulty generalization', 1: 'intentional', 2: 'ad hominem'}"
      ]
     },
     "execution_count": 86,
     "metadata": {},
     "output_type": "execute_result"
    }
   ],
   "execution_count": 86
  },
  {
   "metadata": {
    "colab": {
     "base_uri": "https://localhost:8080/"
    },
    "id": "8e7ba8ade702cbc2",
    "executionInfo": {
     "status": "ok",
     "timestamp": 1730105633788,
     "user_tz": -120,
     "elapsed": 2,
     "user": {
      "displayName": "Maria Raicu",
      "userId": "00664458830913320871"
     }
    },
    "outputId": "d94bc97c-c969-4b61-cc81-b68af325770d",
    "ExecuteTime": {
     "end_time": "2024-10-29T08:13:23.837946Z",
     "start_time": "2024-10-29T08:13:23.789928Z"
    }
   },
   "cell_type": "code",
   "source": [
    "train_data.loc[:, 'logical_fallacies_id'] = train_data['logical_fallacies'].apply(lambda x: label2id[x.strip()])\n",
    "test_data.loc[:, \"logical_fallacies_id\"] = test_data['logical_fallacies'].apply(lambda x: label2id[x.strip()])\n",
    "dev_data.loc[:, \"logical_fallacies_id\"] = dev_data['logical_fallacies'].apply(lambda x: label2id[x.strip()])\n",
    "train_data.head()"
   ],
   "id": "8e7ba8ade702cbc2",
   "outputs": [
    {
     "name": "stderr",
     "output_type": "stream",
     "text": [
      "C:\\Users\\mraic\\AppData\\Local\\Temp\\ipykernel_87272\\1354793187.py:1: SettingWithCopyWarning: \n",
      "A value is trying to be set on a copy of a slice from a DataFrame.\n",
      "Try using .loc[row_indexer,col_indexer] = value instead\n",
      "\n",
      "See the caveats in the documentation: https://pandas.pydata.org/pandas-docs/stable/user_guide/indexing.html#returning-a-view-versus-a-copy\n",
      "  train_data.loc[:, 'logical_fallacies_id'] = train_data['logical_fallacies'].apply(lambda x: label2id[x.strip()])\n",
      "C:\\Users\\mraic\\AppData\\Local\\Temp\\ipykernel_87272\\1354793187.py:2: SettingWithCopyWarning: \n",
      "A value is trying to be set on a copy of a slice from a DataFrame.\n",
      "Try using .loc[row_indexer,col_indexer] = value instead\n",
      "\n",
      "See the caveats in the documentation: https://pandas.pydata.org/pandas-docs/stable/user_guide/indexing.html#returning-a-view-versus-a-copy\n",
      "  test_data.loc[:, \"logical_fallacies_id\"] = test_data['logical_fallacies'].apply(lambda x: label2id[x.strip()])\n",
      "C:\\Users\\mraic\\AppData\\Local\\Temp\\ipykernel_87272\\1354793187.py:3: SettingWithCopyWarning: \n",
      "A value is trying to be set on a copy of a slice from a DataFrame.\n",
      "Try using .loc[row_indexer,col_indexer] = value instead\n",
      "\n",
      "See the caveats in the documentation: https://pandas.pydata.org/pandas-docs/stable/user_guide/indexing.html#returning-a-view-versus-a-copy\n",
      "  dev_data.loc[:, \"logical_fallacies_id\"] = dev_data['logical_fallacies'].apply(lambda x: label2id[x.strip()])\n"
     ]
    },
    {
     "data": {
      "text/plain": [
       "        logical_fallacies                                  source_article_ro  \\\n",
       "6   faulty generalization  Dacă interzicem Hummer-urile pentru că sunt dă...   \n",
       "8   faulty generalization   \"Ai întârziat în seara asta. Trebuie să înșeli!\"   \n",
       "11             ad hominem  Vă opuneți propunerii unui senator de a extind...   \n",
       "27  faulty generalization              Toți jucătorii de fotbal sunt proști.   \n",
       "28  faulty generalization  \"Verișoara mea a spus că cursul ei de matemati...   \n",
       "\n",
       "    logical_fallacies_id  \n",
       "6                      0  \n",
       "8                      0  \n",
       "11                     2  \n",
       "27                     0  \n",
       "28                     0  "
      ],
      "text/html": [
       "<div>\n",
       "<style scoped>\n",
       "    .dataframe tbody tr th:only-of-type {\n",
       "        vertical-align: middle;\n",
       "    }\n",
       "\n",
       "    .dataframe tbody tr th {\n",
       "        vertical-align: top;\n",
       "    }\n",
       "\n",
       "    .dataframe thead th {\n",
       "        text-align: right;\n",
       "    }\n",
       "</style>\n",
       "<table border=\"1\" class=\"dataframe\">\n",
       "  <thead>\n",
       "    <tr style=\"text-align: right;\">\n",
       "      <th></th>\n",
       "      <th>logical_fallacies</th>\n",
       "      <th>source_article_ro</th>\n",
       "      <th>logical_fallacies_id</th>\n",
       "    </tr>\n",
       "  </thead>\n",
       "  <tbody>\n",
       "    <tr>\n",
       "      <th>6</th>\n",
       "      <td>faulty generalization</td>\n",
       "      <td>Dacă interzicem Hummer-urile pentru că sunt dă...</td>\n",
       "      <td>0</td>\n",
       "    </tr>\n",
       "    <tr>\n",
       "      <th>8</th>\n",
       "      <td>faulty generalization</td>\n",
       "      <td>\"Ai întârziat în seara asta. Trebuie să înșeli!\"</td>\n",
       "      <td>0</td>\n",
       "    </tr>\n",
       "    <tr>\n",
       "      <th>11</th>\n",
       "      <td>ad hominem</td>\n",
       "      <td>Vă opuneți propunerii unui senator de a extind...</td>\n",
       "      <td>2</td>\n",
       "    </tr>\n",
       "    <tr>\n",
       "      <th>27</th>\n",
       "      <td>faulty generalization</td>\n",
       "      <td>Toți jucătorii de fotbal sunt proști.</td>\n",
       "      <td>0</td>\n",
       "    </tr>\n",
       "    <tr>\n",
       "      <th>28</th>\n",
       "      <td>faulty generalization</td>\n",
       "      <td>\"Verișoara mea a spus că cursul ei de matemati...</td>\n",
       "      <td>0</td>\n",
       "    </tr>\n",
       "  </tbody>\n",
       "</table>\n",
       "</div>"
      ]
     },
     "execution_count": 87,
     "metadata": {},
     "output_type": "execute_result"
    }
   ],
   "execution_count": 87
  },
  {
   "metadata": {
    "colab": {
     "base_uri": "https://localhost:8080/",
     "height": 272,
     "referenced_widgets": [
      "a3ec3d424fe841b8bb282b468643d296",
      "2851b8dbbcc840eeb242a8f99b35500b",
      "5f85c98c03f84deea441c4622c69640c",
      "4b3668a0b3144816bc46ac748f3faac2",
      "c83fde5b896b4a919b815b4c28192847",
      "1585c9c959d44ce4b828e1067cad0428",
      "5b06269ea53c476f818f2cdfcdd983ad",
      "65e482581b6f48f483284ae23ea1d71c",
      "e146f7cdcb5e41c6b97292b4da8d4ecb",
      "074b17e69d39488d966bb524ac2cc97c",
      "e8f289950c9941d6b2679a64568efb71",
      "7f12f086105848c4af55eeda9d90a930",
      "07075146a78e48e5900e15db771992cf",
      "828f8d0e40f1451fa9c7101588fb440c",
      "d7012dfbbb6f47e6a78382e98bd688ff",
      "1c4901ba904648a0a2f6ff28f1f9ab59",
      "091e9c06eaeb4a03a6cd376114a947cb",
      "73709094e3484b60848529d121b8007a",
      "ebd1b96fffbe4cfb87569e8025bd9a38",
      "9de09b64c3f14cd4b1ffa28c34994522",
      "deadacd6387344ed8f856f0074368b38",
      "9d6fe0558cf04729b43a233f9ba4f81d",
      "121c031488d547c18af54dedb2a771c7",
      "40f4439738ba4c0d8b309b974ef337a2",
      "bc6394537e94425cb1eb817191907835",
      "05db2d9dc6cc4f1da67d15b4ba2ba906",
      "9f6f934af1a14ae883a9be6961d6f9e7",
      "9d01fca4b7bc40ff9285dbbadfa99dc1",
      "9a48b89bfbe74ae8bab64d502e11dc18",
      "df0d03bb218945cfadc9ca739d3498dc",
      "a39b99ad1a9d4c42a92a3f1f43fb8d32",
      "d8fbe1efb324451abaf310650b5f1e27",
      "0dd47ec78f674093948d852de802d61d"
     ]
    },
    "id": "b19a9c94ca97236a",
    "executionInfo": {
     "status": "ok",
     "timestamp": 1730105640465,
     "user_tz": -120,
     "elapsed": 3271,
     "user": {
      "displayName": "Maria Raicu",
      "userId": "00664458830913320871"
     }
    },
    "outputId": "b33f340d-1cfd-4452-c206-d4e5906f0bfe",
    "ExecuteTime": {
     "end_time": "2024-10-29T08:13:34.527880Z",
     "start_time": "2024-10-29T08:13:33.575101Z"
    }
   },
   "cell_type": "code",
   "source": [
    "from transformers import BertTokenizerFast, BertTokenizer\n",
    "\n",
    "# ro-bert\n",
    "tokenizer = BertTokenizer.from_pretrained(\"dumitrescustefan/bert-base-romanian-uncased-v1\", max_length=512)"
   ],
   "id": "b19a9c94ca97236a",
   "outputs": [],
   "execution_count": 88
  },
  {
   "metadata": {
    "colab": {
     "base_uri": "https://localhost:8080/"
    },
    "id": "724a60340bd29f64",
    "executionInfo": {
     "status": "ok",
     "timestamp": 1730110187498,
     "user_tz": -120,
     "elapsed": 1382,
     "user": {
      "displayName": "Maria Raicu",
      "userId": "00664458830913320871"
     }
    },
    "outputId": "3b97f765-c233-4b4a-acc3-a4cb5ec3b4d2",
    "ExecuteTime": {
     "end_time": "2024-10-29T08:13:43.971735Z",
     "start_time": "2024-10-29T08:13:37.428067Z"
    }
   },
   "cell_type": "code",
   "source": [
    "from transformers import BertForSequenceClassification\n",
    "from torch import cuda\n",
    "\n",
    "device = 'cuda' if cuda.is_available() else 'cpu'\n",
    "model = BertForSequenceClassification.from_pretrained(\"dumitrescustefan/bert-base-romanian-uncased-v1\",\n",
    "                                                      num_labels=num_labels,\n",
    "                                                      id2label=id2label, label2id=label2id)\n",
    "\n",
    "# Make model weights contiguous\n",
    "for name, param in model.named_parameters():\n",
    "    if not param.is_contiguous():\n",
    "        param.data = param.data.contiguous()\n",
    "model.to(device)"
   ],
   "id": "724a60340bd29f64",
   "outputs": [
    {
     "name": "stderr",
     "output_type": "stream",
     "text": [
      "Some weights of BertForSequenceClassification were not initialized from the model checkpoint at dumitrescustefan/bert-base-romanian-uncased-v1 and are newly initialized: ['classifier.bias', 'classifier.weight']\n",
      "You should probably TRAIN this model on a down-stream task to be able to use it for predictions and inference.\n"
     ]
    },
    {
     "data": {
      "text/plain": [
       "BertForSequenceClassification(\n",
       "  (bert): BertModel(\n",
       "    (embeddings): BertEmbeddings(\n",
       "      (word_embeddings): Embedding(50000, 768, padding_idx=0)\n",
       "      (position_embeddings): Embedding(512, 768)\n",
       "      (token_type_embeddings): Embedding(2, 768)\n",
       "      (LayerNorm): LayerNorm((768,), eps=1e-12, elementwise_affine=True)\n",
       "      (dropout): Dropout(p=0.1, inplace=False)\n",
       "    )\n",
       "    (encoder): BertEncoder(\n",
       "      (layer): ModuleList(\n",
       "        (0-11): 12 x BertLayer(\n",
       "          (attention): BertAttention(\n",
       "            (self): BertSdpaSelfAttention(\n",
       "              (query): Linear(in_features=768, out_features=768, bias=True)\n",
       "              (key): Linear(in_features=768, out_features=768, bias=True)\n",
       "              (value): Linear(in_features=768, out_features=768, bias=True)\n",
       "              (dropout): Dropout(p=0.1, inplace=False)\n",
       "            )\n",
       "            (output): BertSelfOutput(\n",
       "              (dense): Linear(in_features=768, out_features=768, bias=True)\n",
       "              (LayerNorm): LayerNorm((768,), eps=1e-12, elementwise_affine=True)\n",
       "              (dropout): Dropout(p=0.1, inplace=False)\n",
       "            )\n",
       "          )\n",
       "          (intermediate): BertIntermediate(\n",
       "            (dense): Linear(in_features=768, out_features=3072, bias=True)\n",
       "            (intermediate_act_fn): GELUActivation()\n",
       "          )\n",
       "          (output): BertOutput(\n",
       "            (dense): Linear(in_features=3072, out_features=768, bias=True)\n",
       "            (LayerNorm): LayerNorm((768,), eps=1e-12, elementwise_affine=True)\n",
       "            (dropout): Dropout(p=0.1, inplace=False)\n",
       "          )\n",
       "        )\n",
       "      )\n",
       "    )\n",
       "    (pooler): BertPooler(\n",
       "      (dense): Linear(in_features=768, out_features=768, bias=True)\n",
       "      (activation): Tanh()\n",
       "    )\n",
       "  )\n",
       "  (dropout): Dropout(p=0.1, inplace=False)\n",
       "  (classifier): Linear(in_features=768, out_features=3, bias=True)\n",
       ")"
      ]
     },
     "execution_count": 89,
     "metadata": {},
     "output_type": "execute_result"
    }
   ],
   "execution_count": 89
  },
  {
   "metadata": {
    "id": "5689b40d9ce2688b",
    "executionInfo": {
     "status": "ok",
     "timestamp": 1730110191016,
     "user_tz": -120,
     "elapsed": 575,
     "user": {
      "displayName": "Maria Raicu",
      "userId": "00664458830913320871"
     }
    },
    "ExecuteTime": {
     "end_time": "2024-10-29T08:13:45.082645Z",
     "start_time": "2024-10-29T08:13:43.976019Z"
    }
   },
   "cell_type": "code",
   "source": [
    "train_encodings = tokenizer(list(train_data['source_article_ro']), padding=True, truncation=True, max_length=1024)\n",
    "test_encodings = tokenizer(list(test_data['source_article_ro']), padding=True, truncation=True, max_length=1024)\n",
    "dev_encodings = tokenizer(list(dev_data['source_article_ro']), padding=True, truncation=True, max_length=1024)"
   ],
   "id": "5689b40d9ce2688b",
   "outputs": [],
   "execution_count": 90
  },
  {
   "metadata": {
    "id": "c2288915c8653e71",
    "executionInfo": {
     "status": "ok",
     "timestamp": 1730110192460,
     "user_tz": -120,
     "elapsed": 278,
     "user": {
      "displayName": "Maria Raicu",
      "userId": "00664458830913320871"
     }
    },
    "ExecuteTime": {
     "end_time": "2024-10-29T08:13:45.098762Z",
     "start_time": "2024-10-29T08:13:45.082645Z"
    }
   },
   "cell_type": "code",
   "source": [
    "train_labels = list(train_data['logical_fallacies_id'])\n",
    "test_labels = list(test_data['logical_fallacies_id'])\n",
    "dev_labels = list(dev_data['logical_fallacies_id'])"
   ],
   "id": "c2288915c8653e71",
   "outputs": [],
   "execution_count": 91
  },
  {
   "metadata": {
    "id": "c07bbe364c076497",
    "executionInfo": {
     "status": "ok",
     "timestamp": 1730110285671,
     "user_tz": -120,
     "elapsed": 418,
     "user": {
      "displayName": "Maria Raicu",
      "userId": "00664458830913320871"
     }
    },
    "ExecuteTime": {
     "end_time": "2024-10-29T08:13:45.114447Z",
     "start_time": "2024-10-29T08:13:45.102602Z"
    }
   },
   "cell_type": "code",
   "source": [
    "class DataLoader(Dataset):\n",
    "    \"\"\"\n",
    "    Custom Dataset class for handling tokenized text data and corresponding labels.\n",
    "    Inherits from torch.utils.data.Dataset.\n",
    "    \"\"\"\n",
    "\n",
    "    def __init__(self, encodings, labels):\n",
    "        \"\"\"\n",
    "        Initializes the DataLoader class with encodings and labels.\n",
    "\n",
    "        Args:\n",
    "            encodings (dict): A dictionary containing tokenized input text data\n",
    "                              (e.g., 'input_ids', 'token_type_ids', 'attention_mask').\n",
    "            labels (list): A list of integer labels for the input text data.\n",
    "        \"\"\"\n",
    "        self.encodings = encodings\n",
    "        self.labels = labels\n",
    "\n",
    "    def __getitem__(self, idx):\n",
    "        \"\"\"\n",
    "        Returns a dictionary containing tokenized data and the corresponding label for a given index.\n",
    "\n",
    "        Args:\n",
    "            idx (int): The index of the data item to retrieve.\n",
    "\n",
    "        Returns:\n",
    "            item (dict): A dictionary containing the tokenized data and the corresponding label.\n",
    "        \"\"\"\n",
    "        # Retrieve tokenized data for the given index\n",
    "        item = {key: torch.tensor(val[idx]) for key, val in self.encodings.items()}\n",
    "        # Add the label for the given index to the item dictionary\n",
    "        item['labels'] = torch.tensor(self.labels[idx])\n",
    "        return item\n",
    "        \n",
    "        # item = {key: torch.tensor(val[idx]).contiguous() for key, val in self.encodings.items()}\n",
    "        # item['labels'] = torch.tensor(self.labels[idx]).contiguous()\n",
    "        # return item\n",
    "\n",
    "    def __len__(self):\n",
    "        \"\"\"\n",
    "        Returns the number of data items in the dataset.\n",
    "\n",
    "        Returns:\n",
    "            (int): The number of data items in the dataset.\n",
    "        \"\"\"\n",
    "        return len(self.labels)"
   ],
   "id": "c07bbe364c076497",
   "outputs": [],
   "execution_count": 92
  },
  {
   "metadata": {
    "id": "efe5c3a92843ab0c",
    "executionInfo": {
     "status": "ok",
     "timestamp": 1730110289661,
     "user_tz": -120,
     "elapsed": 292,
     "user": {
      "displayName": "Maria Raicu",
      "userId": "00664458830913320871"
     }
    },
    "ExecuteTime": {
     "end_time": "2024-10-29T08:13:45.130411Z",
     "start_time": "2024-10-29T08:13:45.114447Z"
    }
   },
   "cell_type": "code",
   "source": [
    "train_dataloader = DataLoader(train_encodings, train_labels)\n",
    "test_dataloader = DataLoader(test_encodings, test_labels)\n",
    "dev_dataloader = DataLoader(dev_encodings, dev_labels)"
   ],
   "id": "efe5c3a92843ab0c",
   "outputs": [],
   "execution_count": 93
  },
  {
   "metadata": {
    "id": "8b757d6210501864",
    "executionInfo": {
     "status": "ok",
     "timestamp": 1730110292360,
     "user_tz": -120,
     "elapsed": 292,
     "user": {
      "displayName": "Maria Raicu",
      "userId": "00664458830913320871"
     }
    },
    "ExecuteTime": {
     "end_time": "2024-10-29T08:13:45.146443Z",
     "start_time": "2024-10-29T08:13:45.130411Z"
    }
   },
   "cell_type": "code",
   "source": [
    "from transformers import TrainingArguments, Trainer\n",
    "from sklearn.metrics import accuracy_score, precision_recall_fscore_support\n",
    "\n",
    "\n",
    "def compute_metrics(pred):\n",
    "    \"\"\"\n",
    "    Computes accuracy, F1, precision, and recall for a given set of predictions.\n",
    "\n",
    "    Args:\n",
    "        pred (obj): An object containing label_ids and predictions attributes.\n",
    "            - label_ids (array-like): A 1D array of true class labels.\n",
    "            - predictions (array-like): A 2D array where each row represents\n",
    "              an observation, and each column represents the probability of\n",
    "              that observation belonging to a certain class.\n",
    "\n",
    "    Returns:\n",
    "        dict: A dictionary containing the following metrics:\n",
    "            - Accuracy (float): The proportion of correctly classified instances.\n",
    "            - F1 (float): The macro F1 score, which is the harmonic mean of precision\n",
    "              and recall. Macro averaging calculates the metric independently for\n",
    "              each class and then takes the average.\n",
    "            - Precision (float): The macro precision, which is the number of true\n",
    "              positives divided by the sum of true positives and false positives.\n",
    "            - Recall (float): The macro recall, which is the number of true positives\n",
    "              divided by the sum of true positives and false negatives.\n",
    "    \"\"\"\n",
    "    # Extract true labels from the input object\n",
    "    labels = pred.label_ids\n",
    "\n",
    "    # Obtain predicted class labels by finding the column index with the maximum probability\n",
    "    preds = pred.predictions.argmax(-1)\n",
    "\n",
    "    # Compute macro precision, recall, and F1 score using sklearn's precision_recall_fscore_support function\n",
    "    precision, recall, f1, _ = precision_recall_fscore_support(labels, preds, average='macro')\n",
    "\n",
    "    # Calculate the accuracy score using sklearn's accuracy_score function\n",
    "    acc = accuracy_score(labels, preds)\n",
    "\n",
    "    # Return the computed metrics as a dictionary\n",
    "    return {\n",
    "        'Accuracy': acc,\n",
    "        'F1': f1,\n",
    "        'Precision': precision,\n",
    "        'Recall': recall\n",
    "    }"
   ],
   "id": "8b757d6210501864",
   "outputs": [],
   "execution_count": 94
  },
  {
   "metadata": {
    "colab": {
     "base_uri": "https://localhost:8080/"
    },
    "id": "b20c72341e7c1a99",
    "executionInfo": {
     "status": "ok",
     "timestamp": 1730110301316,
     "user_tz": -120,
     "elapsed": 320,
     "user": {
      "displayName": "Maria Raicu",
      "userId": "00664458830913320871"
     }
    },
    "outputId": "3512d5d0-e773-43b9-ad05-b6811d0addc5",
    "ExecuteTime": {
     "end_time": "2024-10-29T08:13:45.389669Z",
     "start_time": "2024-10-29T08:13:45.146443Z"
    }
   },
   "cell_type": "code",
   "source": [
    "training_args = TrainingArguments(\n",
    "    # The output directory where the model predictions and checkpoints will be written\n",
    "    output_dir=\"./results\",\n",
    "    eval_strategy=\"epoch\",\n",
    "    learning_rate=2e-5,\n",
    "    per_device_train_batch_size=16,\n",
    "    per_device_eval_batch_size=16,\n",
    "    num_train_epochs=3,\n",
    "    weight_decay=0.01\n",
    ")\n",
    "\n",
    "trainer = Trainer(\n",
    "    # The pre-trained model that will be fine-tuned\n",
    "    model=model,\n",
    "    # Training arguments that we defined above\n",
    "    args=training_args,\n",
    "    train_dataset=train_dataloader,\n",
    "    eval_dataset=dev_dataloader,\n",
    "    compute_metrics=compute_metrics\n",
    ")"
   ],
   "id": "b20c72341e7c1a99",
   "outputs": [],
   "execution_count": 95
  },
  {
   "metadata": {
    "colab": {
     "base_uri": "https://localhost:8080/",
     "height": 363
    },
    "id": "67751272bb780aba",
    "executionInfo": {
     "status": "ok",
     "timestamp": 1730110398318,
     "user_tz": -120,
     "elapsed": 94068,
     "user": {
      "displayName": "Maria Raicu",
      "userId": "00664458830913320871"
     }
    },
    "outputId": "6adf8dda-d196-4764-c4c8-df9186f27db2",
    "ExecuteTime": {
     "end_time": "2024-10-29T09:07:04.565361Z",
     "start_time": "2024-10-29T08:13:53.131469Z"
    }
   },
   "cell_type": "code",
   "source": [
    "# Start training\n",
    "trainer.train()"
   ],
   "id": "67751272bb780aba",
   "outputs": [
    {
     "data": {
      "text/plain": [
       "<IPython.core.display.HTML object>"
      ],
      "text/html": [
       "\n",
       "    <div>\n",
       "      \n",
       "      <progress value='192' max='192' style='width:300px; height:20px; vertical-align: middle;'></progress>\n",
       "      [192/192 52:50, Epoch 3/3]\n",
       "    </div>\n",
       "    <table border=\"1\" class=\"dataframe\">\n",
       "  <thead>\n",
       " <tr style=\"text-align: left;\">\n",
       "      <th>Epoch</th>\n",
       "      <th>Training Loss</th>\n",
       "      <th>Validation Loss</th>\n",
       "      <th>Accuracy</th>\n",
       "      <th>F1</th>\n",
       "      <th>Precision</th>\n",
       "      <th>Recall</th>\n",
       "    </tr>\n",
       "  </thead>\n",
       "  <tbody>\n",
       "    <tr>\n",
       "      <td>1</td>\n",
       "      <td>No log</td>\n",
       "      <td>0.709409</td>\n",
       "      <td>0.710638</td>\n",
       "      <td>0.702066</td>\n",
       "      <td>0.703559</td>\n",
       "      <td>0.706756</td>\n",
       "    </tr>\n",
       "    <tr>\n",
       "      <td>2</td>\n",
       "      <td>No log</td>\n",
       "      <td>0.606049</td>\n",
       "      <td>0.757447</td>\n",
       "      <td>0.756657</td>\n",
       "      <td>0.764947</td>\n",
       "      <td>0.751045</td>\n",
       "    </tr>\n",
       "    <tr>\n",
       "      <td>3</td>\n",
       "      <td>No log</td>\n",
       "      <td>0.598689</td>\n",
       "      <td>0.778723</td>\n",
       "      <td>0.776729</td>\n",
       "      <td>0.780145</td>\n",
       "      <td>0.777010</td>\n",
       "    </tr>\n",
       "  </tbody>\n",
       "</table><p>"
      ]
     },
     "metadata": {},
     "output_type": "display_data"
    },
    {
     "data": {
      "text/plain": [
       "TrainOutput(global_step=192, training_loss=0.6553902626037598, metrics={'train_runtime': 3188.0858, 'train_samples_per_second': 0.951, 'train_steps_per_second': 0.06, 'total_flos': 397452859320510.0, 'train_loss': 0.6553902626037598, 'epoch': 3.0})"
      ]
     },
     "execution_count": 96,
     "metadata": {},
     "output_type": "execute_result"
    }
   ],
   "execution_count": 96
  },
  {
   "metadata": {
    "colab": {
     "base_uri": "https://localhost:8080/",
     "height": 74
    },
    "id": "7b631a5cf54dde76",
    "executionInfo": {
     "status": "ok",
     "timestamp": 1730111108003,
     "user_tz": -120,
     "elapsed": 3689,
     "user": {
      "displayName": "Maria Raicu",
      "userId": "00664458830913320871"
     }
    },
    "outputId": "ce65d369-b04f-4924-f9ac-b38a5bae2e84",
    "ExecuteTime": {
     "end_time": "2024-10-29T10:19:49.256549Z",
     "start_time": "2024-10-29T10:17:28.013728Z"
    }
   },
   "cell_type": "code",
   "source": [
    "q = [trainer.evaluate(eval_dataset=dataloader) for dataloader in [dev_dataloader, test_dataloader]]\n",
    "print(q)\n",
    "results_df = pd.DataFrame(q, index=[\"dev\", \"test\"])"
   ],
   "id": "7b631a5cf54dde76",
   "outputs": [
    {
     "data": {
      "text/plain": [
       "<IPython.core.display.HTML object>"
      ],
      "text/html": [
       "\n",
       "    <div>\n",
       "      \n",
       "      <progress value='28' max='15' style='width:300px; height:20px; vertical-align: middle;'></progress>\n",
       "      [15/15 02:14]\n",
       "    </div>\n",
       "    "
      ]
     },
     "metadata": {},
     "output_type": "display_data"
    },
    {
     "name": "stdout",
     "output_type": "stream",
     "text": [
      "[{'eval_loss': 0.5986889004707336, 'eval_Accuracy': 0.7787234042553192, 'eval_F1': 0.7767288824174754, 'eval_Precision': 0.780145442245899, 'eval_Recall': 0.777010027010027, 'eval_runtime': 75.2596, 'eval_samples_per_second': 3.123, 'eval_steps_per_second': 0.199, 'epoch': 3.0}, {'eval_loss': 0.727419376373291, 'eval_Accuracy': 0.6504854368932039, 'eval_F1': 0.6522906407250133, 'eval_Precision': 0.6488706323096018, 'eval_Recall': 0.6637624022603325, 'eval_runtime': 65.4869, 'eval_samples_per_second': 3.146, 'eval_steps_per_second': 0.199, 'epoch': 3.0}]\n"
     ]
    }
   ],
   "execution_count": 97
  },
  {
   "metadata": {},
   "cell_type": "markdown",
   "source": "",
   "id": "4dfeac3f3227cb91"
  },
  {
   "cell_type": "code",
   "source": [
    "print(results_df.iloc[:, :5])"
   ],
   "metadata": {
    "colab": {
     "base_uri": "https://localhost:8080/"
    },
    "id": "t9K1Zal3qLRv",
    "executionInfo": {
     "status": "ok",
     "timestamp": 1730111128772,
     "user_tz": -120,
     "elapsed": 301,
     "user": {
      "displayName": "Maria Raicu",
      "userId": "00664458830913320871"
     }
    },
    "outputId": "f5bec47d-9b9d-4ea0-d85e-e799ae11406b",
    "ExecuteTime": {
     "end_time": "2024-10-29T10:44:36.503090Z",
     "start_time": "2024-10-29T10:44:36.324253Z"
    }
   },
   "id": "t9K1Zal3qLRv",
   "outputs": [
    {
     "name": "stdout",
     "output_type": "stream",
     "text": [
      "      eval_loss  eval_Accuracy   eval_F1  eval_Precision  eval_Recall\n",
      "dev    0.598689       0.778723  0.776729        0.780145     0.777010\n",
      "test   0.727419       0.650485  0.652291        0.648871     0.663762\n"
     ]
    }
   ],
   "execution_count": 98
  },
  {
   "metadata": {
    "id": "d9bf99d7f9565e21",
    "executionInfo": {
     "status": "ok",
     "timestamp": 1730111144302,
     "user_tz": -120,
     "elapsed": 290,
     "user": {
      "displayName": "Maria Raicu",
      "userId": "00664458830913320871"
     }
    },
    "ExecuteTime": {
     "end_time": "2024-10-29T10:44:37.342521Z",
     "start_time": "2024-10-29T10:44:37.304548Z"
    }
   },
   "cell_type": "code",
   "source": [
    "def predict(text):\n",
    "    \"\"\"\n",
    "    Predicts the class label for a given input text\n",
    "\n",
    "    Args:\n",
    "        text (str): The input text for which the class label needs to be predicted.\n",
    "\n",
    "    Returns:\n",
    "        probs (torch.Tensor): Class probabilities for the input text.\n",
    "        pred_label_idx (torch.Tensor): The index of the predicted class label.\n",
    "        pred_label (str): The predicted class label.\n",
    "    \"\"\"\n",
    "    # Tokenize the input text and move tensors to the GPU if available\n",
    "    inputs = tokenizer(text, padding=True, truncation=True, max_length=512, return_tensors=\"pt\").to(\"cuda\")\n",
    "\n",
    "    # Get model output (logits)\n",
    "    outputs = model(**inputs)\n",
    "\n",
    "    probs = outputs[0].softmax(1)\n",
    "    \"\"\" Explanation outputs: The BERT model returns a tuple containing the output logits (and possibly other elements depending on the model configuration). In this case, the output logits are the first element in the tuple, which is why we access it using outputs[0].\n",
    "\n",
    "    outputs[0]: This is a tensor containing the raw output logits for each class. The shape of the tensor is (batch_size, num_classes) where batch_size is the number of input samples (in this case, 1, as we are predicting for a single input text) and num_classes is the number of target classes.\n",
    "\n",
    "    softmax(1): The softmax function is applied along dimension 1 (the class dimension) to convert the raw logits into class probabilities. Softmax normalizes the logits so that they sum to 1, making them interpretable as probabilities. \"\"\"\n",
    "\n",
    "    # Get the index of the class with the highest probability\n",
    "    # argmax() finds the index of the maximum value in the tensor along a specified dimension.\n",
    "    # By default, if no dimension is specified, it returns the index of the maximum value in the flattened tensor.\n",
    "    pred_label_idx = probs.argmax()\n",
    "\n",
    "    # Now map the predicted class index to the actual class label\n",
    "    # Since pred_label_idx is a tensor containing a single value (the predicted class index),\n",
    "    # the .item() method is used to extract the value as a scalar\n",
    "    pred_label = model.config.id2label[pred_label_idx.item()]\n",
    "\n",
    "    return probs, pred_label_idx, pred_label"
   ],
   "id": "d9bf99d7f9565e21",
   "outputs": [],
   "execution_count": 99
  },
  {
   "metadata": {
    "colab": {
     "base_uri": "https://localhost:8080/"
    },
    "id": "9a8fb7c5effdfeb4",
    "executionInfo": {
     "status": "ok",
     "timestamp": 1730111242000,
     "user_tz": -120,
     "elapsed": 1924,
     "user": {
      "displayName": "Maria Raicu",
      "userId": "00664458830913320871"
     }
    },
    "outputId": "498ea1cc-dfdc-41a9-bb2d-dfed3fffe746",
    "ExecuteTime": {
     "end_time": "2024-10-29T10:44:42.680272Z",
     "start_time": "2024-10-29T10:44:37.947356Z"
    }
   },
   "cell_type": "code",
   "source": [
    "model_path = \"logical-fallacies-bert-3-classes-model\"\n",
    "trainer.save_model(model_path)\n",
    "tokenizer.save_pretrained(model_path)"
   ],
   "id": "9a8fb7c5effdfeb4",
   "outputs": [
    {
     "data": {
      "text/plain": [
       "('logical-fallacies-bert-3-classes-model\\\\tokenizer_config.json',\n",
       " 'logical-fallacies-bert-3-classes-model\\\\special_tokens_map.json',\n",
       " 'logical-fallacies-bert-3-classes-model\\\\vocab.txt',\n",
       " 'logical-fallacies-bert-3-classes-model\\\\added_tokens.json')"
      ]
     },
     "execution_count": 100,
     "metadata": {},
     "output_type": "execute_result"
    }
   ],
   "execution_count": 100
  },
  {
   "metadata": {
    "colab": {
     "base_uri": "https://localhost:8080/"
    },
    "id": "2f1170b4aeb3595",
    "executionInfo": {
     "status": "ok",
     "timestamp": 1730111264064,
     "user_tz": -120,
     "elapsed": 1124,
     "user": {
      "displayName": "Maria Raicu",
      "userId": "00664458830913320871"
     }
    },
    "outputId": "ed08bf86-979b-46c3-925c-379cd424a8a7",
    "ExecuteTime": {
     "end_time": "2024-10-29T10:54:48.332568Z",
     "start_time": "2024-10-29T10:54:47.982718Z"
    }
   },
   "cell_type": "code",
   "source": [
    "from transformers import pipeline\n",
    "\n",
    "model_path = \"logical-fallacies-bert-3-classes-model\"\n",
    "\n",
    "model = BertForSequenceClassification.from_pretrained(model_path)\n",
    "tokenizer = BertTokenizerFast.from_pretrained(model_path)\n",
    "nlp = pipeline(\"text-classification\", model=model, tokenizer=tokenizer)"
   ],
   "id": "2f1170b4aeb3595",
   "outputs": [],
   "execution_count": 109
  },
  {
   "cell_type": "code",
   "source": [
    "nlp(\"Toate florile nu rămân deschise pentru totdeauna. Trandafirii sunt un tip de plante. Prin urmare, toate plantele nu rămân deschise pentru totdeauna..\")\n",
    "\n",
    "# faulty generalization"
   ],
   "metadata": {
    "colab": {
     "base_uri": "https://localhost:8080/"
    },
    "id": "SpbrlVsvrmZQ",
    "executionInfo": {
     "status": "ok",
     "timestamp": 1730111872885,
     "user_tz": -120,
     "elapsed": 272,
     "user": {
      "displayName": "Maria Raicu",
      "userId": "00664458830913320871"
     }
    },
    "outputId": "11e18ea0-1310-44f5-e3f8-95eecef5a9f3",
    "ExecuteTime": {
     "end_time": "2024-10-29T10:54:52.417827Z",
     "start_time": "2024-10-29T10:54:52.349425Z"
    }
   },
   "id": "SpbrlVsvrmZQ",
   "outputs": [
    {
     "data": {
      "text/plain": [
       "[{'label': 'faulty generalization', 'score': 0.9594514966011047}]"
      ]
     },
     "execution_count": 110,
     "metadata": {},
     "output_type": "execute_result"
    }
   ],
   "execution_count": 110
  },
  {
   "cell_type": "code",
   "source": [
    "nlp(\"Din moment ce nimeni nu-mi poate arăta o floare care rămâne deschisă pentru totdeauna, toate florile nu rămân deschise pentru totdeauna.\")\n",
    "\n",
    "# intentional"
   ],
   "metadata": {
    "colab": {
     "base_uri": "https://localhost:8080/"
    },
    "id": "twtL0VPLr8AK",
    "executionInfo": {
     "status": "ok",
     "timestamp": 1730111592430,
     "user_tz": -120,
     "elapsed": 294,
     "user": {
      "displayName": "Maria Raicu",
      "userId": "00664458830913320871"
     }
    },
    "outputId": "5075023a-e990-4546-bf22-709f52f71001",
    "ExecuteTime": {
     "end_time": "2024-10-29T10:54:57.242016Z",
     "start_time": "2024-10-29T10:54:57.122662Z"
    }
   },
   "id": "twtL0VPLr8AK",
   "outputs": [
    {
     "data": {
      "text/plain": [
       "[{'label': 'faulty generalization', 'score': 0.9295602440834045}]"
      ]
     },
     "execution_count": 111,
     "metadata": {},
     "output_type": "execute_result"
    }
   ],
   "execution_count": 111
  },
  {
   "cell_type": "code",
   "source": [
    "nlp(\"Toate produsele electronice au nevoie de electricitate.\")\n",
    "# faulty generalization"
   ],
   "metadata": {
    "colab": {
     "base_uri": "https://localhost:8080/"
    },
    "id": "0bjnKtr-quDq",
    "executionInfo": {
     "status": "ok",
     "timestamp": 1730111519673,
     "user_tz": -120,
     "elapsed": 633,
     "user": {
      "displayName": "Maria Raicu",
      "userId": "00664458830913320871"
     }
    },
    "outputId": "5264dc73-3dea-48e6-9a96-2a42d6f3ac80",
    "ExecuteTime": {
     "end_time": "2024-10-29T10:54:58.418654Z",
     "start_time": "2024-10-29T10:54:58.302873Z"
    }
   },
   "id": "0bjnKtr-quDq",
   "outputs": [
    {
     "data": {
      "text/plain": [
       "[{'label': 'faulty generalization', 'score': 0.879109263420105}]"
      ]
     },
     "execution_count": 112,
     "metadata": {},
     "output_type": "execute_result"
    }
   ],
   "execution_count": 112
  },
  {
   "cell_type": "code",
   "source": [
    "nlp(\"Jake susține că toți cei din familia lui nu au fost niciodată în Europa. Dar Jake este un bărbat needucat, așa că afirmația lui trebuie să fie falsă.\")\n",
    "# ad hominem"
   ],
   "metadata": {
    "colab": {
     "base_uri": "https://localhost:8080/"
    },
    "id": "olfKX5ybsH9f",
    "executionInfo": {
     "status": "ok",
     "timestamp": 1730111646716,
     "user_tz": -120,
     "elapsed": 587,
     "user": {
      "displayName": "Maria Raicu",
      "userId": "00664458830913320871"
     }
    },
    "outputId": "a215ae6c-eb1b-42f4-f938-24405cb27cb0",
    "ExecuteTime": {
     "end_time": "2024-10-29T10:45:03.556053Z",
     "start_time": "2024-10-29T10:45:03.437893Z"
    }
   },
   "id": "olfKX5ybsH9f",
   "outputs": [
    {
     "data": {
      "text/plain": [
       "[{'label': 'ad hominem', 'score': 0.7307600378990173}]"
      ]
     },
     "execution_count": 105,
     "metadata": {},
     "output_type": "execute_result"
    }
   ],
   "execution_count": 105
  },
  {
   "cell_type": "code",
   "source": [
    "nlp(\"Nu există rapoarte care să ateste că cineva a avut probleme cu nerespectarea regulilor rutiere; prin urmare, toți oamenii ar trebui să respecte regulile de drum.\")\n",
    "\n",
    "# intentional"
   ],
   "metadata": {
    "colab": {
     "base_uri": "https://localhost:8080/"
    },
    "id": "zW_jOb_9sKgy",
    "executionInfo": {
     "status": "ok",
     "timestamp": 1730111718228,
     "user_tz": -120,
     "elapsed": 348,
     "user": {
      "displayName": "Maria Raicu",
      "userId": "00664458830913320871"
     }
    },
    "outputId": "83f0a570-ffbd-4be0-d3fc-c3b97b767263",
    "ExecuteTime": {
     "end_time": "2024-10-29T10:45:04.606182Z",
     "start_time": "2024-10-29T10:45:04.517143Z"
    }
   },
   "id": "zW_jOb_9sKgy",
   "outputs": [
    {
     "data": {
      "text/plain": [
       "[{'label': 'faulty generalization', 'score': 0.7639155387878418}]"
      ]
     },
     "execution_count": 106,
     "metadata": {},
     "output_type": "execute_result"
    }
   ],
   "execution_count": 106
  },
  {
   "metadata": {},
   "cell_type": "code",
   "outputs": [],
   "execution_count": null,
   "source": "",
   "id": "e9fb27f8e31eb0f8"
  }
 ],
 "metadata": {
  "kernelspec": {
   "display_name": "Python 3 (ipykernel)",
   "name": "python3",
   "language": "python"
  },
  "language_info": {
   "codemirror_mode": {
    "name": "ipython",
    "version": 2
   },
   "file_extension": ".py",
   "mimetype": "text/x-python",
   "name": "python",
   "nbconvert_exporter": "python",
   "pygments_lexer": "ipython2",
   "version": "2.7.6"
  },
  "colab": {
   "provenance": [],
   "gpuType": "T4"
  },
  "accelerator": "GPU",
  "widgets": {
   "application/vnd.jupyter.widget-state+json": {
    "a3ec3d424fe841b8bb282b468643d296": {
     "model_module": "@jupyter-widgets/controls",
     "model_name": "HBoxModel",
     "model_module_version": "1.5.0",
     "state": {
      "_dom_classes": [],
      "_model_module": "@jupyter-widgets/controls",
      "_model_module_version": "1.5.0",
      "_model_name": "HBoxModel",
      "_view_count": null,
      "_view_module": "@jupyter-widgets/controls",
      "_view_module_version": "1.5.0",
      "_view_name": "HBoxView",
      "box_style": "",
      "children": [
       "IPY_MODEL_2851b8dbbcc840eeb242a8f99b35500b",
       "IPY_MODEL_5f85c98c03f84deea441c4622c69640c",
       "IPY_MODEL_4b3668a0b3144816bc46ac748f3faac2"
      ],
      "layout": "IPY_MODEL_c83fde5b896b4a919b815b4c28192847"
     }
    },
    "2851b8dbbcc840eeb242a8f99b35500b": {
     "model_module": "@jupyter-widgets/controls",
     "model_name": "HTMLModel",
     "model_module_version": "1.5.0",
     "state": {
      "_dom_classes": [],
      "_model_module": "@jupyter-widgets/controls",
      "_model_module_version": "1.5.0",
      "_model_name": "HTMLModel",
      "_view_count": null,
      "_view_module": "@jupyter-widgets/controls",
      "_view_module_version": "1.5.0",
      "_view_name": "HTMLView",
      "description": "",
      "description_tooltip": null,
      "layout": "IPY_MODEL_1585c9c959d44ce4b828e1067cad0428",
      "placeholder": "​",
      "style": "IPY_MODEL_5b06269ea53c476f818f2cdfcdd983ad",
      "value": "tokenizer_config.json: 100%"
     }
    },
    "5f85c98c03f84deea441c4622c69640c": {
     "model_module": "@jupyter-widgets/controls",
     "model_name": "FloatProgressModel",
     "model_module_version": "1.5.0",
     "state": {
      "_dom_classes": [],
      "_model_module": "@jupyter-widgets/controls",
      "_model_module_version": "1.5.0",
      "_model_name": "FloatProgressModel",
      "_view_count": null,
      "_view_module": "@jupyter-widgets/controls",
      "_view_module_version": "1.5.0",
      "_view_name": "ProgressView",
      "bar_style": "success",
      "description": "",
      "description_tooltip": null,
      "layout": "IPY_MODEL_65e482581b6f48f483284ae23ea1d71c",
      "max": 59,
      "min": 0,
      "orientation": "horizontal",
      "style": "IPY_MODEL_e146f7cdcb5e41c6b97292b4da8d4ecb",
      "value": 59
     }
    },
    "4b3668a0b3144816bc46ac748f3faac2": {
     "model_module": "@jupyter-widgets/controls",
     "model_name": "HTMLModel",
     "model_module_version": "1.5.0",
     "state": {
      "_dom_classes": [],
      "_model_module": "@jupyter-widgets/controls",
      "_model_module_version": "1.5.0",
      "_model_name": "HTMLModel",
      "_view_count": null,
      "_view_module": "@jupyter-widgets/controls",
      "_view_module_version": "1.5.0",
      "_view_name": "HTMLView",
      "description": "",
      "description_tooltip": null,
      "layout": "IPY_MODEL_074b17e69d39488d966bb524ac2cc97c",
      "placeholder": "​",
      "style": "IPY_MODEL_e8f289950c9941d6b2679a64568efb71",
      "value": " 59.0/59.0 [00:00&lt;00:00, 4.03kB/s]"
     }
    },
    "c83fde5b896b4a919b815b4c28192847": {
     "model_module": "@jupyter-widgets/base",
     "model_name": "LayoutModel",
     "model_module_version": "1.2.0",
     "state": {
      "_model_module": "@jupyter-widgets/base",
      "_model_module_version": "1.2.0",
      "_model_name": "LayoutModel",
      "_view_count": null,
      "_view_module": "@jupyter-widgets/base",
      "_view_module_version": "1.2.0",
      "_view_name": "LayoutView",
      "align_content": null,
      "align_items": null,
      "align_self": null,
      "border": null,
      "bottom": null,
      "display": null,
      "flex": null,
      "flex_flow": null,
      "grid_area": null,
      "grid_auto_columns": null,
      "grid_auto_flow": null,
      "grid_auto_rows": null,
      "grid_column": null,
      "grid_gap": null,
      "grid_row": null,
      "grid_template_areas": null,
      "grid_template_columns": null,
      "grid_template_rows": null,
      "height": null,
      "justify_content": null,
      "justify_items": null,
      "left": null,
      "margin": null,
      "max_height": null,
      "max_width": null,
      "min_height": null,
      "min_width": null,
      "object_fit": null,
      "object_position": null,
      "order": null,
      "overflow": null,
      "overflow_x": null,
      "overflow_y": null,
      "padding": null,
      "right": null,
      "top": null,
      "visibility": null,
      "width": null
     }
    },
    "1585c9c959d44ce4b828e1067cad0428": {
     "model_module": "@jupyter-widgets/base",
     "model_name": "LayoutModel",
     "model_module_version": "1.2.0",
     "state": {
      "_model_module": "@jupyter-widgets/base",
      "_model_module_version": "1.2.0",
      "_model_name": "LayoutModel",
      "_view_count": null,
      "_view_module": "@jupyter-widgets/base",
      "_view_module_version": "1.2.0",
      "_view_name": "LayoutView",
      "align_content": null,
      "align_items": null,
      "align_self": null,
      "border": null,
      "bottom": null,
      "display": null,
      "flex": null,
      "flex_flow": null,
      "grid_area": null,
      "grid_auto_columns": null,
      "grid_auto_flow": null,
      "grid_auto_rows": null,
      "grid_column": null,
      "grid_gap": null,
      "grid_row": null,
      "grid_template_areas": null,
      "grid_template_columns": null,
      "grid_template_rows": null,
      "height": null,
      "justify_content": null,
      "justify_items": null,
      "left": null,
      "margin": null,
      "max_height": null,
      "max_width": null,
      "min_height": null,
      "min_width": null,
      "object_fit": null,
      "object_position": null,
      "order": null,
      "overflow": null,
      "overflow_x": null,
      "overflow_y": null,
      "padding": null,
      "right": null,
      "top": null,
      "visibility": null,
      "width": null
     }
    },
    "5b06269ea53c476f818f2cdfcdd983ad": {
     "model_module": "@jupyter-widgets/controls",
     "model_name": "DescriptionStyleModel",
     "model_module_version": "1.5.0",
     "state": {
      "_model_module": "@jupyter-widgets/controls",
      "_model_module_version": "1.5.0",
      "_model_name": "DescriptionStyleModel",
      "_view_count": null,
      "_view_module": "@jupyter-widgets/base",
      "_view_module_version": "1.2.0",
      "_view_name": "StyleView",
      "description_width": ""
     }
    },
    "65e482581b6f48f483284ae23ea1d71c": {
     "model_module": "@jupyter-widgets/base",
     "model_name": "LayoutModel",
     "model_module_version": "1.2.0",
     "state": {
      "_model_module": "@jupyter-widgets/base",
      "_model_module_version": "1.2.0",
      "_model_name": "LayoutModel",
      "_view_count": null,
      "_view_module": "@jupyter-widgets/base",
      "_view_module_version": "1.2.0",
      "_view_name": "LayoutView",
      "align_content": null,
      "align_items": null,
      "align_self": null,
      "border": null,
      "bottom": null,
      "display": null,
      "flex": null,
      "flex_flow": null,
      "grid_area": null,
      "grid_auto_columns": null,
      "grid_auto_flow": null,
      "grid_auto_rows": null,
      "grid_column": null,
      "grid_gap": null,
      "grid_row": null,
      "grid_template_areas": null,
      "grid_template_columns": null,
      "grid_template_rows": null,
      "height": null,
      "justify_content": null,
      "justify_items": null,
      "left": null,
      "margin": null,
      "max_height": null,
      "max_width": null,
      "min_height": null,
      "min_width": null,
      "object_fit": null,
      "object_position": null,
      "order": null,
      "overflow": null,
      "overflow_x": null,
      "overflow_y": null,
      "padding": null,
      "right": null,
      "top": null,
      "visibility": null,
      "width": null
     }
    },
    "e146f7cdcb5e41c6b97292b4da8d4ecb": {
     "model_module": "@jupyter-widgets/controls",
     "model_name": "ProgressStyleModel",
     "model_module_version": "1.5.0",
     "state": {
      "_model_module": "@jupyter-widgets/controls",
      "_model_module_version": "1.5.0",
      "_model_name": "ProgressStyleModel",
      "_view_count": null,
      "_view_module": "@jupyter-widgets/base",
      "_view_module_version": "1.2.0",
      "_view_name": "StyleView",
      "bar_color": null,
      "description_width": ""
     }
    },
    "074b17e69d39488d966bb524ac2cc97c": {
     "model_module": "@jupyter-widgets/base",
     "model_name": "LayoutModel",
     "model_module_version": "1.2.0",
     "state": {
      "_model_module": "@jupyter-widgets/base",
      "_model_module_version": "1.2.0",
      "_model_name": "LayoutModel",
      "_view_count": null,
      "_view_module": "@jupyter-widgets/base",
      "_view_module_version": "1.2.0",
      "_view_name": "LayoutView",
      "align_content": null,
      "align_items": null,
      "align_self": null,
      "border": null,
      "bottom": null,
      "display": null,
      "flex": null,
      "flex_flow": null,
      "grid_area": null,
      "grid_auto_columns": null,
      "grid_auto_flow": null,
      "grid_auto_rows": null,
      "grid_column": null,
      "grid_gap": null,
      "grid_row": null,
      "grid_template_areas": null,
      "grid_template_columns": null,
      "grid_template_rows": null,
      "height": null,
      "justify_content": null,
      "justify_items": null,
      "left": null,
      "margin": null,
      "max_height": null,
      "max_width": null,
      "min_height": null,
      "min_width": null,
      "object_fit": null,
      "object_position": null,
      "order": null,
      "overflow": null,
      "overflow_x": null,
      "overflow_y": null,
      "padding": null,
      "right": null,
      "top": null,
      "visibility": null,
      "width": null
     }
    },
    "e8f289950c9941d6b2679a64568efb71": {
     "model_module": "@jupyter-widgets/controls",
     "model_name": "DescriptionStyleModel",
     "model_module_version": "1.5.0",
     "state": {
      "_model_module": "@jupyter-widgets/controls",
      "_model_module_version": "1.5.0",
      "_model_name": "DescriptionStyleModel",
      "_view_count": null,
      "_view_module": "@jupyter-widgets/base",
      "_view_module_version": "1.2.0",
      "_view_name": "StyleView",
      "description_width": ""
     }
    },
    "7f12f086105848c4af55eeda9d90a930": {
     "model_module": "@jupyter-widgets/controls",
     "model_name": "HBoxModel",
     "model_module_version": "1.5.0",
     "state": {
      "_dom_classes": [],
      "_model_module": "@jupyter-widgets/controls",
      "_model_module_version": "1.5.0",
      "_model_name": "HBoxModel",
      "_view_count": null,
      "_view_module": "@jupyter-widgets/controls",
      "_view_module_version": "1.5.0",
      "_view_name": "HBoxView",
      "box_style": "",
      "children": [
       "IPY_MODEL_07075146a78e48e5900e15db771992cf",
       "IPY_MODEL_828f8d0e40f1451fa9c7101588fb440c",
       "IPY_MODEL_d7012dfbbb6f47e6a78382e98bd688ff"
      ],
      "layout": "IPY_MODEL_1c4901ba904648a0a2f6ff28f1f9ab59"
     }
    },
    "07075146a78e48e5900e15db771992cf": {
     "model_module": "@jupyter-widgets/controls",
     "model_name": "HTMLModel",
     "model_module_version": "1.5.0",
     "state": {
      "_dom_classes": [],
      "_model_module": "@jupyter-widgets/controls",
      "_model_module_version": "1.5.0",
      "_model_name": "HTMLModel",
      "_view_count": null,
      "_view_module": "@jupyter-widgets/controls",
      "_view_module_version": "1.5.0",
      "_view_name": "HTMLView",
      "description": "",
      "description_tooltip": null,
      "layout": "IPY_MODEL_091e9c06eaeb4a03a6cd376114a947cb",
      "placeholder": "​",
      "style": "IPY_MODEL_73709094e3484b60848529d121b8007a",
      "value": "vocab.txt: 100%"
     }
    },
    "828f8d0e40f1451fa9c7101588fb440c": {
     "model_module": "@jupyter-widgets/controls",
     "model_name": "FloatProgressModel",
     "model_module_version": "1.5.0",
     "state": {
      "_dom_classes": [],
      "_model_module": "@jupyter-widgets/controls",
      "_model_module_version": "1.5.0",
      "_model_name": "FloatProgressModel",
      "_view_count": null,
      "_view_module": "@jupyter-widgets/controls",
      "_view_module_version": "1.5.0",
      "_view_name": "ProgressView",
      "bar_style": "success",
      "description": "",
      "description_tooltip": null,
      "layout": "IPY_MODEL_ebd1b96fffbe4cfb87569e8025bd9a38",
      "max": 262620,
      "min": 0,
      "orientation": "horizontal",
      "style": "IPY_MODEL_9de09b64c3f14cd4b1ffa28c34994522",
      "value": 262620
     }
    },
    "d7012dfbbb6f47e6a78382e98bd688ff": {
     "model_module": "@jupyter-widgets/controls",
     "model_name": "HTMLModel",
     "model_module_version": "1.5.0",
     "state": {
      "_dom_classes": [],
      "_model_module": "@jupyter-widgets/controls",
      "_model_module_version": "1.5.0",
      "_model_name": "HTMLModel",
      "_view_count": null,
      "_view_module": "@jupyter-widgets/controls",
      "_view_module_version": "1.5.0",
      "_view_name": "HTMLView",
      "description": "",
      "description_tooltip": null,
      "layout": "IPY_MODEL_deadacd6387344ed8f856f0074368b38",
      "placeholder": "​",
      "style": "IPY_MODEL_9d6fe0558cf04729b43a233f9ba4f81d",
      "value": " 263k/263k [00:00&lt;00:00, 1.96MB/s]"
     }
    },
    "1c4901ba904648a0a2f6ff28f1f9ab59": {
     "model_module": "@jupyter-widgets/base",
     "model_name": "LayoutModel",
     "model_module_version": "1.2.0",
     "state": {
      "_model_module": "@jupyter-widgets/base",
      "_model_module_version": "1.2.0",
      "_model_name": "LayoutModel",
      "_view_count": null,
      "_view_module": "@jupyter-widgets/base",
      "_view_module_version": "1.2.0",
      "_view_name": "LayoutView",
      "align_content": null,
      "align_items": null,
      "align_self": null,
      "border": null,
      "bottom": null,
      "display": null,
      "flex": null,
      "flex_flow": null,
      "grid_area": null,
      "grid_auto_columns": null,
      "grid_auto_flow": null,
      "grid_auto_rows": null,
      "grid_column": null,
      "grid_gap": null,
      "grid_row": null,
      "grid_template_areas": null,
      "grid_template_columns": null,
      "grid_template_rows": null,
      "height": null,
      "justify_content": null,
      "justify_items": null,
      "left": null,
      "margin": null,
      "max_height": null,
      "max_width": null,
      "min_height": null,
      "min_width": null,
      "object_fit": null,
      "object_position": null,
      "order": null,
      "overflow": null,
      "overflow_x": null,
      "overflow_y": null,
      "padding": null,
      "right": null,
      "top": null,
      "visibility": null,
      "width": null
     }
    },
    "091e9c06eaeb4a03a6cd376114a947cb": {
     "model_module": "@jupyter-widgets/base",
     "model_name": "LayoutModel",
     "model_module_version": "1.2.0",
     "state": {
      "_model_module": "@jupyter-widgets/base",
      "_model_module_version": "1.2.0",
      "_model_name": "LayoutModel",
      "_view_count": null,
      "_view_module": "@jupyter-widgets/base",
      "_view_module_version": "1.2.0",
      "_view_name": "LayoutView",
      "align_content": null,
      "align_items": null,
      "align_self": null,
      "border": null,
      "bottom": null,
      "display": null,
      "flex": null,
      "flex_flow": null,
      "grid_area": null,
      "grid_auto_columns": null,
      "grid_auto_flow": null,
      "grid_auto_rows": null,
      "grid_column": null,
      "grid_gap": null,
      "grid_row": null,
      "grid_template_areas": null,
      "grid_template_columns": null,
      "grid_template_rows": null,
      "height": null,
      "justify_content": null,
      "justify_items": null,
      "left": null,
      "margin": null,
      "max_height": null,
      "max_width": null,
      "min_height": null,
      "min_width": null,
      "object_fit": null,
      "object_position": null,
      "order": null,
      "overflow": null,
      "overflow_x": null,
      "overflow_y": null,
      "padding": null,
      "right": null,
      "top": null,
      "visibility": null,
      "width": null
     }
    },
    "73709094e3484b60848529d121b8007a": {
     "model_module": "@jupyter-widgets/controls",
     "model_name": "DescriptionStyleModel",
     "model_module_version": "1.5.0",
     "state": {
      "_model_module": "@jupyter-widgets/controls",
      "_model_module_version": "1.5.0",
      "_model_name": "DescriptionStyleModel",
      "_view_count": null,
      "_view_module": "@jupyter-widgets/base",
      "_view_module_version": "1.2.0",
      "_view_name": "StyleView",
      "description_width": ""
     }
    },
    "ebd1b96fffbe4cfb87569e8025bd9a38": {
     "model_module": "@jupyter-widgets/base",
     "model_name": "LayoutModel",
     "model_module_version": "1.2.0",
     "state": {
      "_model_module": "@jupyter-widgets/base",
      "_model_module_version": "1.2.0",
      "_model_name": "LayoutModel",
      "_view_count": null,
      "_view_module": "@jupyter-widgets/base",
      "_view_module_version": "1.2.0",
      "_view_name": "LayoutView",
      "align_content": null,
      "align_items": null,
      "align_self": null,
      "border": null,
      "bottom": null,
      "display": null,
      "flex": null,
      "flex_flow": null,
      "grid_area": null,
      "grid_auto_columns": null,
      "grid_auto_flow": null,
      "grid_auto_rows": null,
      "grid_column": null,
      "grid_gap": null,
      "grid_row": null,
      "grid_template_areas": null,
      "grid_template_columns": null,
      "grid_template_rows": null,
      "height": null,
      "justify_content": null,
      "justify_items": null,
      "left": null,
      "margin": null,
      "max_height": null,
      "max_width": null,
      "min_height": null,
      "min_width": null,
      "object_fit": null,
      "object_position": null,
      "order": null,
      "overflow": null,
      "overflow_x": null,
      "overflow_y": null,
      "padding": null,
      "right": null,
      "top": null,
      "visibility": null,
      "width": null
     }
    },
    "9de09b64c3f14cd4b1ffa28c34994522": {
     "model_module": "@jupyter-widgets/controls",
     "model_name": "ProgressStyleModel",
     "model_module_version": "1.5.0",
     "state": {
      "_model_module": "@jupyter-widgets/controls",
      "_model_module_version": "1.5.0",
      "_model_name": "ProgressStyleModel",
      "_view_count": null,
      "_view_module": "@jupyter-widgets/base",
      "_view_module_version": "1.2.0",
      "_view_name": "StyleView",
      "bar_color": null,
      "description_width": ""
     }
    },
    "deadacd6387344ed8f856f0074368b38": {
     "model_module": "@jupyter-widgets/base",
     "model_name": "LayoutModel",
     "model_module_version": "1.2.0",
     "state": {
      "_model_module": "@jupyter-widgets/base",
      "_model_module_version": "1.2.0",
      "_model_name": "LayoutModel",
      "_view_count": null,
      "_view_module": "@jupyter-widgets/base",
      "_view_module_version": "1.2.0",
      "_view_name": "LayoutView",
      "align_content": null,
      "align_items": null,
      "align_self": null,
      "border": null,
      "bottom": null,
      "display": null,
      "flex": null,
      "flex_flow": null,
      "grid_area": null,
      "grid_auto_columns": null,
      "grid_auto_flow": null,
      "grid_auto_rows": null,
      "grid_column": null,
      "grid_gap": null,
      "grid_row": null,
      "grid_template_areas": null,
      "grid_template_columns": null,
      "grid_template_rows": null,
      "height": null,
      "justify_content": null,
      "justify_items": null,
      "left": null,
      "margin": null,
      "max_height": null,
      "max_width": null,
      "min_height": null,
      "min_width": null,
      "object_fit": null,
      "object_position": null,
      "order": null,
      "overflow": null,
      "overflow_x": null,
      "overflow_y": null,
      "padding": null,
      "right": null,
      "top": null,
      "visibility": null,
      "width": null
     }
    },
    "9d6fe0558cf04729b43a233f9ba4f81d": {
     "model_module": "@jupyter-widgets/controls",
     "model_name": "DescriptionStyleModel",
     "model_module_version": "1.5.0",
     "state": {
      "_model_module": "@jupyter-widgets/controls",
      "_model_module_version": "1.5.0",
      "_model_name": "DescriptionStyleModel",
      "_view_count": null,
      "_view_module": "@jupyter-widgets/base",
      "_view_module_version": "1.2.0",
      "_view_name": "StyleView",
      "description_width": ""
     }
    },
    "121c031488d547c18af54dedb2a771c7": {
     "model_module": "@jupyter-widgets/controls",
     "model_name": "HBoxModel",
     "model_module_version": "1.5.0",
     "state": {
      "_dom_classes": [],
      "_model_module": "@jupyter-widgets/controls",
      "_model_module_version": "1.5.0",
      "_model_name": "HBoxModel",
      "_view_count": null,
      "_view_module": "@jupyter-widgets/controls",
      "_view_module_version": "1.5.0",
      "_view_name": "HBoxView",
      "box_style": "",
      "children": [
       "IPY_MODEL_40f4439738ba4c0d8b309b974ef337a2",
       "IPY_MODEL_bc6394537e94425cb1eb817191907835",
       "IPY_MODEL_05db2d9dc6cc4f1da67d15b4ba2ba906"
      ],
      "layout": "IPY_MODEL_9f6f934af1a14ae883a9be6961d6f9e7"
     }
    },
    "40f4439738ba4c0d8b309b974ef337a2": {
     "model_module": "@jupyter-widgets/controls",
     "model_name": "HTMLModel",
     "model_module_version": "1.5.0",
     "state": {
      "_dom_classes": [],
      "_model_module": "@jupyter-widgets/controls",
      "_model_module_version": "1.5.0",
      "_model_name": "HTMLModel",
      "_view_count": null,
      "_view_module": "@jupyter-widgets/controls",
      "_view_module_version": "1.5.0",
      "_view_name": "HTMLView",
      "description": "",
      "description_tooltip": null,
      "layout": "IPY_MODEL_9d01fca4b7bc40ff9285dbbadfa99dc1",
      "placeholder": "​",
      "style": "IPY_MODEL_9a48b89bfbe74ae8bab64d502e11dc18",
      "value": "config.json: 100%"
     }
    },
    "bc6394537e94425cb1eb817191907835": {
     "model_module": "@jupyter-widgets/controls",
     "model_name": "FloatProgressModel",
     "model_module_version": "1.5.0",
     "state": {
      "_dom_classes": [],
      "_model_module": "@jupyter-widgets/controls",
      "_model_module_version": "1.5.0",
      "_model_name": "FloatProgressModel",
      "_view_count": null,
      "_view_module": "@jupyter-widgets/controls",
      "_view_module_version": "1.5.0",
      "_view_name": "ProgressView",
      "bar_style": "success",
      "description": "",
      "description_tooltip": null,
      "layout": "IPY_MODEL_df0d03bb218945cfadc9ca739d3498dc",
      "max": 385,
      "min": 0,
      "orientation": "horizontal",
      "style": "IPY_MODEL_a39b99ad1a9d4c42a92a3f1f43fb8d32",
      "value": 385
     }
    },
    "05db2d9dc6cc4f1da67d15b4ba2ba906": {
     "model_module": "@jupyter-widgets/controls",
     "model_name": "HTMLModel",
     "model_module_version": "1.5.0",
     "state": {
      "_dom_classes": [],
      "_model_module": "@jupyter-widgets/controls",
      "_model_module_version": "1.5.0",
      "_model_name": "HTMLModel",
      "_view_count": null,
      "_view_module": "@jupyter-widgets/controls",
      "_view_module_version": "1.5.0",
      "_view_name": "HTMLView",
      "description": "",
      "description_tooltip": null,
      "layout": "IPY_MODEL_d8fbe1efb324451abaf310650b5f1e27",
      "placeholder": "​",
      "style": "IPY_MODEL_0dd47ec78f674093948d852de802d61d",
      "value": " 385/385 [00:00&lt;00:00, 21.4kB/s]"
     }
    },
    "9f6f934af1a14ae883a9be6961d6f9e7": {
     "model_module": "@jupyter-widgets/base",
     "model_name": "LayoutModel",
     "model_module_version": "1.2.0",
     "state": {
      "_model_module": "@jupyter-widgets/base",
      "_model_module_version": "1.2.0",
      "_model_name": "LayoutModel",
      "_view_count": null,
      "_view_module": "@jupyter-widgets/base",
      "_view_module_version": "1.2.0",
      "_view_name": "LayoutView",
      "align_content": null,
      "align_items": null,
      "align_self": null,
      "border": null,
      "bottom": null,
      "display": null,
      "flex": null,
      "flex_flow": null,
      "grid_area": null,
      "grid_auto_columns": null,
      "grid_auto_flow": null,
      "grid_auto_rows": null,
      "grid_column": null,
      "grid_gap": null,
      "grid_row": null,
      "grid_template_areas": null,
      "grid_template_columns": null,
      "grid_template_rows": null,
      "height": null,
      "justify_content": null,
      "justify_items": null,
      "left": null,
      "margin": null,
      "max_height": null,
      "max_width": null,
      "min_height": null,
      "min_width": null,
      "object_fit": null,
      "object_position": null,
      "order": null,
      "overflow": null,
      "overflow_x": null,
      "overflow_y": null,
      "padding": null,
      "right": null,
      "top": null,
      "visibility": null,
      "width": null
     }
    },
    "9d01fca4b7bc40ff9285dbbadfa99dc1": {
     "model_module": "@jupyter-widgets/base",
     "model_name": "LayoutModel",
     "model_module_version": "1.2.0",
     "state": {
      "_model_module": "@jupyter-widgets/base",
      "_model_module_version": "1.2.0",
      "_model_name": "LayoutModel",
      "_view_count": null,
      "_view_module": "@jupyter-widgets/base",
      "_view_module_version": "1.2.0",
      "_view_name": "LayoutView",
      "align_content": null,
      "align_items": null,
      "align_self": null,
      "border": null,
      "bottom": null,
      "display": null,
      "flex": null,
      "flex_flow": null,
      "grid_area": null,
      "grid_auto_columns": null,
      "grid_auto_flow": null,
      "grid_auto_rows": null,
      "grid_column": null,
      "grid_gap": null,
      "grid_row": null,
      "grid_template_areas": null,
      "grid_template_columns": null,
      "grid_template_rows": null,
      "height": null,
      "justify_content": null,
      "justify_items": null,
      "left": null,
      "margin": null,
      "max_height": null,
      "max_width": null,
      "min_height": null,
      "min_width": null,
      "object_fit": null,
      "object_position": null,
      "order": null,
      "overflow": null,
      "overflow_x": null,
      "overflow_y": null,
      "padding": null,
      "right": null,
      "top": null,
      "visibility": null,
      "width": null
     }
    },
    "9a48b89bfbe74ae8bab64d502e11dc18": {
     "model_module": "@jupyter-widgets/controls",
     "model_name": "DescriptionStyleModel",
     "model_module_version": "1.5.0",
     "state": {
      "_model_module": "@jupyter-widgets/controls",
      "_model_module_version": "1.5.0",
      "_model_name": "DescriptionStyleModel",
      "_view_count": null,
      "_view_module": "@jupyter-widgets/base",
      "_view_module_version": "1.2.0",
      "_view_name": "StyleView",
      "description_width": ""
     }
    },
    "df0d03bb218945cfadc9ca739d3498dc": {
     "model_module": "@jupyter-widgets/base",
     "model_name": "LayoutModel",
     "model_module_version": "1.2.0",
     "state": {
      "_model_module": "@jupyter-widgets/base",
      "_model_module_version": "1.2.0",
      "_model_name": "LayoutModel",
      "_view_count": null,
      "_view_module": "@jupyter-widgets/base",
      "_view_module_version": "1.2.0",
      "_view_name": "LayoutView",
      "align_content": null,
      "align_items": null,
      "align_self": null,
      "border": null,
      "bottom": null,
      "display": null,
      "flex": null,
      "flex_flow": null,
      "grid_area": null,
      "grid_auto_columns": null,
      "grid_auto_flow": null,
      "grid_auto_rows": null,
      "grid_column": null,
      "grid_gap": null,
      "grid_row": null,
      "grid_template_areas": null,
      "grid_template_columns": null,
      "grid_template_rows": null,
      "height": null,
      "justify_content": null,
      "justify_items": null,
      "left": null,
      "margin": null,
      "max_height": null,
      "max_width": null,
      "min_height": null,
      "min_width": null,
      "object_fit": null,
      "object_position": null,
      "order": null,
      "overflow": null,
      "overflow_x": null,
      "overflow_y": null,
      "padding": null,
      "right": null,
      "top": null,
      "visibility": null,
      "width": null
     }
    },
    "a39b99ad1a9d4c42a92a3f1f43fb8d32": {
     "model_module": "@jupyter-widgets/controls",
     "model_name": "ProgressStyleModel",
     "model_module_version": "1.5.0",
     "state": {
      "_model_module": "@jupyter-widgets/controls",
      "_model_module_version": "1.5.0",
      "_model_name": "ProgressStyleModel",
      "_view_count": null,
      "_view_module": "@jupyter-widgets/base",
      "_view_module_version": "1.2.0",
      "_view_name": "StyleView",
      "bar_color": null,
      "description_width": ""
     }
    },
    "d8fbe1efb324451abaf310650b5f1e27": {
     "model_module": "@jupyter-widgets/base",
     "model_name": "LayoutModel",
     "model_module_version": "1.2.0",
     "state": {
      "_model_module": "@jupyter-widgets/base",
      "_model_module_version": "1.2.0",
      "_model_name": "LayoutModel",
      "_view_count": null,
      "_view_module": "@jupyter-widgets/base",
      "_view_module_version": "1.2.0",
      "_view_name": "LayoutView",
      "align_content": null,
      "align_items": null,
      "align_self": null,
      "border": null,
      "bottom": null,
      "display": null,
      "flex": null,
      "flex_flow": null,
      "grid_area": null,
      "grid_auto_columns": null,
      "grid_auto_flow": null,
      "grid_auto_rows": null,
      "grid_column": null,
      "grid_gap": null,
      "grid_row": null,
      "grid_template_areas": null,
      "grid_template_columns": null,
      "grid_template_rows": null,
      "height": null,
      "justify_content": null,
      "justify_items": null,
      "left": null,
      "margin": null,
      "max_height": null,
      "max_width": null,
      "min_height": null,
      "min_width": null,
      "object_fit": null,
      "object_position": null,
      "order": null,
      "overflow": null,
      "overflow_x": null,
      "overflow_y": null,
      "padding": null,
      "right": null,
      "top": null,
      "visibility": null,
      "width": null
     }
    },
    "0dd47ec78f674093948d852de802d61d": {
     "model_module": "@jupyter-widgets/controls",
     "model_name": "DescriptionStyleModel",
     "model_module_version": "1.5.0",
     "state": {
      "_model_module": "@jupyter-widgets/controls",
      "_model_module_version": "1.5.0",
      "_model_name": "DescriptionStyleModel",
      "_view_count": null,
      "_view_module": "@jupyter-widgets/base",
      "_view_module_version": "1.2.0",
      "_view_name": "StyleView",
      "description_width": ""
     }
    }
   }
  }
 },
 "nbformat": 4,
 "nbformat_minor": 5
}
