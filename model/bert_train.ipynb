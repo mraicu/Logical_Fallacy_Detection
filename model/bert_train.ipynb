{
 "cells": [
  {
   "cell_type": "code",
   "id": "initial_id",
   "metadata": {
    "collapsed": true,
    "id": "initial_id",
    "executionInfo": {
     "status": "ok",
     "timestamp": 1731438690104,
     "user_tz": -120,
     "elapsed": 267,
     "user": {
      "displayName": "Maria Raicu",
      "userId": "00664458830913320871"
     }
    }
   },
   "source": [
    "import yaml\n",
    "import wandb\n",
    "from torch import cuda\n",
    "from datetime import datetime\n",
    "from model.BERT import compute_metrics_wandb, DataLoader\n",
    "from transformers import pipeline, BertForSequenceClassification, BertTokenizerFast, BertTokenizer, TrainingArguments, \\\n",
    "    Trainer, EarlyStoppingCallback\n",
    "from utils.data_utils import read_data, filter_fallacies, encode_labels, plot_training_curve, get_file_name, \\\n",
    "    plot_learning_curve"
   ],
   "outputs": [],
   "execution_count": null
  },
  {
   "metadata": {
    "colab": {
     "base_uri": "https://localhost:8080/",
     "height": 210
    },
    "id": "f64cc9e6a823baed",
    "executionInfo": {
     "status": "ok",
     "timestamp": 1731438695485,
     "user_tz": -120,
     "elapsed": 4657,
     "user": {
      "displayName": "Maria Raicu",
      "userId": "00664458830913320871"
     }
    },
    "outputId": "7dc7223d-69bf-449f-cc7e-a5754456d880"
   },
   "cell_type": "code",
   "source": [
    "# Load configuration file\n",
    "with open('../config.yaml', 'r') as file:\n",
    "    config = yaml.safe_load(file)\n",
    "\n",
    "    # Start a new wandb run to track this script\n",
    "run = wandb.init(\n",
    "    project=\"Logical_Fallacies\",\n",
    "    config=config,\n",
    "    allow_val_change=True,  # Allows you to update the config during the run\n",
    "    magic=False,  # Disables wandb's automatic logging of system metrics\n",
    "    settings=wandb.Settings(console=\"off\")\n",
    ")\n",
    "current_time = datetime.now()"
   ],
   "id": "f64cc9e6a823baed",
   "outputs": [],
   "execution_count": null
  },
  {
   "metadata": {
    "colab": {
     "base_uri": "https://localhost:8080/",
     "height": 206
    },
    "id": "eff2635045f881a1",
    "executionInfo": {
     "status": "ok",
     "timestamp": 1731438821828,
     "user_tz": -120,
     "elapsed": 259,
     "user": {
      "displayName": "Maria Raicu",
      "userId": "00664458830913320871"
     }
    },
    "outputId": "e50a2f4d-3bdb-41d9-996c-deb06b8c84cd"
   },
   "cell_type": "code",
   "source": [
    "train_dataset, test_dataset, dev_dataset = read_data('../data/all/combined_lfud_huggingface_nonfallacies.csv')\n",
    "dev_dataset.head()"
   ],
   "id": "eff2635045f881a1",
   "outputs": [],
   "execution_count": null
  },
  {
   "metadata": {
    "colab": {
     "base_uri": "https://localhost:8080/",
     "height": 492
    },
    "id": "8d56eb30ae653e72",
    "executionInfo": {
     "status": "ok",
     "timestamp": 1731438826095,
     "user_tz": -120,
     "elapsed": 370,
     "user": {
      "displayName": "Maria Raicu",
      "userId": "00664458830913320871"
     }
    },
    "outputId": "6fe45eaa-c228-48db-dae7-52f00d9d23ef"
   },
   "cell_type": "code",
   "source": "print(dev_dataset['logical_fallacies'].value_counts())",
   "id": "8d56eb30ae653e72",
   "outputs": [],
   "execution_count": null
  },
  {
   "metadata": {
    "colab": {
     "base_uri": "https://localhost:8080/",
     "height": 523
    },
    "id": "c5d2cd8081d67894",
    "executionInfo": {
     "status": "ok",
     "timestamp": 1731438828692,
     "user_tz": -120,
     "elapsed": 257,
     "user": {
      "displayName": "Maria Raicu",
      "userId": "00664458830913320871"
     }
    },
    "outputId": "9154f846-5524-4e23-dfb8-2ad33fb71ee1"
   },
   "cell_type": "code",
   "source": [
    "train_dataset['logical_fallacies'].value_counts()"
   ],
   "id": "c5d2cd8081d67894",
   "outputs": [],
   "execution_count": null
  },
  {
   "metadata": {
    "colab": {
     "base_uri": "https://localhost:8080/",
     "height": 554
    },
    "id": "4a58c9a260a0bdcd",
    "executionInfo": {
     "status": "ok",
     "timestamp": 1731438830652,
     "user_tz": -120,
     "elapsed": 272,
     "user": {
      "displayName": "Maria Raicu",
      "userId": "00664458830913320871"
     }
    },
    "outputId": "3bc4c2a9-9a06-4776-f929-f9703fb29a34"
   },
   "cell_type": "code",
   "source": [
    "test_dataset['logical_fallacies'].value_counts()"
   ],
   "id": "4a58c9a260a0bdcd",
   "outputs": [],
   "execution_count": null
  },
  {
   "metadata": {
    "colab": {
     "base_uri": "https://localhost:8080/",
     "height": 206
    },
    "id": "a254ebd9e10ca200",
    "executionInfo": {
     "status": "ok",
     "timestamp": 1731438837475,
     "user_tz": -120,
     "elapsed": 250,
     "user": {
      "displayName": "Maria Raicu",
      "userId": "00664458830913320871"
     }
    },
    "outputId": "25d5cb87-fd9e-4e24-9b73-dc300711ad11"
   },
   "cell_type": "code",
   "source": [
    "logical_fallacies = ['faulty generalization', 'intentional', 'nonfallacies', 'ad hominem', 'appeal to emotion']\n",
    "fil_train_data, fil_test_data, fil_dev_data = filter_fallacies(train_dataset, test_dataset, dev_dataset,\n",
    "                                                               logical_fallacies)\n",
    "fil_train_data.head()"
   ],
   "id": "a254ebd9e10ca200",
   "outputs": [],
   "execution_count": null
  },
  {
   "metadata": {
    "colab": {
     "base_uri": "https://localhost:8080/"
    },
    "id": "c6b6051cbcc18122",
    "executionInfo": {
     "status": "ok",
     "timestamp": 1731438840587,
     "user_tz": -120,
     "elapsed": 397,
     "user": {
      "displayName": "Maria Raicu",
      "userId": "00664458830913320871"
     }
    },
    "outputId": "5a1bf28a-0a8b-48c3-d4ef-b124faf84089"
   },
   "cell_type": "code",
   "source": [
    "id2label = {id: label for id, label in enumerate(logical_fallacies)}\n",
    "\n",
    "label2id = {label: id for id, label in enumerate(logical_fallacies)}\n",
    "\n",
    "print(label2id, id2label)"
   ],
   "id": "c6b6051cbcc18122",
   "outputs": [],
   "execution_count": null
  },
  {
   "metadata": {
    "colab": {
     "base_uri": "https://localhost:8080/"
    },
    "id": "3f7efdc6414d42fb",
    "executionInfo": {
     "status": "ok",
     "timestamp": 1731438842127,
     "user_tz": -120,
     "elapsed": 381,
     "user": {
      "displayName": "Maria Raicu",
      "userId": "00664458830913320871"
     }
    },
    "outputId": "3ff87d5e-fc17-423b-abb8-2b4ed3c3add9"
   },
   "cell_type": "code",
   "source": [
    "train_data, test_data, dev_data = encode_labels(fil_train_data, fil_test_data, fil_dev_data, label2id)"
   ],
   "id": "3f7efdc6414d42fb",
   "outputs": [],
   "execution_count": null
  },
  {
   "metadata": {
    "id": "4e8d0da2ad8a5f97",
    "executionInfo": {
     "status": "ok",
     "timestamp": 1731438843758,
     "user_tz": -120,
     "elapsed": 648,
     "user": {
      "displayName": "Maria Raicu",
      "userId": "00664458830913320871"
     }
    }
   },
   "cell_type": "code",
   "source": [
    "# ro-bert\n",
    "tokenizer = BertTokenizer.from_pretrained(\"dumitrescustefan/bert-base-romanian-uncased-v1\", max_length=512)"
   ],
   "id": "4e8d0da2ad8a5f97",
   "outputs": [],
   "execution_count": null
  },
  {
   "metadata": {
    "colab": {
     "base_uri": "https://localhost:8080/"
    },
    "id": "921447388f45ce83",
    "executionInfo": {
     "status": "ok",
     "timestamp": 1731438845577,
     "user_tz": -120,
     "elapsed": 1451,
     "user": {
      "displayName": "Maria Raicu",
      "userId": "00664458830913320871"
     }
    },
    "outputId": "02df93d9-443e-4fc6-83ad-aaba3272b93c"
   },
   "cell_type": "code",
   "source": [
    "device = 'cuda' if cuda.is_available() else 'cpu'\n",
    "model = BertForSequenceClassification.from_pretrained(\"dumitrescustefan/bert-base-romanian-uncased-v1\",\n",
    "                                                      num_labels=len(logical_fallacies),\n",
    "                                                      id2label=id2label, label2id=label2id)\n",
    "\n",
    "# Make model weights contiguous\n",
    "for name, param in model.named_parameters():\n",
    "    if not param.is_contiguous():\n",
    "        param.data = param.data.contiguous()\n",
    "model.to(device)"
   ],
   "id": "921447388f45ce83",
   "outputs": [],
   "execution_count": null
  },
  {
   "metadata": {
    "id": "a970113ca5e5f4a9",
    "executionInfo": {
     "status": "ok",
     "timestamp": 1731438848872,
     "user_tz": -120,
     "elapsed": 1433,
     "user": {
      "displayName": "Maria Raicu",
      "userId": "00664458830913320871"
     }
    }
   },
   "cell_type": "code",
   "source": [
    "train_encodings = tokenizer(list(train_data['source_article_ro']), padding=True, truncation=True, max_length=1024)\n",
    "test_encodings = tokenizer(list(test_data['source_article_ro']), padding=True, truncation=True, max_length=1024)\n",
    "dev_encodings = tokenizer(list(dev_data['source_article_ro']), padding=True, truncation=True, max_length=1024)"
   ],
   "id": "a970113ca5e5f4a9",
   "outputs": [],
   "execution_count": null
  },
  {
   "metadata": {
    "id": "68630c6d24ec236f",
    "executionInfo": {
     "status": "ok",
     "timestamp": 1731438848872,
     "user_tz": -120,
     "elapsed": 1,
     "user": {
      "displayName": "Maria Raicu",
      "userId": "00664458830913320871"
     }
    }
   },
   "cell_type": "code",
   "source": [
    "train_labels = list(train_data['logical_fallacies_id'])\n",
    "test_labels = list(test_data['logical_fallacies_id'])\n",
    "dev_labels = list(dev_data['logical_fallacies_id'])"
   ],
   "id": "68630c6d24ec236f",
   "outputs": [],
   "execution_count": null
  },
  {
   "metadata": {
    "id": "1d910762c0ff584b",
    "executionInfo": {
     "status": "ok",
     "timestamp": 1731438849109,
     "user_tz": -120,
     "elapsed": 2,
     "user": {
      "displayName": "Maria Raicu",
      "userId": "00664458830913320871"
     }
    }
   },
   "cell_type": "code",
   "source": [
    "train_dataloader = DataLoader(train_encodings, train_labels)\n",
    "test_dataloader = DataLoader(test_encodings, test_labels)\n",
    "dev_dataloader = DataLoader(dev_encodings, dev_labels)"
   ],
   "id": "1d910762c0ff584b",
   "outputs": [],
   "execution_count": null
  },
  {
   "metadata": {
    "id": "3855db72cc01b30a",
    "executionInfo": {
     "status": "ok",
     "timestamp": 1731438855015,
     "user_tz": -120,
     "elapsed": 258,
     "user": {
      "displayName": "Maria Raicu",
      "userId": "00664458830913320871"
     }
    }
   },
   "cell_type": "code",
   "source": [
    "training_args = TrainingArguments(\n",
    "    # The output directory where the model predictions and checkpoints will be written\n",
    "    output_dir=\"./results\",\n",
    "    eval_strategy=\"epoch\",\n",
    "    logging_strategy=\"epoch\",  # Log at the end of each epoch\n",
    "    logging_dir=\"./results/logs\",  # Directory for logs\n",
    "    save_strategy=\"epoch\",\n",
    "    learning_rate=float(config['model']['params']['learning_rate']),\n",
    "    per_device_train_batch_size=config['model']['params']['train_batch_size'],\n",
    "    per_device_eval_batch_size=config['model']['params']['eval_batch_size'],\n",
    "    num_train_epochs=config['model']['params']['epochs'],\n",
    "    weight_decay=0.1,\n",
    "    max_grad_norm=1.0,  # Prevents gradient explosion\n",
    "    log_level=\"warning\",\n",
    "    load_best_model_at_end=True\n",
    ")\n",
    "\n",
    "trainer = Trainer(\n",
    "    model=model,\n",
    "    args=training_args,\n",
    "    train_dataset=train_dataloader,\n",
    "    eval_dataset=dev_dataloader,\n",
    "    compute_metrics=compute_metrics_wandb,\n",
    "    callbacks=[EarlyStoppingCallback(early_stopping_patience=3)]  # evaluation loss\n",
    ")"
   ],
   "id": "3855db72cc01b30a",
   "outputs": [],
   "execution_count": null
  },
  {
   "metadata": {
    "colab": {
     "base_uri": "https://localhost:8080/",
     "height": 269
    },
    "id": "31c10258895da3c0",
    "executionInfo": {
     "status": "ok",
     "timestamp": 1731439259660,
     "user_tz": -120,
     "elapsed": 403094,
     "user": {
      "displayName": "Maria Raicu",
      "userId": "00664458830913320871"
     }
    },
    "outputId": "e5ed70db-7548-4be1-8b8a-69b22c6f04ea"
   },
   "cell_type": "code",
   "source": [
    "# Start training\n",
    "trainer.train()"
   ],
   "id": "31c10258895da3c0",
   "outputs": [],
   "execution_count": null
  },
  {
   "metadata": {},
   "cell_type": "code",
   "source": [
    "name = \"bert-3-classes-model\"\n",
    "model_path = get_file_name(\"outputs\", name, current_time)"
   ],
   "id": "b8f7cdd600ae2700",
   "outputs": [],
   "execution_count": null
  },
  {
   "metadata": {
    "colab": {
     "base_uri": "https://localhost:8080/",
     "height": 487
    },
    "id": "e407e9b7a9e0a686",
    "executionInfo": {
     "status": "ok",
     "timestamp": 1731439310487,
     "user_tz": -120,
     "elapsed": 706,
     "user": {
      "displayName": "Maria Raicu",
      "userId": "00664458830913320871"
     }
    },
    "outputId": "848ba95a-286f-4c2e-fc8f-cb960fc0d581"
   },
   "cell_type": "code",
   "source": "plot = plot_training_curve(trainer, name + \"loss_acc\" + \".png\")",
   "id": "e407e9b7a9e0a686",
   "outputs": [],
   "execution_count": null
  },
  {
   "metadata": {},
   "cell_type": "code",
   "source": "plot = plot_learning_curve(trainer, name + \"learning_curve\" + \".png\")",
   "id": "fe4b0bc07974dbbf",
   "outputs": [],
   "execution_count": null
  },
  {
   "metadata": {
    "colab": {
     "base_uri": "https://localhost:8080/",
     "height": 736
    },
    "id": "41f17e1cc7362f24",
    "executionInfo": {
     "status": "ok",
     "timestamp": 1731439315217,
     "user_tz": -120,
     "elapsed": 1911,
     "user": {
      "displayName": "Maria Raicu",
      "userId": "00664458830913320871"
     }
    },
    "outputId": "0202a2f7-6e67-40bf-ca04-f421d55b8a3b"
   },
   "cell_type": "code",
   "source": [
    "wandb.finish()"
   ],
   "id": "41f17e1cc7362f24",
   "outputs": [],
   "execution_count": null
  },
  {
   "metadata": {
    "colab": {
     "base_uri": "https://localhost:8080/"
    },
    "id": "ed988b6d40d129a4",
    "executionInfo": {
     "status": "ok",
     "timestamp": 1731439318687,
     "user_tz": -120,
     "elapsed": 2125,
     "user": {
      "displayName": "Maria Raicu",
      "userId": "00664458830913320871"
     }
    },
    "outputId": "8188f020-87e9-4c53-c791-b5a14e6bace8"
   },
   "cell_type": "code",
   "source": [
    "trainer.save_model(model_path)\n",
    "tokenizer.save_pretrained(model_path)"
   ],
   "id": "ed988b6d40d129a4",
   "outputs": [],
   "execution_count": null
  },
  {
   "metadata": {
    "colab": {
     "base_uri": "https://localhost:8080/"
    },
    "id": "30547b5f4f8dd5b8",
    "executionInfo": {
     "status": "ok",
     "timestamp": 1731439320283,
     "user_tz": -120,
     "elapsed": 412,
     "user": {
      "displayName": "Maria Raicu",
      "userId": "00664458830913320871"
     }
    },
    "outputId": "09243d09-6d39-4415-cd53-e98db39e247c"
   },
   "cell_type": "code",
   "source": [
    "model = BertForSequenceClassification.from_pretrained(model_path)\n",
    "tokenizer = BertTokenizerFast.from_pretrained(model_path)\n",
    "nlp = pipeline(\"text-classification\", model=model, tokenizer=tokenizer)"
   ],
   "id": "30547b5f4f8dd5b8",
   "outputs": [],
   "execution_count": null
  },
  {
   "metadata": {},
   "cell_type": "code",
   "source": [
    "nlp(\"Toate florile nu rămân deschise pentru totdeauna. Trandafirii sunt un tip de plante. Prin urmare, toate plantele nu rămân deschise pentru totdeauna..\")\n",
    "\n",
    "# faulty generalization"
   ],
   "id": "b68e260155f49c1c",
   "outputs": [],
   "execution_count": null
  }
 ],
 "metadata": {
  "kernelspec": {
   "display_name": "Python 3 (ipykernel)",
   "name": "python3",
   "language": "python"
  },
  "language_info": {
   "codemirror_mode": {
    "name": "ipython",
    "version": 2
   },
   "file_extension": ".py",
   "mimetype": "text/x-python",
   "name": "python",
   "nbconvert_exporter": "python",
   "pygments_lexer": "ipython2",
   "version": "2.7.6"
  },
  "colab": {
   "provenance": [],
   "gpuType": "T4"
  },
  "accelerator": "GPU"
 },
 "nbformat": 4,
 "nbformat_minor": 5
}
