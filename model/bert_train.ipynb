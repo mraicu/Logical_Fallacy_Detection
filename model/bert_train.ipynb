{
 "cells": [
  {
   "cell_type": "code",
   "id": "initial_id",
   "metadata": {
    "collapsed": true,
    "ExecuteTime": {
     "end_time": "2024-11-12T17:52:44.409216Z",
     "start_time": "2024-11-12T17:52:44.394634Z"
    },
    "id": "initial_id",
    "executionInfo": {
     "status": "ok",
     "timestamp": 1731438690104,
     "user_tz": -120,
     "elapsed": 267,
     "user": {
      "displayName": "Maria Raicu",
      "userId": "00664458830913320871"
     }
    }
   },
   "source": [
    "import yaml\n",
    "import wandb\n",
    "from torch import cuda\n",
    "from transformers import pipeline\n",
    "from utils.data_utils import read_data, filter_fallacies, encode_labels, plot_training_curve, get_file_name\n",
    "from transformers import BertForSequenceClassification\n",
    "from transformers import TrainingArguments, Trainer\n",
    "from model.BERT import compute_metrics_wandb, DataLoader\n",
    "from transformers import BertTokenizerFast, BertTokenizer"
   ],
   "outputs": [],
   "execution_count": 75
  },
  {
   "metadata": {
    "ExecuteTime": {
     "end_time": "2024-11-12T17:53:20.177748Z",
     "start_time": "2024-11-12T17:53:10.610006Z"
    },
    "colab": {
     "base_uri": "https://localhost:8080/",
     "height": 210
    },
    "id": "f64cc9e6a823baed",
    "executionInfo": {
     "status": "ok",
     "timestamp": 1731438695485,
     "user_tz": -120,
     "elapsed": 4657,
     "user": {
      "displayName": "Maria Raicu",
      "userId": "00664458830913320871"
     }
    },
    "outputId": "7dc7223d-69bf-449f-cc7e-a5754456d880"
   },
   "cell_type": "code",
   "source": [
    "# Load configuration file\n",
    "with open('config.yaml', 'r') as file:\n",
    "    config = yaml.safe_load(file)\n",
    "\n",
    "    # Start a new wandb run to track this script\n",
    "run = wandb.init(\n",
    "    project=\"Logical_Fallacies\",\n",
    "    config=config,\n",
    "    allow_val_change=True,  # Allows you to update the config during the run\n",
    "    magic=False,  # Disables wandb's automatic logging of system metrics\n",
    "    settings=wandb.Settings(console=\"off\")\n",
    ")"
   ],
   "id": "f64cc9e6a823baed",
   "outputs": [
    {
     "output_type": "display_data",
     "data": {
      "text/plain": [
       "<IPython.core.display.HTML object>"
      ],
      "text/html": [
       "Finishing last run (ID:4h4oxnik) before initializing another..."
      ]
     },
     "metadata": {}
    },
    {
     "output_type": "display_data",
     "data": {
      "text/plain": [
       "<IPython.core.display.HTML object>"
      ],
      "text/html": [
       " View run <strong style=\"color:#cdcd00\">hopeful-fog-20</strong> at: <a href='https://wandb.ai/maria_r-bbu/Logical_Fallacies/runs/4h4oxnik' target=\"_blank\">https://wandb.ai/maria_r-bbu/Logical_Fallacies/runs/4h4oxnik</a><br/> View project at: <a href='https://wandb.ai/maria_r-bbu/Logical_Fallacies' target=\"_blank\">https://wandb.ai/maria_r-bbu/Logical_Fallacies</a><br/>Synced 4 W&B file(s), 0 media file(s), 0 artifact file(s) and 0 other file(s)"
      ]
     },
     "metadata": {}
    },
    {
     "output_type": "display_data",
     "data": {
      "text/plain": [
       "<IPython.core.display.HTML object>"
      ],
      "text/html": [
       "Find logs at: <code>./wandb/run-20241112_191005-4h4oxnik/logs</code>"
      ]
     },
     "metadata": {}
    },
    {
     "output_type": "display_data",
     "data": {
      "text/plain": [
       "<IPython.core.display.HTML object>"
      ],
      "text/html": [
       "Successfully finished last run (ID:4h4oxnik). Initializing new run:<br/>"
      ]
     },
     "metadata": {}
    },
    {
     "output_type": "display_data",
     "data": {
      "text/plain": [
       "<IPython.core.display.HTML object>"
      ],
      "text/html": [
       "Tracking run with wandb version 0.18.6"
      ]
     },
     "metadata": {}
    },
    {
     "output_type": "display_data",
     "data": {
      "text/plain": [
       "<IPython.core.display.HTML object>"
      ],
      "text/html": [
       "Run data is saved locally in <code>/content/wandb/run-20241112_191130-ckh3rzig</code>"
      ]
     },
     "metadata": {}
    },
    {
     "output_type": "display_data",
     "data": {
      "text/plain": [
       "<IPython.core.display.HTML object>"
      ],
      "text/html": [
       "Syncing run <strong><a href='https://wandb.ai/maria_r-bbu/Logical_Fallacies/runs/ckh3rzig' target=\"_blank\">crimson-fog-21</a></strong> to <a href='https://wandb.ai/maria_r-bbu/Logical_Fallacies' target=\"_blank\">Weights & Biases</a> (<a href='https://wandb.me/developer-guide' target=\"_blank\">docs</a>)<br/>"
      ]
     },
     "metadata": {}
    },
    {
     "output_type": "display_data",
     "data": {
      "text/plain": [
       "<IPython.core.display.HTML object>"
      ],
      "text/html": [
       " View project at <a href='https://wandb.ai/maria_r-bbu/Logical_Fallacies' target=\"_blank\">https://wandb.ai/maria_r-bbu/Logical_Fallacies</a>"
      ]
     },
     "metadata": {}
    },
    {
     "output_type": "display_data",
     "data": {
      "text/plain": [
       "<IPython.core.display.HTML object>"
      ],
      "text/html": [
       " View run at <a href='https://wandb.ai/maria_r-bbu/Logical_Fallacies/runs/ckh3rzig' target=\"_blank\">https://wandb.ai/maria_r-bbu/Logical_Fallacies/runs/ckh3rzig</a>"
      ]
     },
     "metadata": {}
    }
   ],
   "execution_count": 76
  },
  {
   "metadata": {
    "ExecuteTime": {
     "end_time": "2024-11-12T17:53:36.776507Z",
     "start_time": "2024-11-12T17:53:36.659532Z"
    },
    "colab": {
     "base_uri": "https://localhost:8080/",
     "height": 206
    },
    "id": "eff2635045f881a1",
    "executionInfo": {
     "status": "ok",
     "timestamp": 1731438821828,
     "user_tz": -120,
     "elapsed": 259,
     "user": {
      "displayName": "Maria Raicu",
      "userId": "00664458830913320871"
     }
    },
    "outputId": "e50a2f4d-3bdb-41d9-996c-deb06b8c84cd"
   },
   "cell_type": "code",
   "source": [
    "train_dataset, test_dataset, dev_dataset = read_data('data/combined_lfud_huggingface.csv')\n",
    "dev_dataset.head()"
   ],
   "id": "eff2635045f881a1",
   "outputs": [
    {
     "output_type": "execute_result",
     "data": {
      "text/plain": [
       "          logical_fallacies                                  source_article_ro\n",
       "4107            intentional  Nimeni nu știe unde îmi sunt cheile, așa că tr...\n",
       "4108      deductive fallacy  Dacă mi-am lăsat cheile în mașină, atunci nu î...\n",
       "4109  faulty generalization  Tom se antrenează pentru un maraton. Tom este ...\n",
       "4110        false causality  Tom se antrenează pentru un maraton și a slăbi...\n",
       "4111     circular reasoning  Tom se antrenează pentru un maraton pentru că ..."
      ],
      "text/html": [
       "\n",
       "  <div id=\"df-491f1c58-182f-4c0c-b541-9fcc49cc15e3\" class=\"colab-df-container\">\n",
       "    <div>\n",
       "<style scoped>\n",
       "    .dataframe tbody tr th:only-of-type {\n",
       "        vertical-align: middle;\n",
       "    }\n",
       "\n",
       "    .dataframe tbody tr th {\n",
       "        vertical-align: top;\n",
       "    }\n",
       "\n",
       "    .dataframe thead th {\n",
       "        text-align: right;\n",
       "    }\n",
       "</style>\n",
       "<table border=\"1\" class=\"dataframe\">\n",
       "  <thead>\n",
       "    <tr style=\"text-align: right;\">\n",
       "      <th></th>\n",
       "      <th>logical_fallacies</th>\n",
       "      <th>source_article_ro</th>\n",
       "    </tr>\n",
       "  </thead>\n",
       "  <tbody>\n",
       "    <tr>\n",
       "      <th>4107</th>\n",
       "      <td>intentional</td>\n",
       "      <td>Nimeni nu știe unde îmi sunt cheile, așa că tr...</td>\n",
       "    </tr>\n",
       "    <tr>\n",
       "      <th>4108</th>\n",
       "      <td>deductive fallacy</td>\n",
       "      <td>Dacă mi-am lăsat cheile în mașină, atunci nu î...</td>\n",
       "    </tr>\n",
       "    <tr>\n",
       "      <th>4109</th>\n",
       "      <td>faulty generalization</td>\n",
       "      <td>Tom se antrenează pentru un maraton. Tom este ...</td>\n",
       "    </tr>\n",
       "    <tr>\n",
       "      <th>4110</th>\n",
       "      <td>false causality</td>\n",
       "      <td>Tom se antrenează pentru un maraton și a slăbi...</td>\n",
       "    </tr>\n",
       "    <tr>\n",
       "      <th>4111</th>\n",
       "      <td>circular reasoning</td>\n",
       "      <td>Tom se antrenează pentru un maraton pentru că ...</td>\n",
       "    </tr>\n",
       "  </tbody>\n",
       "</table>\n",
       "</div>\n",
       "    <div class=\"colab-df-buttons\">\n",
       "\n",
       "  <div class=\"colab-df-container\">\n",
       "    <button class=\"colab-df-convert\" onclick=\"convertToInteractive('df-491f1c58-182f-4c0c-b541-9fcc49cc15e3')\"\n",
       "            title=\"Convert this dataframe to an interactive table.\"\n",
       "            style=\"display:none;\">\n",
       "\n",
       "  <svg xmlns=\"http://www.w3.org/2000/svg\" height=\"24px\" viewBox=\"0 -960 960 960\">\n",
       "    <path d=\"M120-120v-720h720v720H120Zm60-500h600v-160H180v160Zm220 220h160v-160H400v160Zm0 220h160v-160H400v160ZM180-400h160v-160H180v160Zm440 0h160v-160H620v160ZM180-180h160v-160H180v160Zm440 0h160v-160H620v160Z\"/>\n",
       "  </svg>\n",
       "    </button>\n",
       "\n",
       "  <style>\n",
       "    .colab-df-container {\n",
       "      display:flex;\n",
       "      gap: 12px;\n",
       "    }\n",
       "\n",
       "    .colab-df-convert {\n",
       "      background-color: #E8F0FE;\n",
       "      border: none;\n",
       "      border-radius: 50%;\n",
       "      cursor: pointer;\n",
       "      display: none;\n",
       "      fill: #1967D2;\n",
       "      height: 32px;\n",
       "      padding: 0 0 0 0;\n",
       "      width: 32px;\n",
       "    }\n",
       "\n",
       "    .colab-df-convert:hover {\n",
       "      background-color: #E2EBFA;\n",
       "      box-shadow: 0px 1px 2px rgba(60, 64, 67, 0.3), 0px 1px 3px 1px rgba(60, 64, 67, 0.15);\n",
       "      fill: #174EA6;\n",
       "    }\n",
       "\n",
       "    .colab-df-buttons div {\n",
       "      margin-bottom: 4px;\n",
       "    }\n",
       "\n",
       "    [theme=dark] .colab-df-convert {\n",
       "      background-color: #3B4455;\n",
       "      fill: #D2E3FC;\n",
       "    }\n",
       "\n",
       "    [theme=dark] .colab-df-convert:hover {\n",
       "      background-color: #434B5C;\n",
       "      box-shadow: 0px 1px 3px 1px rgba(0, 0, 0, 0.15);\n",
       "      filter: drop-shadow(0px 1px 2px rgba(0, 0, 0, 0.3));\n",
       "      fill: #FFFFFF;\n",
       "    }\n",
       "  </style>\n",
       "\n",
       "    <script>\n",
       "      const buttonEl =\n",
       "        document.querySelector('#df-491f1c58-182f-4c0c-b541-9fcc49cc15e3 button.colab-df-convert');\n",
       "      buttonEl.style.display =\n",
       "        google.colab.kernel.accessAllowed ? 'block' : 'none';\n",
       "\n",
       "      async function convertToInteractive(key) {\n",
       "        const element = document.querySelector('#df-491f1c58-182f-4c0c-b541-9fcc49cc15e3');\n",
       "        const dataTable =\n",
       "          await google.colab.kernel.invokeFunction('convertToInteractive',\n",
       "                                                    [key], {});\n",
       "        if (!dataTable) return;\n",
       "\n",
       "        const docLinkHtml = 'Like what you see? Visit the ' +\n",
       "          '<a target=\"_blank\" href=https://colab.research.google.com/notebooks/data_table.ipynb>data table notebook</a>'\n",
       "          + ' to learn more about interactive tables.';\n",
       "        element.innerHTML = '';\n",
       "        dataTable['output_type'] = 'display_data';\n",
       "        await google.colab.output.renderOutput(dataTable, element);\n",
       "        const docLink = document.createElement('div');\n",
       "        docLink.innerHTML = docLinkHtml;\n",
       "        element.appendChild(docLink);\n",
       "      }\n",
       "    </script>\n",
       "  </div>\n",
       "\n",
       "\n",
       "<div id=\"df-97ac6c69-8e26-473a-890f-1d6bd0e5c583\">\n",
       "  <button class=\"colab-df-quickchart\" onclick=\"quickchart('df-97ac6c69-8e26-473a-890f-1d6bd0e5c583')\"\n",
       "            title=\"Suggest charts\"\n",
       "            style=\"display:none;\">\n",
       "\n",
       "<svg xmlns=\"http://www.w3.org/2000/svg\" height=\"24px\"viewBox=\"0 0 24 24\"\n",
       "     width=\"24px\">\n",
       "    <g>\n",
       "        <path d=\"M19 3H5c-1.1 0-2 .9-2 2v14c0 1.1.9 2 2 2h14c1.1 0 2-.9 2-2V5c0-1.1-.9-2-2-2zM9 17H7v-7h2v7zm4 0h-2V7h2v10zm4 0h-2v-4h2v4z\"/>\n",
       "    </g>\n",
       "</svg>\n",
       "  </button>\n",
       "\n",
       "<style>\n",
       "  .colab-df-quickchart {\n",
       "      --bg-color: #E8F0FE;\n",
       "      --fill-color: #1967D2;\n",
       "      --hover-bg-color: #E2EBFA;\n",
       "      --hover-fill-color: #174EA6;\n",
       "      --disabled-fill-color: #AAA;\n",
       "      --disabled-bg-color: #DDD;\n",
       "  }\n",
       "\n",
       "  [theme=dark] .colab-df-quickchart {\n",
       "      --bg-color: #3B4455;\n",
       "      --fill-color: #D2E3FC;\n",
       "      --hover-bg-color: #434B5C;\n",
       "      --hover-fill-color: #FFFFFF;\n",
       "      --disabled-bg-color: #3B4455;\n",
       "      --disabled-fill-color: #666;\n",
       "  }\n",
       "\n",
       "  .colab-df-quickchart {\n",
       "    background-color: var(--bg-color);\n",
       "    border: none;\n",
       "    border-radius: 50%;\n",
       "    cursor: pointer;\n",
       "    display: none;\n",
       "    fill: var(--fill-color);\n",
       "    height: 32px;\n",
       "    padding: 0;\n",
       "    width: 32px;\n",
       "  }\n",
       "\n",
       "  .colab-df-quickchart:hover {\n",
       "    background-color: var(--hover-bg-color);\n",
       "    box-shadow: 0 1px 2px rgba(60, 64, 67, 0.3), 0 1px 3px 1px rgba(60, 64, 67, 0.15);\n",
       "    fill: var(--button-hover-fill-color);\n",
       "  }\n",
       "\n",
       "  .colab-df-quickchart-complete:disabled,\n",
       "  .colab-df-quickchart-complete:disabled:hover {\n",
       "    background-color: var(--disabled-bg-color);\n",
       "    fill: var(--disabled-fill-color);\n",
       "    box-shadow: none;\n",
       "  }\n",
       "\n",
       "  .colab-df-spinner {\n",
       "    border: 2px solid var(--fill-color);\n",
       "    border-color: transparent;\n",
       "    border-bottom-color: var(--fill-color);\n",
       "    animation:\n",
       "      spin 1s steps(1) infinite;\n",
       "  }\n",
       "\n",
       "  @keyframes spin {\n",
       "    0% {\n",
       "      border-color: transparent;\n",
       "      border-bottom-color: var(--fill-color);\n",
       "      border-left-color: var(--fill-color);\n",
       "    }\n",
       "    20% {\n",
       "      border-color: transparent;\n",
       "      border-left-color: var(--fill-color);\n",
       "      border-top-color: var(--fill-color);\n",
       "    }\n",
       "    30% {\n",
       "      border-color: transparent;\n",
       "      border-left-color: var(--fill-color);\n",
       "      border-top-color: var(--fill-color);\n",
       "      border-right-color: var(--fill-color);\n",
       "    }\n",
       "    40% {\n",
       "      border-color: transparent;\n",
       "      border-right-color: var(--fill-color);\n",
       "      border-top-color: var(--fill-color);\n",
       "    }\n",
       "    60% {\n",
       "      border-color: transparent;\n",
       "      border-right-color: var(--fill-color);\n",
       "    }\n",
       "    80% {\n",
       "      border-color: transparent;\n",
       "      border-right-color: var(--fill-color);\n",
       "      border-bottom-color: var(--fill-color);\n",
       "    }\n",
       "    90% {\n",
       "      border-color: transparent;\n",
       "      border-bottom-color: var(--fill-color);\n",
       "    }\n",
       "  }\n",
       "</style>\n",
       "\n",
       "  <script>\n",
       "    async function quickchart(key) {\n",
       "      const quickchartButtonEl =\n",
       "        document.querySelector('#' + key + ' button');\n",
       "      quickchartButtonEl.disabled = true;  // To prevent multiple clicks.\n",
       "      quickchartButtonEl.classList.add('colab-df-spinner');\n",
       "      try {\n",
       "        const charts = await google.colab.kernel.invokeFunction(\n",
       "            'suggestCharts', [key], {});\n",
       "      } catch (error) {\n",
       "        console.error('Error during call to suggestCharts:', error);\n",
       "      }\n",
       "      quickchartButtonEl.classList.remove('colab-df-spinner');\n",
       "      quickchartButtonEl.classList.add('colab-df-quickchart-complete');\n",
       "    }\n",
       "    (() => {\n",
       "      let quickchartButtonEl =\n",
       "        document.querySelector('#df-97ac6c69-8e26-473a-890f-1d6bd0e5c583 button');\n",
       "      quickchartButtonEl.style.display =\n",
       "        google.colab.kernel.accessAllowed ? 'block' : 'none';\n",
       "    })();\n",
       "  </script>\n",
       "</div>\n",
       "\n",
       "    </div>\n",
       "  </div>\n"
      ],
      "application/vnd.google.colaboratory.intrinsic+json": {
       "type": "dataframe",
       "variable_name": "dev_dataset",
       "summary": "{\n  \"name\": \"dev_dataset\",\n  \"rows\": 458,\n  \"fields\": [\n    {\n      \"column\": \"logical_fallacies\",\n      \"properties\": {\n        \"dtype\": \"category\",\n        \"num_unique_values\": 12,\n        \"samples\": [\n          \"fallacy of extension\",\n          \"appeal to emotion\",\n          \"intentional\"\n        ],\n        \"semantic_type\": \"\",\n        \"description\": \"\"\n      }\n    },\n    {\n      \"column\": \"source_article_ro\",\n      \"properties\": {\n        \"dtype\": \"string\",\n        \"num_unique_values\": 458,\n        \"samples\": [\n          \"X \\u0219i Y pl\\u0103nuiesc o c\\u0103l\\u0103torie de vacan\\u021b\\u0103 pentru c\\u0103 se pricep la planificare. Sunt buni la planificare pentru c\\u0103 pl\\u0103nuiesc o c\\u0103l\\u0103torie de vacan\\u021b\\u0103.\",\n          \"Linda a v\\u0103zut multe p\\u0103s\\u0103ri \\u00een timp ce f\\u0103cea o plimbare pitoreasc\\u0103 prin mediul rural. Prin urmare, mediul rural trebuie s\\u0103 fie cauza migra\\u021biei p\\u0103s\\u0103rilor.\",\n          \"Un num\\u0103r considerabil de oameni cred c\\u0103 trebuie s\\u0103 organizez dormitorul ast\\u0103zi. Prin urmare, este esen\\u021bial s\\u0103 fac asta.\"\n        ],\n        \"semantic_type\": \"\",\n        \"description\": \"\"\n      }\n    }\n  ]\n}"
      }
     },
     "metadata": {},
     "execution_count": 83
    }
   ],
   "execution_count": 83
  },
  {
   "metadata": {
    "ExecuteTime": {
     "end_time": "2024-11-12T17:53:38.262741Z",
     "start_time": "2024-11-12T17:53:38.246998Z"
    },
    "colab": {
     "base_uri": "https://localhost:8080/",
     "height": 492
    },
    "id": "8d56eb30ae653e72",
    "executionInfo": {
     "status": "ok",
     "timestamp": 1731438826095,
     "user_tz": -120,
     "elapsed": 370,
     "user": {
      "displayName": "Maria Raicu",
      "userId": "00664458830913320871"
     }
    },
    "outputId": "6fe45eaa-c228-48db-dae7-52f00d9d23ef"
   },
   "cell_type": "code",
   "source": [
    "dev_dataset['logical_fallacies'].value_counts()"
   ],
   "id": "8d56eb30ae653e72",
   "outputs": [
    {
     "output_type": "execute_result",
     "data": {
      "text/plain": [
       "logical_fallacies\n",
       "intentional               39\n",
       "deductive fallacy         39\n",
       "faulty generalization     38\n",
       "false causality           38\n",
       "circular reasoning        38\n",
       "ad populum                38\n",
       "false dilemma             38\n",
       "fallacy of relevance      38\n",
       "ad hominem                38\n",
       "appeal to emotion         38\n",
       "fallacy of extension      38\n",
       "fallacy of credibility    38\n",
       "Name: count, dtype: int64"
      ],
      "text/html": [
       "<div>\n",
       "<style scoped>\n",
       "    .dataframe tbody tr th:only-of-type {\n",
       "        vertical-align: middle;\n",
       "    }\n",
       "\n",
       "    .dataframe tbody tr th {\n",
       "        vertical-align: top;\n",
       "    }\n",
       "\n",
       "    .dataframe thead th {\n",
       "        text-align: right;\n",
       "    }\n",
       "</style>\n",
       "<table border=\"1\" class=\"dataframe\">\n",
       "  <thead>\n",
       "    <tr style=\"text-align: right;\">\n",
       "      <th></th>\n",
       "      <th>count</th>\n",
       "    </tr>\n",
       "    <tr>\n",
       "      <th>logical_fallacies</th>\n",
       "      <th></th>\n",
       "    </tr>\n",
       "  </thead>\n",
       "  <tbody>\n",
       "    <tr>\n",
       "      <th>intentional</th>\n",
       "      <td>39</td>\n",
       "    </tr>\n",
       "    <tr>\n",
       "      <th>deductive fallacy</th>\n",
       "      <td>39</td>\n",
       "    </tr>\n",
       "    <tr>\n",
       "      <th>faulty generalization</th>\n",
       "      <td>38</td>\n",
       "    </tr>\n",
       "    <tr>\n",
       "      <th>false causality</th>\n",
       "      <td>38</td>\n",
       "    </tr>\n",
       "    <tr>\n",
       "      <th>circular reasoning</th>\n",
       "      <td>38</td>\n",
       "    </tr>\n",
       "    <tr>\n",
       "      <th>ad populum</th>\n",
       "      <td>38</td>\n",
       "    </tr>\n",
       "    <tr>\n",
       "      <th>false dilemma</th>\n",
       "      <td>38</td>\n",
       "    </tr>\n",
       "    <tr>\n",
       "      <th>fallacy of relevance</th>\n",
       "      <td>38</td>\n",
       "    </tr>\n",
       "    <tr>\n",
       "      <th>ad hominem</th>\n",
       "      <td>38</td>\n",
       "    </tr>\n",
       "    <tr>\n",
       "      <th>appeal to emotion</th>\n",
       "      <td>38</td>\n",
       "    </tr>\n",
       "    <tr>\n",
       "      <th>fallacy of extension</th>\n",
       "      <td>38</td>\n",
       "    </tr>\n",
       "    <tr>\n",
       "      <th>fallacy of credibility</th>\n",
       "      <td>38</td>\n",
       "    </tr>\n",
       "  </tbody>\n",
       "</table>\n",
       "</div><br><label><b>dtype:</b> int64</label>"
      ]
     },
     "metadata": {},
     "execution_count": 84
    }
   ],
   "execution_count": 84
  },
  {
   "metadata": {
    "ExecuteTime": {
     "end_time": "2024-11-12T17:53:39.436352Z",
     "start_time": "2024-11-12T17:53:39.404881Z"
    },
    "colab": {
     "base_uri": "https://localhost:8080/",
     "height": 523
    },
    "id": "c5d2cd8081d67894",
    "executionInfo": {
     "status": "ok",
     "timestamp": 1731438828692,
     "user_tz": -120,
     "elapsed": 257,
     "user": {
      "displayName": "Maria Raicu",
      "userId": "00664458830913320871"
     }
    },
    "outputId": "9154f846-5524-4e23-dfb8-2ad33fb71ee1"
   },
   "cell_type": "code",
   "source": [
    "train_dataset['logical_fallacies'].value_counts()"
   ],
   "id": "c5d2cd8081d67894",
   "outputs": [
    {
     "output_type": "execute_result",
     "data": {
      "text/plain": [
       "logical_fallacies\n",
       "faulty generalization     534\n",
       "intentional               392\n",
       "ad hominem                376\n",
       "ad populum                284\n",
       "appeal to emotion         276\n",
       "false causality           266\n",
       "fallacy of credibility    243\n",
       "fallacy of relevance      242\n",
       "fallacy of logic          222\n",
       "fallacy of extension      174\n",
       "circular reasoning        172\n",
       "false dilemma             172\n",
       "equivocation               70\n",
       "Name: count, dtype: int64"
      ],
      "text/html": [
       "<div>\n",
       "<style scoped>\n",
       "    .dataframe tbody tr th:only-of-type {\n",
       "        vertical-align: middle;\n",
       "    }\n",
       "\n",
       "    .dataframe tbody tr th {\n",
       "        vertical-align: top;\n",
       "    }\n",
       "\n",
       "    .dataframe thead th {\n",
       "        text-align: right;\n",
       "    }\n",
       "</style>\n",
       "<table border=\"1\" class=\"dataframe\">\n",
       "  <thead>\n",
       "    <tr style=\"text-align: right;\">\n",
       "      <th></th>\n",
       "      <th>count</th>\n",
       "    </tr>\n",
       "    <tr>\n",
       "      <th>logical_fallacies</th>\n",
       "      <th></th>\n",
       "    </tr>\n",
       "  </thead>\n",
       "  <tbody>\n",
       "    <tr>\n",
       "      <th>faulty generalization</th>\n",
       "      <td>534</td>\n",
       "    </tr>\n",
       "    <tr>\n",
       "      <th>intentional</th>\n",
       "      <td>392</td>\n",
       "    </tr>\n",
       "    <tr>\n",
       "      <th>ad hominem</th>\n",
       "      <td>376</td>\n",
       "    </tr>\n",
       "    <tr>\n",
       "      <th>ad populum</th>\n",
       "      <td>284</td>\n",
       "    </tr>\n",
       "    <tr>\n",
       "      <th>appeal to emotion</th>\n",
       "      <td>276</td>\n",
       "    </tr>\n",
       "    <tr>\n",
       "      <th>false causality</th>\n",
       "      <td>266</td>\n",
       "    </tr>\n",
       "    <tr>\n",
       "      <th>fallacy of credibility</th>\n",
       "      <td>243</td>\n",
       "    </tr>\n",
       "    <tr>\n",
       "      <th>fallacy of relevance</th>\n",
       "      <td>242</td>\n",
       "    </tr>\n",
       "    <tr>\n",
       "      <th>fallacy of logic</th>\n",
       "      <td>222</td>\n",
       "    </tr>\n",
       "    <tr>\n",
       "      <th>fallacy of extension</th>\n",
       "      <td>174</td>\n",
       "    </tr>\n",
       "    <tr>\n",
       "      <th>circular reasoning</th>\n",
       "      <td>172</td>\n",
       "    </tr>\n",
       "    <tr>\n",
       "      <th>false dilemma</th>\n",
       "      <td>172</td>\n",
       "    </tr>\n",
       "    <tr>\n",
       "      <th>equivocation</th>\n",
       "      <td>70</td>\n",
       "    </tr>\n",
       "  </tbody>\n",
       "</table>\n",
       "</div><br><label><b>dtype:</b> int64</label>"
      ]
     },
     "metadata": {},
     "execution_count": 85
    }
   ],
   "execution_count": 85
  },
  {
   "metadata": {
    "ExecuteTime": {
     "end_time": "2024-11-12T17:53:40.760022Z",
     "start_time": "2024-11-12T17:53:40.747543Z"
    },
    "colab": {
     "base_uri": "https://localhost:8080/",
     "height": 554
    },
    "id": "4a58c9a260a0bdcd",
    "executionInfo": {
     "status": "ok",
     "timestamp": 1731438830652,
     "user_tz": -120,
     "elapsed": 272,
     "user": {
      "displayName": "Maria Raicu",
      "userId": "00664458830913320871"
     }
    },
    "outputId": "3bc4c2a9-9a06-4776-f929-f9703fb29a34"
   },
   "cell_type": "code",
   "source": [
    "test_dataset['logical_fallacies'].value_counts()"
   ],
   "id": "4a58c9a260a0bdcd",
   "outputs": [
    {
     "output_type": "execute_result",
     "data": {
      "text/plain": [
       "logical_fallacies\n",
       "intentional               116\n",
       "faulty generalization      69\n",
       "appeal to emotion          61\n",
       "fallacy of extension       60\n",
       "false causality            52\n",
       "fallacy of relevance       52\n",
       "ad hominem                 51\n",
       "fallacy of credibility     49\n",
       "false dilemma              47\n",
       "ad populum                 40\n",
       "circular reasoning         35\n",
       "deductive fallacy          28\n",
       "fallacy of logic           18\n",
       "equivocation                6\n",
       "Name: count, dtype: int64"
      ],
      "text/html": [
       "<div>\n",
       "<style scoped>\n",
       "    .dataframe tbody tr th:only-of-type {\n",
       "        vertical-align: middle;\n",
       "    }\n",
       "\n",
       "    .dataframe tbody tr th {\n",
       "        vertical-align: top;\n",
       "    }\n",
       "\n",
       "    .dataframe thead th {\n",
       "        text-align: right;\n",
       "    }\n",
       "</style>\n",
       "<table border=\"1\" class=\"dataframe\">\n",
       "  <thead>\n",
       "    <tr style=\"text-align: right;\">\n",
       "      <th></th>\n",
       "      <th>count</th>\n",
       "    </tr>\n",
       "    <tr>\n",
       "      <th>logical_fallacies</th>\n",
       "      <th></th>\n",
       "    </tr>\n",
       "  </thead>\n",
       "  <tbody>\n",
       "    <tr>\n",
       "      <th>intentional</th>\n",
       "      <td>116</td>\n",
       "    </tr>\n",
       "    <tr>\n",
       "      <th>faulty generalization</th>\n",
       "      <td>69</td>\n",
       "    </tr>\n",
       "    <tr>\n",
       "      <th>appeal to emotion</th>\n",
       "      <td>61</td>\n",
       "    </tr>\n",
       "    <tr>\n",
       "      <th>fallacy of extension</th>\n",
       "      <td>60</td>\n",
       "    </tr>\n",
       "    <tr>\n",
       "      <th>false causality</th>\n",
       "      <td>52</td>\n",
       "    </tr>\n",
       "    <tr>\n",
       "      <th>fallacy of relevance</th>\n",
       "      <td>52</td>\n",
       "    </tr>\n",
       "    <tr>\n",
       "      <th>ad hominem</th>\n",
       "      <td>51</td>\n",
       "    </tr>\n",
       "    <tr>\n",
       "      <th>fallacy of credibility</th>\n",
       "      <td>49</td>\n",
       "    </tr>\n",
       "    <tr>\n",
       "      <th>false dilemma</th>\n",
       "      <td>47</td>\n",
       "    </tr>\n",
       "    <tr>\n",
       "      <th>ad populum</th>\n",
       "      <td>40</td>\n",
       "    </tr>\n",
       "    <tr>\n",
       "      <th>circular reasoning</th>\n",
       "      <td>35</td>\n",
       "    </tr>\n",
       "    <tr>\n",
       "      <th>deductive fallacy</th>\n",
       "      <td>28</td>\n",
       "    </tr>\n",
       "    <tr>\n",
       "      <th>fallacy of logic</th>\n",
       "      <td>18</td>\n",
       "    </tr>\n",
       "    <tr>\n",
       "      <th>equivocation</th>\n",
       "      <td>6</td>\n",
       "    </tr>\n",
       "  </tbody>\n",
       "</table>\n",
       "</div><br><label><b>dtype:</b> int64</label>"
      ]
     },
     "metadata": {},
     "execution_count": 86
    }
   ],
   "execution_count": 86
  },
  {
   "metadata": {
    "ExecuteTime": {
     "end_time": "2024-11-12T17:53:41.819880Z",
     "start_time": "2024-11-12T17:53:41.803802Z"
    },
    "colab": {
     "base_uri": "https://localhost:8080/",
     "height": 206
    },
    "id": "a254ebd9e10ca200",
    "executionInfo": {
     "status": "ok",
     "timestamp": 1731438837475,
     "user_tz": -120,
     "elapsed": 250,
     "user": {
      "displayName": "Maria Raicu",
      "userId": "00664458830913320871"
     }
    },
    "outputId": "25d5cb87-fd9e-4e24-9b73-dc300711ad11"
   },
   "cell_type": "code",
   "source": [
    "logical_fallacies = ['faulty generalization', 'intentional', 'ad hominem']\n",
    "fil_train_data, fil_test_data, fil_dev_data = filter_fallacies(train_dataset, test_dataset, dev_dataset,\n",
    "                                                               ['faulty generalization', 'intentional', 'ad hominem'])\n",
    "fil_train_data.head()"
   ],
   "id": "a254ebd9e10ca200",
   "outputs": [
    {
     "output_type": "execute_result",
     "data": {
      "text/plain": [
       "        logical_fallacies                                  source_article_ro\n",
       "6   faulty generalization  Dacă interzicem Hummer-urile pentru că sunt dă...\n",
       "8   faulty generalization   \"Ai întârziat în seara asta. Trebuie să înșeli!\"\n",
       "11             ad hominem  Vă opuneți propunerii unui senator de a extind...\n",
       "27  faulty generalization              Toți jucătorii de fotbal sunt proști.\n",
       "28  faulty generalization  \"Verișoara mea a spus că cursul ei de matemati..."
      ],
      "text/html": [
       "\n",
       "  <div id=\"df-73d77cb9-56ef-47df-92b3-d017efd73903\" class=\"colab-df-container\">\n",
       "    <div>\n",
       "<style scoped>\n",
       "    .dataframe tbody tr th:only-of-type {\n",
       "        vertical-align: middle;\n",
       "    }\n",
       "\n",
       "    .dataframe tbody tr th {\n",
       "        vertical-align: top;\n",
       "    }\n",
       "\n",
       "    .dataframe thead th {\n",
       "        text-align: right;\n",
       "    }\n",
       "</style>\n",
       "<table border=\"1\" class=\"dataframe\">\n",
       "  <thead>\n",
       "    <tr style=\"text-align: right;\">\n",
       "      <th></th>\n",
       "      <th>logical_fallacies</th>\n",
       "      <th>source_article_ro</th>\n",
       "    </tr>\n",
       "  </thead>\n",
       "  <tbody>\n",
       "    <tr>\n",
       "      <th>6</th>\n",
       "      <td>faulty generalization</td>\n",
       "      <td>Dacă interzicem Hummer-urile pentru că sunt dă...</td>\n",
       "    </tr>\n",
       "    <tr>\n",
       "      <th>8</th>\n",
       "      <td>faulty generalization</td>\n",
       "      <td>\"Ai întârziat în seara asta. Trebuie să înșeli!\"</td>\n",
       "    </tr>\n",
       "    <tr>\n",
       "      <th>11</th>\n",
       "      <td>ad hominem</td>\n",
       "      <td>Vă opuneți propunerii unui senator de a extind...</td>\n",
       "    </tr>\n",
       "    <tr>\n",
       "      <th>27</th>\n",
       "      <td>faulty generalization</td>\n",
       "      <td>Toți jucătorii de fotbal sunt proști.</td>\n",
       "    </tr>\n",
       "    <tr>\n",
       "      <th>28</th>\n",
       "      <td>faulty generalization</td>\n",
       "      <td>\"Verișoara mea a spus că cursul ei de matemati...</td>\n",
       "    </tr>\n",
       "  </tbody>\n",
       "</table>\n",
       "</div>\n",
       "    <div class=\"colab-df-buttons\">\n",
       "\n",
       "  <div class=\"colab-df-container\">\n",
       "    <button class=\"colab-df-convert\" onclick=\"convertToInteractive('df-73d77cb9-56ef-47df-92b3-d017efd73903')\"\n",
       "            title=\"Convert this dataframe to an interactive table.\"\n",
       "            style=\"display:none;\">\n",
       "\n",
       "  <svg xmlns=\"http://www.w3.org/2000/svg\" height=\"24px\" viewBox=\"0 -960 960 960\">\n",
       "    <path d=\"M120-120v-720h720v720H120Zm60-500h600v-160H180v160Zm220 220h160v-160H400v160Zm0 220h160v-160H400v160ZM180-400h160v-160H180v160Zm440 0h160v-160H620v160ZM180-180h160v-160H180v160Zm440 0h160v-160H620v160Z\"/>\n",
       "  </svg>\n",
       "    </button>\n",
       "\n",
       "  <style>\n",
       "    .colab-df-container {\n",
       "      display:flex;\n",
       "      gap: 12px;\n",
       "    }\n",
       "\n",
       "    .colab-df-convert {\n",
       "      background-color: #E8F0FE;\n",
       "      border: none;\n",
       "      border-radius: 50%;\n",
       "      cursor: pointer;\n",
       "      display: none;\n",
       "      fill: #1967D2;\n",
       "      height: 32px;\n",
       "      padding: 0 0 0 0;\n",
       "      width: 32px;\n",
       "    }\n",
       "\n",
       "    .colab-df-convert:hover {\n",
       "      background-color: #E2EBFA;\n",
       "      box-shadow: 0px 1px 2px rgba(60, 64, 67, 0.3), 0px 1px 3px 1px rgba(60, 64, 67, 0.15);\n",
       "      fill: #174EA6;\n",
       "    }\n",
       "\n",
       "    .colab-df-buttons div {\n",
       "      margin-bottom: 4px;\n",
       "    }\n",
       "\n",
       "    [theme=dark] .colab-df-convert {\n",
       "      background-color: #3B4455;\n",
       "      fill: #D2E3FC;\n",
       "    }\n",
       "\n",
       "    [theme=dark] .colab-df-convert:hover {\n",
       "      background-color: #434B5C;\n",
       "      box-shadow: 0px 1px 3px 1px rgba(0, 0, 0, 0.15);\n",
       "      filter: drop-shadow(0px 1px 2px rgba(0, 0, 0, 0.3));\n",
       "      fill: #FFFFFF;\n",
       "    }\n",
       "  </style>\n",
       "\n",
       "    <script>\n",
       "      const buttonEl =\n",
       "        document.querySelector('#df-73d77cb9-56ef-47df-92b3-d017efd73903 button.colab-df-convert');\n",
       "      buttonEl.style.display =\n",
       "        google.colab.kernel.accessAllowed ? 'block' : 'none';\n",
       "\n",
       "      async function convertToInteractive(key) {\n",
       "        const element = document.querySelector('#df-73d77cb9-56ef-47df-92b3-d017efd73903');\n",
       "        const dataTable =\n",
       "          await google.colab.kernel.invokeFunction('convertToInteractive',\n",
       "                                                    [key], {});\n",
       "        if (!dataTable) return;\n",
       "\n",
       "        const docLinkHtml = 'Like what you see? Visit the ' +\n",
       "          '<a target=\"_blank\" href=https://colab.research.google.com/notebooks/data_table.ipynb>data table notebook</a>'\n",
       "          + ' to learn more about interactive tables.';\n",
       "        element.innerHTML = '';\n",
       "        dataTable['output_type'] = 'display_data';\n",
       "        await google.colab.output.renderOutput(dataTable, element);\n",
       "        const docLink = document.createElement('div');\n",
       "        docLink.innerHTML = docLinkHtml;\n",
       "        element.appendChild(docLink);\n",
       "      }\n",
       "    </script>\n",
       "  </div>\n",
       "\n",
       "\n",
       "<div id=\"df-29299e48-60d4-47a1-b8a8-38b20edd2d17\">\n",
       "  <button class=\"colab-df-quickchart\" onclick=\"quickchart('df-29299e48-60d4-47a1-b8a8-38b20edd2d17')\"\n",
       "            title=\"Suggest charts\"\n",
       "            style=\"display:none;\">\n",
       "\n",
       "<svg xmlns=\"http://www.w3.org/2000/svg\" height=\"24px\"viewBox=\"0 0 24 24\"\n",
       "     width=\"24px\">\n",
       "    <g>\n",
       "        <path d=\"M19 3H5c-1.1 0-2 .9-2 2v14c0 1.1.9 2 2 2h14c1.1 0 2-.9 2-2V5c0-1.1-.9-2-2-2zM9 17H7v-7h2v7zm4 0h-2V7h2v10zm4 0h-2v-4h2v4z\"/>\n",
       "    </g>\n",
       "</svg>\n",
       "  </button>\n",
       "\n",
       "<style>\n",
       "  .colab-df-quickchart {\n",
       "      --bg-color: #E8F0FE;\n",
       "      --fill-color: #1967D2;\n",
       "      --hover-bg-color: #E2EBFA;\n",
       "      --hover-fill-color: #174EA6;\n",
       "      --disabled-fill-color: #AAA;\n",
       "      --disabled-bg-color: #DDD;\n",
       "  }\n",
       "\n",
       "  [theme=dark] .colab-df-quickchart {\n",
       "      --bg-color: #3B4455;\n",
       "      --fill-color: #D2E3FC;\n",
       "      --hover-bg-color: #434B5C;\n",
       "      --hover-fill-color: #FFFFFF;\n",
       "      --disabled-bg-color: #3B4455;\n",
       "      --disabled-fill-color: #666;\n",
       "  }\n",
       "\n",
       "  .colab-df-quickchart {\n",
       "    background-color: var(--bg-color);\n",
       "    border: none;\n",
       "    border-radius: 50%;\n",
       "    cursor: pointer;\n",
       "    display: none;\n",
       "    fill: var(--fill-color);\n",
       "    height: 32px;\n",
       "    padding: 0;\n",
       "    width: 32px;\n",
       "  }\n",
       "\n",
       "  .colab-df-quickchart:hover {\n",
       "    background-color: var(--hover-bg-color);\n",
       "    box-shadow: 0 1px 2px rgba(60, 64, 67, 0.3), 0 1px 3px 1px rgba(60, 64, 67, 0.15);\n",
       "    fill: var(--button-hover-fill-color);\n",
       "  }\n",
       "\n",
       "  .colab-df-quickchart-complete:disabled,\n",
       "  .colab-df-quickchart-complete:disabled:hover {\n",
       "    background-color: var(--disabled-bg-color);\n",
       "    fill: var(--disabled-fill-color);\n",
       "    box-shadow: none;\n",
       "  }\n",
       "\n",
       "  .colab-df-spinner {\n",
       "    border: 2px solid var(--fill-color);\n",
       "    border-color: transparent;\n",
       "    border-bottom-color: var(--fill-color);\n",
       "    animation:\n",
       "      spin 1s steps(1) infinite;\n",
       "  }\n",
       "\n",
       "  @keyframes spin {\n",
       "    0% {\n",
       "      border-color: transparent;\n",
       "      border-bottom-color: var(--fill-color);\n",
       "      border-left-color: var(--fill-color);\n",
       "    }\n",
       "    20% {\n",
       "      border-color: transparent;\n",
       "      border-left-color: var(--fill-color);\n",
       "      border-top-color: var(--fill-color);\n",
       "    }\n",
       "    30% {\n",
       "      border-color: transparent;\n",
       "      border-left-color: var(--fill-color);\n",
       "      border-top-color: var(--fill-color);\n",
       "      border-right-color: var(--fill-color);\n",
       "    }\n",
       "    40% {\n",
       "      border-color: transparent;\n",
       "      border-right-color: var(--fill-color);\n",
       "      border-top-color: var(--fill-color);\n",
       "    }\n",
       "    60% {\n",
       "      border-color: transparent;\n",
       "      border-right-color: var(--fill-color);\n",
       "    }\n",
       "    80% {\n",
       "      border-color: transparent;\n",
       "      border-right-color: var(--fill-color);\n",
       "      border-bottom-color: var(--fill-color);\n",
       "    }\n",
       "    90% {\n",
       "      border-color: transparent;\n",
       "      border-bottom-color: var(--fill-color);\n",
       "    }\n",
       "  }\n",
       "</style>\n",
       "\n",
       "  <script>\n",
       "    async function quickchart(key) {\n",
       "      const quickchartButtonEl =\n",
       "        document.querySelector('#' + key + ' button');\n",
       "      quickchartButtonEl.disabled = true;  // To prevent multiple clicks.\n",
       "      quickchartButtonEl.classList.add('colab-df-spinner');\n",
       "      try {\n",
       "        const charts = await google.colab.kernel.invokeFunction(\n",
       "            'suggestCharts', [key], {});\n",
       "      } catch (error) {\n",
       "        console.error('Error during call to suggestCharts:', error);\n",
       "      }\n",
       "      quickchartButtonEl.classList.remove('colab-df-spinner');\n",
       "      quickchartButtonEl.classList.add('colab-df-quickchart-complete');\n",
       "    }\n",
       "    (() => {\n",
       "      let quickchartButtonEl =\n",
       "        document.querySelector('#df-29299e48-60d4-47a1-b8a8-38b20edd2d17 button');\n",
       "      quickchartButtonEl.style.display =\n",
       "        google.colab.kernel.accessAllowed ? 'block' : 'none';\n",
       "    })();\n",
       "  </script>\n",
       "</div>\n",
       "\n",
       "    </div>\n",
       "  </div>\n"
      ],
      "application/vnd.google.colaboratory.intrinsic+json": {
       "type": "dataframe",
       "variable_name": "fil_train_data",
       "summary": "{\n  \"name\": \"fil_train_data\",\n  \"rows\": 1302,\n  \"fields\": [\n    {\n      \"column\": \"logical_fallacies\",\n      \"properties\": {\n        \"dtype\": \"category\",\n        \"num_unique_values\": 3,\n        \"samples\": [\n          \"faulty generalization\",\n          \"ad hominem\",\n          \"intentional\"\n        ],\n        \"semantic_type\": \"\",\n        \"description\": \"\"\n      }\n    },\n    {\n      \"column\": \"source_article_ro\",\n      \"properties\": {\n        \"dtype\": \"string\",\n        \"num_unique_values\": 1254,\n        \"samples\": [\n          \"Laura este pre\\u0219edintele clasei. Ea crede c\\u0103 clasa ar trebui s\\u0103 sponsorizeze un dans ca str\\u00e2ngere de fonduri. Apoi afl\\u0103 c\\u0103 un grup de fete care nu-i plac sus\\u021bin \\u0219i ideea unui dans ca str\\u00e2ngere de fonduri. A\\u0219adar, Laura se r\\u0103zg\\u00e2nde\\u0219te \\u0219i decide ca clasa s\\u0103 planifice o curs\\u0103.\",\n          \"\\u201eNimeni nu a reu\\u0219it vreodat\\u0103 s\\u0103 demonstreze definitiv c\\u0103 extratere\\u0219trii exist\\u0103, a\\u0219a c\\u0103 nu trebuie s\\u0103 fie reali.\\u201d\",\n          \"Copilul vecinului meu a fost r\\u0103pit \\u00een timp ce se juca singur \\u00een curtea ei. Ora\\u0219ul meu trebuie s\\u0103 fie un loc periculos pentru copii.\"\n        ],\n        \"semantic_type\": \"\",\n        \"description\": \"\"\n      }\n    }\n  ]\n}"
      }
     },
     "metadata": {},
     "execution_count": 87
    }
   ],
   "execution_count": 87
  },
  {
   "metadata": {
    "ExecuteTime": {
     "end_time": "2024-11-12T17:53:42.454670Z",
     "start_time": "2024-11-12T17:53:42.442358Z"
    },
    "colab": {
     "base_uri": "https://localhost:8080/"
    },
    "id": "c6b6051cbcc18122",
    "executionInfo": {
     "status": "ok",
     "timestamp": 1731438840587,
     "user_tz": -120,
     "elapsed": 397,
     "user": {
      "displayName": "Maria Raicu",
      "userId": "00664458830913320871"
     }
    },
    "outputId": "5a1bf28a-0a8b-48c3-d4ef-b124faf84089"
   },
   "cell_type": "code",
   "source": [
    "id2label = {id: label for id, label in enumerate(logical_fallacies)}\n",
    "\n",
    "label2id = {label: id for id, label in enumerate(logical_fallacies)}\n",
    "\n",
    "print(label2id, id2label)"
   ],
   "id": "c6b6051cbcc18122",
   "outputs": [
    {
     "output_type": "stream",
     "name": "stdout",
     "text": [
      "{'faulty generalization': 0, 'intentional': 1, 'ad hominem': 2} {0: 'faulty generalization', 1: 'intentional', 2: 'ad hominem'}\n"
     ]
    }
   ],
   "execution_count": 88
  },
  {
   "metadata": {
    "ExecuteTime": {
     "end_time": "2024-11-12T17:53:43.323561Z",
     "start_time": "2024-11-12T17:53:43.291806Z"
    },
    "colab": {
     "base_uri": "https://localhost:8080/"
    },
    "id": "3f7efdc6414d42fb",
    "executionInfo": {
     "status": "ok",
     "timestamp": 1731438842127,
     "user_tz": -120,
     "elapsed": 381,
     "user": {
      "displayName": "Maria Raicu",
      "userId": "00664458830913320871"
     }
    },
    "outputId": "3ff87d5e-fc17-423b-abb8-2b4ed3c3add9"
   },
   "cell_type": "code",
   "source": [
    "train_data, test_data, dev_data = encode_labels(fil_train_data, fil_test_data, fil_dev_data, label2id)"
   ],
   "id": "3f7efdc6414d42fb",
   "outputs": [
    {
     "output_type": "stream",
     "name": "stdout",
     "text": [
      "train_data shape: (1302, 3)\n",
      "test_data shape: (236, 3)\n",
      "dev_data shape: (115, 3)\n"
     ]
    }
   ],
   "execution_count": 89
  },
  {
   "metadata": {
    "ExecuteTime": {
     "end_time": "2024-11-12T17:53:45.306783Z",
     "start_time": "2024-11-12T17:53:44.101675Z"
    },
    "id": "4e8d0da2ad8a5f97",
    "executionInfo": {
     "status": "ok",
     "timestamp": 1731438843758,
     "user_tz": -120,
     "elapsed": 648,
     "user": {
      "displayName": "Maria Raicu",
      "userId": "00664458830913320871"
     }
    }
   },
   "cell_type": "code",
   "source": [
    "# ro-bert\n",
    "tokenizer = BertTokenizer.from_pretrained(\"dumitrescustefan/bert-base-romanian-uncased-v1\", max_length=512)"
   ],
   "id": "4e8d0da2ad8a5f97",
   "outputs": [],
   "execution_count": 90
  },
  {
   "metadata": {
    "colab": {
     "base_uri": "https://localhost:8080/"
    },
    "id": "921447388f45ce83",
    "executionInfo": {
     "status": "ok",
     "timestamp": 1731438845577,
     "user_tz": -120,
     "elapsed": 1451,
     "user": {
      "displayName": "Maria Raicu",
      "userId": "00664458830913320871"
     }
    },
    "outputId": "02df93d9-443e-4fc6-83ad-aaba3272b93c"
   },
   "cell_type": "code",
   "source": [
    "device = 'cuda' if cuda.is_available() else 'cpu'\n",
    "model = BertForSequenceClassification.from_pretrained(\"dumitrescustefan/bert-base-romanian-uncased-v1\",\n",
    "                                                      num_labels=len(logical_fallacies),\n",
    "                                                      id2label=id2label, label2id=label2id)\n",
    "\n",
    "# Make model weights contiguous\n",
    "for name, param in model.named_parameters():\n",
    "    if not param.is_contiguous():\n",
    "        param.data = param.data.contiguous()\n",
    "model.to(device)"
   ],
   "id": "921447388f45ce83",
   "outputs": [
    {
     "output_type": "stream",
     "name": "stderr",
     "text": [
      "Some weights of BertForSequenceClassification were not initialized from the model checkpoint at dumitrescustefan/bert-base-romanian-uncased-v1 and are newly initialized: ['classifier.bias', 'classifier.weight']\n",
      "You should probably TRAIN this model on a down-stream task to be able to use it for predictions and inference.\n"
     ]
    },
    {
     "output_type": "execute_result",
     "data": {
      "text/plain": [
       "BertForSequenceClassification(\n",
       "  (bert): BertModel(\n",
       "    (embeddings): BertEmbeddings(\n",
       "      (word_embeddings): Embedding(50000, 768, padding_idx=0)\n",
       "      (position_embeddings): Embedding(512, 768)\n",
       "      (token_type_embeddings): Embedding(2, 768)\n",
       "      (LayerNorm): LayerNorm((768,), eps=1e-12, elementwise_affine=True)\n",
       "      (dropout): Dropout(p=0.1, inplace=False)\n",
       "    )\n",
       "    (encoder): BertEncoder(\n",
       "      (layer): ModuleList(\n",
       "        (0-11): 12 x BertLayer(\n",
       "          (attention): BertAttention(\n",
       "            (self): BertSdpaSelfAttention(\n",
       "              (query): Linear(in_features=768, out_features=768, bias=True)\n",
       "              (key): Linear(in_features=768, out_features=768, bias=True)\n",
       "              (value): Linear(in_features=768, out_features=768, bias=True)\n",
       "              (dropout): Dropout(p=0.1, inplace=False)\n",
       "            )\n",
       "            (output): BertSelfOutput(\n",
       "              (dense): Linear(in_features=768, out_features=768, bias=True)\n",
       "              (LayerNorm): LayerNorm((768,), eps=1e-12, elementwise_affine=True)\n",
       "              (dropout): Dropout(p=0.1, inplace=False)\n",
       "            )\n",
       "          )\n",
       "          (intermediate): BertIntermediate(\n",
       "            (dense): Linear(in_features=768, out_features=3072, bias=True)\n",
       "            (intermediate_act_fn): GELUActivation()\n",
       "          )\n",
       "          (output): BertOutput(\n",
       "            (dense): Linear(in_features=3072, out_features=768, bias=True)\n",
       "            (LayerNorm): LayerNorm((768,), eps=1e-12, elementwise_affine=True)\n",
       "            (dropout): Dropout(p=0.1, inplace=False)\n",
       "          )\n",
       "        )\n",
       "      )\n",
       "    )\n",
       "    (pooler): BertPooler(\n",
       "      (dense): Linear(in_features=768, out_features=768, bias=True)\n",
       "      (activation): Tanh()\n",
       "    )\n",
       "  )\n",
       "  (dropout): Dropout(p=0.1, inplace=False)\n",
       "  (classifier): Linear(in_features=768, out_features=3, bias=True)\n",
       ")"
      ]
     },
     "metadata": {},
     "execution_count": 91
    }
   ],
   "execution_count": 91
  },
  {
   "metadata": {
    "ExecuteTime": {
     "end_time": "2024-11-12T17:53:55.901637Z",
     "start_time": "2024-11-12T17:53:53.823991Z"
    },
    "id": "a970113ca5e5f4a9",
    "executionInfo": {
     "status": "ok",
     "timestamp": 1731438848872,
     "user_tz": -120,
     "elapsed": 1433,
     "user": {
      "displayName": "Maria Raicu",
      "userId": "00664458830913320871"
     }
    }
   },
   "cell_type": "code",
   "source": [
    "train_encodings = tokenizer(list(train_data['source_article_ro']), padding=True, truncation=True, max_length=1024)\n",
    "test_encodings = tokenizer(list(test_data['source_article_ro']), padding=True, truncation=True, max_length=1024)\n",
    "dev_encodings = tokenizer(list(dev_data['source_article_ro']), padding=True, truncation=True, max_length=1024)"
   ],
   "id": "a970113ca5e5f4a9",
   "outputs": [],
   "execution_count": 92
  },
  {
   "metadata": {
    "ExecuteTime": {
     "end_time": "2024-11-12T17:53:55.948620Z",
     "start_time": "2024-11-12T17:53:55.901637Z"
    },
    "id": "68630c6d24ec236f",
    "executionInfo": {
     "status": "ok",
     "timestamp": 1731438848872,
     "user_tz": -120,
     "elapsed": 1,
     "user": {
      "displayName": "Maria Raicu",
      "userId": "00664458830913320871"
     }
    }
   },
   "cell_type": "code",
   "source": [
    "train_labels = list(train_data['logical_fallacies_id'])\n",
    "test_labels = list(test_data['logical_fallacies_id'])\n",
    "dev_labels = list(dev_data['logical_fallacies_id'])"
   ],
   "id": "68630c6d24ec236f",
   "outputs": [],
   "execution_count": 93
  },
  {
   "metadata": {
    "ExecuteTime": {
     "end_time": "2024-11-12T17:53:55.964553Z",
     "start_time": "2024-11-12T17:53:55.951638Z"
    },
    "id": "1d910762c0ff584b",
    "executionInfo": {
     "status": "ok",
     "timestamp": 1731438849109,
     "user_tz": -120,
     "elapsed": 2,
     "user": {
      "displayName": "Maria Raicu",
      "userId": "00664458830913320871"
     }
    }
   },
   "cell_type": "code",
   "source": [
    "train_dataloader = DataLoader(train_encodings, train_labels)\n",
    "test_dataloader = DataLoader(test_encodings, test_labels)\n",
    "dev_dataloader = DataLoader(dev_encodings, dev_labels)"
   ],
   "id": "1d910762c0ff584b",
   "outputs": [],
   "execution_count": 94
  },
  {
   "metadata": {
    "ExecuteTime": {
     "end_time": "2024-11-12T17:53:56.835856Z",
     "start_time": "2024-11-12T17:53:56.564930Z"
    },
    "id": "3855db72cc01b30a",
    "executionInfo": {
     "status": "ok",
     "timestamp": 1731438855015,
     "user_tz": -120,
     "elapsed": 258,
     "user": {
      "displayName": "Maria Raicu",
      "userId": "00664458830913320871"
     }
    }
   },
   "cell_type": "code",
   "source": [
    "training_args = TrainingArguments(\n",
    "    # The output directory where the model predictions and checkpoints will be written\n",
    "    output_dir=\"./results\",\n",
    "    eval_strategy=\"epoch\",\n",
    "    learning_rate=float(config['model']['params']['learning_rate']),\n",
    "    per_device_train_batch_size=config['model']['params']['train_batch_size'],\n",
    "    per_device_eval_batch_size=config['model']['params']['eval_batch_size'],\n",
    "    num_train_epochs=config['model']['params']['epochs'],\n",
    "    weight_decay=0.01,\n",
    "    log_level=\"warning\"\n",
    ")\n",
    "\n",
    "trainer = Trainer(\n",
    "    model=model,\n",
    "    args=training_args,\n",
    "    train_dataset=train_dataloader,\n",
    "    eval_dataset=dev_dataloader,\n",
    "    compute_metrics=compute_metrics_wandb\n",
    ")"
   ],
   "id": "3855db72cc01b30a",
   "outputs": [],
   "execution_count": 96
  },
  {
   "metadata": {
    "ExecuteTime": {
     "end_time": "2024-11-12T17:56:15.406480Z",
     "start_time": "2024-11-12T17:54:01.651949Z"
    },
    "colab": {
     "base_uri": "https://localhost:8080/",
     "height": 269
    },
    "id": "31c10258895da3c0",
    "executionInfo": {
     "status": "ok",
     "timestamp": 1731439259660,
     "user_tz": -120,
     "elapsed": 403094,
     "user": {
      "displayName": "Maria Raicu",
      "userId": "00664458830913320871"
     }
    },
    "outputId": "e5ed70db-7548-4be1-8b8a-69b22c6f04ea"
   },
   "cell_type": "code",
   "source": [
    "# Start training\n",
    "trainer.train()"
   ],
   "id": "31c10258895da3c0",
   "outputs": [
    {
     "output_type": "display_data",
     "data": {
      "text/plain": [
       "<IPython.core.display.HTML object>"
      ],
      "text/html": [
       "\n",
       "    <div>\n",
       "      \n",
       "      <progress value='410' max='410' style='width:300px; height:20px; vertical-align: middle;'></progress>\n",
       "      [410/410 06:41, Epoch 5/5]\n",
       "    </div>\n",
       "    <table border=\"1\" class=\"dataframe\">\n",
       "  <thead>\n",
       " <tr style=\"text-align: left;\">\n",
       "      <th>Epoch</th>\n",
       "      <th>Training Loss</th>\n",
       "      <th>Validation Loss</th>\n",
       "      <th>Accuracy</th>\n",
       "      <th>F1</th>\n",
       "      <th>Precision</th>\n",
       "      <th>Recall</th>\n",
       "    </tr>\n",
       "  </thead>\n",
       "  <tbody>\n",
       "    <tr>\n",
       "      <td>1</td>\n",
       "      <td>No log</td>\n",
       "      <td>0.820626</td>\n",
       "      <td>0.634783</td>\n",
       "      <td>0.591378</td>\n",
       "      <td>0.744610</td>\n",
       "      <td>0.638327</td>\n",
       "    </tr>\n",
       "    <tr>\n",
       "      <td>2</td>\n",
       "      <td>No log</td>\n",
       "      <td>0.591634</td>\n",
       "      <td>0.782609</td>\n",
       "      <td>0.779894</td>\n",
       "      <td>0.830065</td>\n",
       "      <td>0.784076</td>\n",
       "    </tr>\n",
       "    <tr>\n",
       "      <td>3</td>\n",
       "      <td>No log</td>\n",
       "      <td>0.566770</td>\n",
       "      <td>0.808696</td>\n",
       "      <td>0.803848</td>\n",
       "      <td>0.841880</td>\n",
       "      <td>0.810391</td>\n",
       "    </tr>\n",
       "    <tr>\n",
       "      <td>4</td>\n",
       "      <td>No log</td>\n",
       "      <td>0.531678</td>\n",
       "      <td>0.834783</td>\n",
       "      <td>0.833127</td>\n",
       "      <td>0.855919</td>\n",
       "      <td>0.835807</td>\n",
       "    </tr>\n",
       "    <tr>\n",
       "      <td>5</td>\n",
       "      <td>No log</td>\n",
       "      <td>0.570989</td>\n",
       "      <td>0.826087</td>\n",
       "      <td>0.824510</td>\n",
       "      <td>0.849743</td>\n",
       "      <td>0.827036</td>\n",
       "    </tr>\n",
       "  </tbody>\n",
       "</table><p>"
      ]
     },
     "metadata": {}
    },
    {
     "output_type": "execute_result",
     "data": {
      "text/plain": [
       "TrainOutput(global_step=410, training_loss=0.42822139088700456, metrics={'train_runtime': 402.2218, 'train_samples_per_second': 16.185, 'train_steps_per_second': 1.019, 'total_flos': 1160869760244180.0, 'train_loss': 0.42822139088700456, 'epoch': 5.0})"
      ]
     },
     "metadata": {},
     "execution_count": 97
    }
   ],
   "execution_count": 97
  },
  {
   "metadata": {
    "ExecuteTime": {
     "end_time": "2024-11-12T16:51:15.348535Z",
     "start_time": "2024-11-12T16:51:15.191256Z"
    },
    "colab": {
     "base_uri": "https://localhost:8080/",
     "height": 487
    },
    "id": "e407e9b7a9e0a686",
    "executionInfo": {
     "status": "ok",
     "timestamp": 1731439310487,
     "user_tz": -120,
     "elapsed": 706,
     "user": {
      "displayName": "Maria Raicu",
      "userId": "00664458830913320871"
     }
    },
    "outputId": "848ba95a-286f-4c2e-fc8f-cb960fc0d581"
   },
   "cell_type": "code",
   "source": [
    "plot = plot_training_curve(trainer)"
   ],
   "id": "e407e9b7a9e0a686",
   "outputs": [
    {
     "output_type": "display_data",
     "data": {
      "text/plain": [
       "<Figure size 1000x500 with 1 Axes>"
      ],
      "image/png": "[encoded data removed]"
     },
     "metadata": {}
    }
   ],
   "execution_count": 98
  },
  {
   "metadata": {
    "ExecuteTime": {
     "end_time": "2024-11-12T16:56:17.102113Z",
     "start_time": "2024-11-12T16:56:12.271612Z"
    },
    "colab": {
     "base_uri": "https://localhost:8080/",
     "height": 736
    },
    "id": "41f17e1cc7362f24",
    "executionInfo": {
     "status": "ok",
     "timestamp": 1731439315217,
     "user_tz": -120,
     "elapsed": 1911,
     "user": {
      "displayName": "Maria Raicu",
      "userId": "00664458830913320871"
     }
    },
    "outputId": "0202a2f7-6e67-40bf-ca04-f421d55b8a3b"
   },
   "cell_type": "code",
   "source": [
    "wandb.finish()"
   ],
   "id": "41f17e1cc7362f24",
   "outputs": [
    {
     "output_type": "display_data",
     "data": {
      "text/plain": [
       "<IPython.core.display.HTML object>"
      ],
      "text/html": [
       "\n",
       "    <style>\n",
       "        .wandb-row {\n",
       "            display: flex;\n",
       "            flex-direction: row;\n",
       "            flex-wrap: wrap;\n",
       "            justify-content: flex-start;\n",
       "            width: 100%;\n",
       "        }\n",
       "        .wandb-col {\n",
       "            display: flex;\n",
       "            flex-direction: column;\n",
       "            flex-basis: 100%;\n",
       "            flex: 1;\n",
       "            padding: 10px;\n",
       "        }\n",
       "    </style>\n",
       "<div class=\"wandb-row\"><div class=\"wandb-col\"><h3>Run history:</h3><br/><table class=\"wandb\"><tr><td>Accuracy_class_0</td><td>▁▁▁▁▁</td></tr><tr><td>Accuracy_class_1</td><td>▁▇▇██</td></tr><tr><td>Accuracy_class_2</td><td>▁▄█▇▅</td></tr><tr><td>F1_class_0</td><td>▁▅▇█▇</td></tr><tr><td>F1_class_1</td><td>▁▇▇██</td></tr><tr><td>F1_class_2</td><td>▁▆▇█▇</td></tr><tr><td>Precision_class_0</td><td>▁▅▇█▇</td></tr><tr><td>Precision_class_1</td><td>███▁▁</td></tr><tr><td>Precision_class_2</td><td>▁▇▆██</td></tr><tr><td>Recall_class_0</td><td>▁▁▁▁▁</td></tr><tr><td>Recall_class_1</td><td>▁▇▇██</td></tr><tr><td>Recall_class_2</td><td>▁▄█▇▅</td></tr><tr><td>eval/Accuracy</td><td>▁▆▇██</td></tr><tr><td>eval/F1</td><td>▁▆▇██</td></tr><tr><td>eval/Precision</td><td>▁▆▇██</td></tr><tr><td>eval/Recall</td><td>▁▆▇██</td></tr><tr><td>eval/loss</td><td>█▂▂▁▂</td></tr><tr><td>eval/runtime</td><td>▂▂▂▁█</td></tr><tr><td>eval/samples_per_second</td><td>▇▇▇█▁</td></tr><tr><td>eval/steps_per_second</td><td>▇▇▇█▁</td></tr><tr><td>train/epoch</td><td>▁▃▅▆██</td></tr><tr><td>train/global_step</td><td>▁▂▂▄▄▅▅▇▇███</td></tr></table><br/></div><div class=\"wandb-col\"><h3>Run summary:</h3><br/><table class=\"wandb\"><tr><td>Accuracy_class_0</td><td>1</td></tr><tr><td>Accuracy_class_1</td><td>0.71795</td></tr><tr><td>Accuracy_class_2</td><td>0.76316</td></tr><tr><td>F1_class_0</td><td>0.84444</td></tr><tr><td>F1_class_1</td><td>0.82353</td></tr><tr><td>F1_class_2</td><td>0.80556</td></tr><tr><td>Precision_class_0</td><td>0.73077</td></tr><tr><td>Precision_class_1</td><td>0.96552</td></tr><tr><td>Precision_class_2</td><td>0.85294</td></tr><tr><td>Recall_class_0</td><td>1</td></tr><tr><td>Recall_class_1</td><td>0.71795</td></tr><tr><td>Recall_class_2</td><td>0.76316</td></tr><tr><td>eval/Accuracy</td><td>0.82609</td></tr><tr><td>eval/F1</td><td>0.82451</td></tr><tr><td>eval/Precision</td><td>0.84974</td></tr><tr><td>eval/Recall</td><td>0.82704</td></tr><tr><td>eval/loss</td><td>0.57099</td></tr><tr><td>eval/runtime</td><td>0.3746</td></tr><tr><td>eval/samples_per_second</td><td>306.969</td></tr><tr><td>eval/steps_per_second</td><td>21.354</td></tr><tr><td>total_flos</td><td>1160869760244180.0</td></tr><tr><td>train/epoch</td><td>5</td></tr><tr><td>train/global_step</td><td>410</td></tr><tr><td>train_loss</td><td>0.42822</td></tr><tr><td>train_runtime</td><td>402.2218</td></tr><tr><td>train_samples_per_second</td><td>16.185</td></tr><tr><td>train_steps_per_second</td><td>1.019</td></tr></table><br/></div></div>"
      ]
     },
     "metadata": {}
    },
    {
     "output_type": "display_data",
     "data": {
      "text/plain": [
       "<IPython.core.display.HTML object>"
      ],
      "text/html": [
       " View run <strong style=\"color:#cdcd00\">crimson-fog-21</strong> at: <a href='https://wandb.ai/maria_r-bbu/Logical_Fallacies/runs/ckh3rzig' target=\"_blank\">https://wandb.ai/maria_r-bbu/Logical_Fallacies/runs/ckh3rzig</a><br/> View project at: <a href='https://wandb.ai/maria_r-bbu/Logical_Fallacies' target=\"_blank\">https://wandb.ai/maria_r-bbu/Logical_Fallacies</a><br/>Synced 4 W&B file(s), 0 media file(s), 0 artifact file(s) and 1 other file(s)"
      ]
     },
     "metadata": {}
    },
    {
     "output_type": "display_data",
     "data": {
      "text/plain": [
       "<IPython.core.display.HTML object>"
      ],
      "text/html": [
       "Find logs at: <code>./wandb/run-20241112_191130-ckh3rzig/logs</code>"
      ]
     },
     "metadata": {}
    }
   ],
   "execution_count": 99
  },
  {
   "metadata": {
    "ExecuteTime": {
     "end_time": "2024-11-12T18:06:06.676415Z",
     "start_time": "2024-11-12T18:06:05.262074Z"
    },
    "colab": {
     "base_uri": "https://localhost:8080/"
    },
    "id": "ed988b6d40d129a4",
    "executionInfo": {
     "status": "ok",
     "timestamp": 1731439318687,
     "user_tz": -120,
     "elapsed": 2125,
     "user": {
      "displayName": "Maria Raicu",
      "userId": "00664458830913320871"
     }
    },
    "outputId": "8188f020-87e9-4c53-c791-b5a14e6bace8"
   },
   "cell_type": "code",
   "source": [
    "model_path = get_file_name(\"outputs\", \"bert-3-classes-model\")\n",
    "trainer.save_model(model_path)\n",
    "tokenizer.save_pretrained(model_path)"
   ],
   "id": "ed988b6d40d129a4",
   "outputs": [
    {
     "output_type": "execute_result",
     "data": {
      "text/plain": [
       "('outputs/12-11-2024_19-21-56_bert-3-classes-model.pickle/tokenizer_config.json',\n",
       " 'outputs/12-11-2024_19-21-56_bert-3-classes-model.pickle/special_tokens_map.json',\n",
       " 'outputs/12-11-2024_19-21-56_bert-3-classes-model.pickle/vocab.txt',\n",
       " 'outputs/12-11-2024_19-21-56_bert-3-classes-model.pickle/added_tokens.json')"
      ]
     },
     "metadata": {},
     "execution_count": 100
    }
   ],
   "execution_count": 100
  },
  {
   "metadata": {
    "ExecuteTime": {
     "end_time": "2024-11-12T16:56:50.902262Z",
     "start_time": "2024-11-12T16:56:50.067830Z"
    },
    "colab": {
     "base_uri": "https://localhost:8080/"
    },
    "id": "30547b5f4f8dd5b8",
    "executionInfo": {
     "status": "ok",
     "timestamp": 1731439320283,
     "user_tz": -120,
     "elapsed": 412,
     "user": {
      "displayName": "Maria Raicu",
      "userId": "00664458830913320871"
     }
    },
    "outputId": "09243d09-6d39-4415-cd53-e98db39e247c"
   },
   "cell_type": "code",
   "source": [
    "model = BertForSequenceClassification.from_pretrained(model_path)\n",
    "tokenizer = BertTokenizerFast.from_pretrained(model_path)\n",
    "nlp = pipeline(\"text-classification\", model=model, tokenizer=tokenizer)"
   ],
   "id": "30547b5f4f8dd5b8",
   "outputs": [
    {
     "output_type": "stream",
     "name": "stderr",
     "text": [
      "Hardware accelerator e.g. GPU is available in the environment, but no `device` argument is passed to the `Pipeline` object. Model will be on CPU.\n"
     ]
    }
   ],
   "execution_count": 101
  }
 ],
 "metadata": {
  "kernelspec": {
   "display_name": "Python 3",
   "name": "python3"
  },
  "language_info": {
   "codemirror_mode": {
    "name": "ipython",
    "version": 2
   },
   "file_extension": ".py",
   "mimetype": "text/x-python",
   "name": "python",
   "nbconvert_exporter": "python",
   "pygments_lexer": "ipython2",
   "version": "2.7.6"
  },
  "colab": {
   "provenance": [],
   "gpuType": "T4"
  },
  "accelerator": "GPU"
 },
 "nbformat": 4,
 "nbformat_minor": 5
}
