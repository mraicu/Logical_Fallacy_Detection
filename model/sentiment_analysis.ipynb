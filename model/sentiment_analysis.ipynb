{
 "cells": [
  {
   "metadata": {},
   "cell_type": "markdown",
   "source": "#### Option 1: sentiment on English texts",
   "id": "b14185ce4ba16e77"
  },
  {
   "metadata": {},
   "cell_type": "code",
   "source": [
    "from vaderSentiment.vaderSentiment import SentimentIntensityAnalyzer\n",
    "import torch\n",
    "\n",
    "sentiment = SentimentIntensityAnalyzer()\n",
    "\n",
    "text_1 = \"By rejecting God, you are rejecting goodness, kindness, and love itself.\"\n",
    "text_2 = \"We, the people, are going to work together to achieve justice, unity, and integrity.\"\n",
    "text_3 = \"Ms. Baker assigned me a lot of homework because she’s a witch!\"\n",
    "\n",
    "sent_1 = sentiment.polarity_scores(text_1)\n",
    "sent_2 = sentiment.polarity_scores(text_2)\n",
    "sent_3 = sentiment.polarity_scores(text_3)\n",
    "\n",
    "print(\"Sentiment of text 1:\", sent_1)\n",
    "print(\"Sentiment of text 2:\", sent_2)\n",
    "print(\"Sentiment of text 3:\", sent_3)"
   ],
   "id": "c80b2da556ddcad1",
   "outputs": [],
   "execution_count": null
  },
  {
   "metadata": {},
   "cell_type": "markdown",
   "source": "#### Option 2: sentiment on Romanian texts",
   "id": "c1e224d62d6ddfb0"
  },
  {
   "metadata": {},
   "cell_type": "code",
   "source": [
    "from transformers import AutoTokenizer, AutoModelForSequenceClassification\n",
    "\n",
    "model_name = \"dumitrescustefan/bert-base-romanian-cased-v1\"\n",
    "tokenizer = AutoTokenizer.from_pretrained(model_name)\n",
    "model = AutoModelForSequenceClassification.from_pretrained(model_name, num_labels=3)\n",
    "\n",
    "\n",
    "def analyze_sentiment(text):\n",
    "    inputs = tokenizer(text, return_tensors=\"pt\", truncation=True, padding=True)\n",
    "    with torch.no_grad():\n",
    "        logits = model(**inputs).logits\n",
    "    sentiment = torch.argmax(logits).item()\n",
    "    labels = {0: \"Negative\", 1: \"Neutral\", 2: \"Positive\"}\n",
    "    return labels[sentiment]\n",
    "\n",
    "\n",
    "text = \"Îmi place foarte mult acest film!\"\n",
    "print(analyze_sentiment(text))"
   ],
   "id": "b765798930648179",
   "outputs": [],
   "execution_count": null
  },
  {
   "metadata": {},
   "cell_type": "markdown",
   "source": "#### Option 3: sentiment on Romanian texts\n",
   "id": "2f55d78230730c0e"
  },
  {
   "metadata": {},
   "cell_type": "code",
   "source": [
    "from transformers import AutoTokenizer, AutoModelForSequenceClassification\n",
    "\n",
    "model_name = \"dumitrescustefan/bert-base-romanian-uncased-v1\"\n",
    "tokenizer = AutoTokenizer.from_pretrained(model_name)\n",
    "model = AutoModelForSequenceClassification.from_pretrained(model_name, num_labels=3)\n",
    "\n",
    "\n",
    "def analyze_sentiment(text):\n",
    "    inputs = tokenizer(text, return_tensors=\"pt\", truncation=True, padding=True)\n",
    "    with torch.no_grad():\n",
    "        logits = model(**inputs).logits\n",
    "    sentiment = torch.argmax(logits).item()\n",
    "    labels = {0: \"Negative\", 1: \"Neutral\", 2: \"Positive\"}\n",
    "    return labels[sentiment]\n",
    "\n",
    "\n",
    "text = \"Îmi place foarte mult acest film!\"\n",
    "print(analyze_sentiment(text))"
   ],
   "id": "ee5be42649611dca",
   "outputs": [],
   "execution_count": null
  },
  {
   "metadata": {},
   "cell_type": "markdown",
   "source": [
    "#### Option 4: sentiment on Romanian texts\n",
    " \n",
    "https://huggingface.co/readerbench/ro-sentiment\n",
    "Output labels:\n",
    "\n",
    "LABEL_0 = Negative Sentiment\n",
    "LABEL_1 = Positive Sentiment"
   ],
   "id": "a3ec028e1b7d1692"
  },
  {
   "metadata": {},
   "cell_type": "code",
   "source": [
    "from transformers import AutoTokenizer, AutoModelForSequenceClassification\n",
    "\n",
    "model_name = \"readerbench/ro-sentiment\"\n",
    "\n",
    "# Initialize tokenizer and model\n",
    "tokenizer = AutoTokenizer.from_pretrained(model_name)\n",
    "model = AutoModelForSequenceClassification.from_pretrained(model_name)\n",
    "device = torch.device(\"cuda\" if torch.cuda.is_available() else \"cpu\")\n",
    "model = model.to(device)\n",
    "\n",
    "\n",
    "def sentiment(text):\n",
    "    \"\"\"Assess the sentiment of the input text.\"\"\"\n",
    "    inputs = tokenizer(text, return_tensors=\"pt\", truncation=True, padding=True).to(device)\n",
    "    with torch.no_grad():\n",
    "        logits = model(**inputs).logits.squeeze().cpu()\n",
    "    return logits.tolist()\n",
    "\n",
    "\n",
    "# Example usage\n",
    "score = sentiment(\"Îmi place foarte mult acest film!\")\n",
    "print(f\"Sentiment score: {score}\")"
   ],
   "id": "4259b1a15f48db17",
   "outputs": [],
   "execution_count": null
  },
  {
   "metadata": {},
   "cell_type": "markdown",
   "source": "### Final version",
   "id": "773b2a226575b535"
  },
  {
   "metadata": {},
   "cell_type": "code",
   "source": [
    "import pandas as pd\n",
    "from vaderSentiment.vaderSentiment import SentimentIntensityAnalyzer\n",
    "\n",
    "df = pd.read_csv(\"../data/all/combined_lfud_huggingface_binary.csv\")\n",
    "\n",
    "analyzer = SentimentIntensityAnalyzer()\n",
    "\n",
    "\n",
    "def get_sentiment(text):\n",
    "    if pd.isna(text):\n",
    "        print(\"There is a nan value\")\n",
    "    score = analyzer.polarity_scores(text)['compound']\n",
    "    if score >= 0.05:\n",
    "        return \"positive\"\n",
    "    elif score <= -0.05:\n",
    "        return \"negative\"\n",
    "    else:\n",
    "        return \"neutral\"\n",
    "\n",
    "\n",
    "# Apply sentiment analysis to 'source_article'\n",
    "df['sentiment'] = df['source_article'].apply(get_sentiment)"
   ],
   "id": "dde3ee05f1f6920d",
   "outputs": [],
   "execution_count": null
  },
  {
   "metadata": {},
   "cell_type": "code",
   "source": [
    "df.to_csv(\"../data/all/combined_lfud_huggingface_binary_sent.csv\", index=False)\n",
    "print(df.head())"
   ],
   "id": "9e144ef63fa413a7",
   "outputs": [],
   "execution_count": null
  },
  {
   "metadata": {},
   "cell_type": "code",
   "source": "data = pd.read_csv(\"../data/all/combined_lfud_huggingface_binary_sent.csv\")",
   "id": "5983aa5c7e27c6a7",
   "outputs": [],
   "execution_count": null
  },
  {
   "metadata": {},
   "cell_type": "code",
   "source": "data.value_counts(data[\"sentiment\"])",
   "id": "a774f002ae78a92e",
   "outputs": [],
   "execution_count": null
  }
 ],
 "metadata": {
  "kernelspec": {
   "display_name": "Python 3",
   "language": "python",
   "name": "python3"
  },
  "language_info": {
   "codemirror_mode": {
    "name": "ipython",
    "version": 2
   },
   "file_extension": ".py",
   "mimetype": "text/x-python",
   "name": "python",
   "nbconvert_exporter": "python",
   "pygments_lexer": "ipython2",
   "version": "2.7.6"
  }
 },
 "nbformat": 4,
 "nbformat_minor": 5
}
