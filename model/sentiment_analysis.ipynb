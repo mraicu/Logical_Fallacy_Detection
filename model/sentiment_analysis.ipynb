{
 "cells": [
  {
   "metadata": {},
   "cell_type": "markdown",
   "source": "#### Varianta 1: sentiment pe textele in engleza",
   "id": "b14185ce4ba16e77"
  },
  {
   "metadata": {
    "ExecuteTime": {
     "end_time": "2025-02-03T15:30:06.596723Z",
     "start_time": "2025-02-03T15:30:06.561435Z"
    }
   },
   "cell_type": "code",
   "source": [
    "from vaderSentiment.vaderSentiment import SentimentIntensityAnalyzer\n",
    "sentiment = SentimentIntensityAnalyzer()\n",
    "\n",
    "text_1 = \"By rejecting God, you are rejecting goodness, kindness, and love itself.\"\n",
    "text_2 = \"We, the people, are going to work together to achieve justice, unity, and integrity.\"\n",
    "text_3 = \"Ms. Baker assigned me a lot of homework because she’s a witch!\"\n",
    "\n",
    "sent_1 = sentiment.polarity_scores(text_1)\n",
    "sent_2 = sentiment.polarity_scores(text_2)\n",
    "sent_3 = sentiment.polarity_scores(text_3)\n",
    "\n",
    "print(\"Sentiment of text 1:\", sent_1)\n",
    "print(\"Sentiment of text 2:\", sent_2)\n",
    "print(\"Sentiment of text 3:\", sent_3)"
   ],
   "id": "c80b2da556ddcad1",
   "outputs": [
    {
     "name": "stdout",
     "output_type": "stream",
     "text": [
      "Sentiment of text 1: {'neg': 0.258, 'neu': 0.215, 'pos': 0.528, 'compound': 0.743}\n",
      "Sentiment of text 2: {'neg': 0.0, 'neu': 0.667, 'pos': 0.333, 'compound': 0.7184}\n",
      "Sentiment of text 3: {'neg': 0.202, 'neu': 0.798, 'pos': 0.0, 'compound': -0.4199}\n"
     ]
    }
   ],
   "execution_count": 6
  },
  {
   "metadata": {},
   "cell_type": "markdown",
   "source": "#### Varianta 2: sentiment pe textele in romana, dar..",
   "id": "c1e224d62d6ddfb0"
  },
  {
   "metadata": {
    "ExecuteTime": {
     "end_time": "2025-02-03T15:35:39.390940Z",
     "start_time": "2025-02-03T15:35:19.061680Z"
    }
   },
   "cell_type": "code",
   "source": [
    "from transformers import AutoTokenizer, AutoModelForSequenceClassification\n",
    "\n",
    "model_name = \"dumitrescustefan/bert-base-romanian-cased-v1\"\n",
    "tokenizer = AutoTokenizer.from_pretrained(model_name)\n",
    "model = AutoModelForSequenceClassification.from_pretrained(model_name, num_labels=3)\n",
    "\n",
    "def analyze_sentiment(text):\n",
    "    inputs = tokenizer(text, return_tensors=\"pt\", truncation=True, padding=True)\n",
    "    with torch.no_grad():\n",
    "        logits = model(**inputs).logits\n",
    "    sentiment = torch.argmax(logits).item()\n",
    "    labels = {0: \"Negative\", 1: \"Neutral\", 2: \"Positive\"}\n",
    "    return labels[sentiment]\n",
    "\n",
    "text = \"Îmi place foarte mult acest film!\"\n",
    "print(analyze_sentiment(text))"
   ],
   "id": "b765798930648179",
   "outputs": [
    {
     "data": {
      "text/plain": [
       "tokenizer_config.json:   0%|          | 0.00/29.0 [00:00<?, ?B/s]"
      ],
      "application/vnd.jupyter.widget-view+json": {
       "version_major": 2,
       "version_minor": 0,
       "model_id": "f4c56de62d0e400cbd8852a784827ff0"
      }
     },
     "metadata": {},
     "output_type": "display_data"
    },
    {
     "name": "stderr",
     "output_type": "stream",
     "text": [
      "C:\\Users\\mraic\\AppData\\Local\\Programs\\Python\\Python310\\lib\\site-packages\\huggingface_hub\\file_download.py:157: UserWarning: `huggingface_hub` cache-system uses symlinks by default to efficiently store duplicated files but your machine does not support them in C:\\Users\\mraic\\.cache\\huggingface\\hub\\models--dumitrescustefan--bert-base-romanian-cased-v1. Caching files will still work but in a degraded version that might require more space on your disk. This warning can be disabled by setting the `HF_HUB_DISABLE_SYMLINKS_WARNING` environment variable. For more details, see https://huggingface.co/docs/huggingface_hub/how-to-cache#limitations.\n",
      "To support symlinks on Windows, you either need to activate Developer Mode or to run Python as an administrator. In order to see activate developer mode, see this article: https://docs.microsoft.com/en-us/windows/apps/get-started/enable-your-device-for-development\n",
      "  warnings.warn(message)\n"
     ]
    },
    {
     "data": {
      "text/plain": [
       "config.json:   0%|          | 0.00/385 [00:00<?, ?B/s]"
      ],
      "application/vnd.jupyter.widget-view+json": {
       "version_major": 2,
       "version_minor": 0,
       "model_id": "78d3a9f89a474bf59ba29ebad220ab90"
      }
     },
     "metadata": {},
     "output_type": "display_data"
    },
    {
     "data": {
      "text/plain": [
       "vocab.txt:   0%|          | 0.00/397k [00:00<?, ?B/s]"
      ],
      "application/vnd.jupyter.widget-view+json": {
       "version_major": 2,
       "version_minor": 0,
       "model_id": "003792da6623402d92385a778b41c744"
      }
     },
     "metadata": {},
     "output_type": "display_data"
    },
    {
     "data": {
      "text/plain": [
       "pytorch_model.bin:   0%|          | 0.00/500M [00:00<?, ?B/s]"
      ],
      "application/vnd.jupyter.widget-view+json": {
       "version_major": 2,
       "version_minor": 0,
       "model_id": "af90f6a6b81841cbb78d6756fe7fd30d"
      }
     },
     "metadata": {},
     "output_type": "display_data"
    },
    {
     "name": "stderr",
     "output_type": "stream",
     "text": [
      "Some weights of BertForSequenceClassification were not initialized from the model checkpoint at dumitrescustefan/bert-base-romanian-cased-v1 and are newly initialized: ['classifier.bias', 'classifier.weight']\n",
      "You should probably TRAIN this model on a down-stream task to be able to use it for predictions and inference.\n",
      "Asking to truncate to max_length but no maximum length is provided and the model has no predefined maximum length. Default to no truncation.\n"
     ]
    },
    {
     "name": "stdout",
     "output_type": "stream",
     "text": [
      "Negative\n"
     ]
    }
   ],
   "execution_count": 12
  },
  {
   "metadata": {},
   "cell_type": "markdown",
   "source": "#### Varianta 3: sentiment pe textele in romana, dar..\n",
   "id": "2f55d78230730c0e"
  },
  {
   "metadata": {
    "ExecuteTime": {
     "end_time": "2025-02-03T15:37:53.592968Z",
     "start_time": "2025-02-03T15:37:50.490215Z"
    }
   },
   "cell_type": "code",
   "source": [
    "from transformers import AutoTokenizer, AutoModelForSequenceClassification\n",
    "import torch\n",
    "\n",
    "model_name = \"dumitrescustefan/bert-base-romanian-uncased-v1\"\n",
    "tokenizer = AutoTokenizer.from_pretrained(model_name)\n",
    "model = AutoModelForSequenceClassification.from_pretrained(model_name, num_labels=3)\n",
    "\n",
    "def analyze_sentiment(text):\n",
    "    inputs = tokenizer(text, return_tensors=\"pt\", truncation=True, padding=True)\n",
    "    with torch.no_grad():\n",
    "        logits = model(**inputs).logits\n",
    "    sentiment = torch.argmax(logits).item()\n",
    "    labels = {0: \"Negative\", 1: \"Neutral\", 2: \"Positive\"}\n",
    "    return labels[sentiment]\n",
    "\n",
    "text = \"Îmi place foarte mult acest film!\"\n",
    "print(analyze_sentiment(text))"
   ],
   "id": "ee5be42649611dca",
   "outputs": [
    {
     "name": "stderr",
     "output_type": "stream",
     "text": [
      "Some weights of BertForSequenceClassification were not initialized from the model checkpoint at dumitrescustefan/bert-base-romanian-uncased-v1 and are newly initialized: ['classifier.bias', 'classifier.weight']\n",
      "You should probably TRAIN this model on a down-stream task to be able to use it for predictions and inference.\n",
      "Asking to truncate to max_length but no maximum length is provided and the model has no predefined maximum length. Default to no truncation.\n"
     ]
    },
    {
     "name": "stdout",
     "output_type": "stream",
     "text": [
      "Negative\n"
     ]
    }
   ],
   "execution_count": 15
  },
  {
   "metadata": {},
   "cell_type": "markdown",
   "source": [
    "#### Varianta 4: sentiment pe textele in romana, ro_sentiment, dar..\n",
    " \n",
    "https://huggingface.co/readerbench/ro-sentiment\n",
    "Output labels:\n",
    "\n",
    "LABEL_0 = Negative Sentiment\n",
    "LABEL_1 = Positive Sentiment"
   ],
   "id": "a3ec028e1b7d1692"
  },
  {
   "metadata": {
    "ExecuteTime": {
     "end_time": "2025-02-03T16:12:11.472194Z",
     "start_time": "2025-02-03T16:11:57.894193Z"
    }
   },
   "cell_type": "code",
   "source": [
    "from transformers import AutoTokenizer, AutoModelForSequenceClassification\n",
    "import torch\n",
    "\n",
    "model_name = \"readerbench/ro-sentiment\"\n",
    "\n",
    "# Initialize tokenizer and model\n",
    "tokenizer = AutoTokenizer.from_pretrained(model_name)\n",
    "model = AutoModelForSequenceClassification.from_pretrained(model_name)\n",
    "device = torch.device(\"cuda\" if torch.cuda.is_available() else \"cpu\")\n",
    "model = model.to(device)\n",
    "\n",
    "def sentiment(text):\n",
    "    \"\"\"Assess the sentiment of the input text.\"\"\"\n",
    "    inputs = tokenizer(text, return_tensors=\"pt\", truncation=True, padding=True).to(device)\n",
    "    with torch.no_grad():\n",
    "        logits = model(**inputs).logits.squeeze().cpu()\n",
    "    return logits.tolist()\n",
    "\n",
    "# Example usage\n",
    "score = sentiment(\"Îmi place foarte mult acest film!\")\n",
    "print(f\"Sentiment score: {score}\")"
   ],
   "id": "4259b1a15f48db17",
   "outputs": [
    {
     "data": {
      "text/plain": [
       "tokenizer_config.json:   0%|          | 0.00/367 [00:00<?, ?B/s]"
      ],
      "application/vnd.jupyter.widget-view+json": {
       "version_major": 2,
       "version_minor": 0,
       "model_id": "8d044f4a092c42ea992870eb7e20737e"
      }
     },
     "metadata": {},
     "output_type": "display_data"
    },
    {
     "name": "stderr",
     "output_type": "stream",
     "text": [
      "C:\\Users\\mraic\\AppData\\Local\\Programs\\Python\\Python310\\lib\\site-packages\\huggingface_hub\\file_download.py:157: UserWarning: `huggingface_hub` cache-system uses symlinks by default to efficiently store duplicated files but your machine does not support them in C:\\Users\\mraic\\.cache\\huggingface\\hub\\models--readerbench--ro-sentiment. Caching files will still work but in a degraded version that might require more space on your disk. This warning can be disabled by setting the `HF_HUB_DISABLE_SYMLINKS_WARNING` environment variable. For more details, see https://huggingface.co/docs/huggingface_hub/how-to-cache#limitations.\n",
      "To support symlinks on Windows, you either need to activate Developer Mode or to run Python as an administrator. In order to see activate developer mode, see this article: https://docs.microsoft.com/en-us/windows/apps/get-started/enable-your-device-for-development\n",
      "  warnings.warn(message)\n"
     ]
    },
    {
     "data": {
      "text/plain": [
       "vocab.txt:   0%|          | 0.00/245k [00:00<?, ?B/s]"
      ],
      "application/vnd.jupyter.widget-view+json": {
       "version_major": 2,
       "version_minor": 0,
       "model_id": "e71a76406ffe44e6ad2266aa7e80e2ab"
      }
     },
     "metadata": {},
     "output_type": "display_data"
    },
    {
     "data": {
      "text/plain": [
       "tokenizer.json:   0%|          | 0.00/842k [00:00<?, ?B/s]"
      ],
      "application/vnd.jupyter.widget-view+json": {
       "version_major": 2,
       "version_minor": 0,
       "model_id": "6999d7dabfb6450186e2d9df044d25e8"
      }
     },
     "metadata": {},
     "output_type": "display_data"
    },
    {
     "data": {
      "text/plain": [
       "special_tokens_map.json:   0%|          | 0.00/125 [00:00<?, ?B/s]"
      ],
      "application/vnd.jupyter.widget-view+json": {
       "version_major": 2,
       "version_minor": 0,
       "model_id": "01b9e5293e1f4be1b563422f475c6fa3"
      }
     },
     "metadata": {},
     "output_type": "display_data"
    },
    {
     "data": {
      "text/plain": [
       "config.json:   0%|          | 0.00/781 [00:00<?, ?B/s]"
      ],
      "application/vnd.jupyter.widget-view+json": {
       "version_major": 2,
       "version_minor": 0,
       "model_id": "a45d81ffaad245aba4b4e4e34af8b937"
      }
     },
     "metadata": {},
     "output_type": "display_data"
    },
    {
     "data": {
      "text/plain": [
       "pytorch_model.bin:   0%|          | 0.00/460M [00:00<?, ?B/s]"
      ],
      "application/vnd.jupyter.widget-view+json": {
       "version_major": 2,
       "version_minor": 0,
       "model_id": "9463d7080cb94d35b4cd5f329be2bceb"
      }
     },
     "metadata": {},
     "output_type": "display_data"
    },
    {
     "name": "stdout",
     "output_type": "stream",
     "text": [
      "Sentiment score: [0.24193798005580902, -1.1060422658920288]\n"
     ]
    }
   ],
   "execution_count": 19
  },
  {
   "metadata": {},
   "cell_type": "markdown",
   "source": "### Varianta finala",
   "id": "773b2a226575b535"
  },
  {
   "metadata": {
    "ExecuteTime": {
     "end_time": "2025-04-26T13:01:44.861003Z",
     "start_time": "2025-04-26T13:01:44.030575Z"
    }
   },
   "cell_type": "code",
   "source": [
    "import pandas as pd\n",
    "from vaderSentiment.vaderSentiment import SentimentIntensityAnalyzer\n",
    "\n",
    "df = pd.read_csv(\"../data/all/combined_lfud_huggingface_binary.csv\")\n",
    "\n",
    "analyzer = SentimentIntensityAnalyzer()\n",
    "\n",
    "def get_sentiment(text):\n",
    "    if pd.isna(text):\n",
    "        print(\"There is a nan value\")\n",
    "    score = analyzer.polarity_scores(text)['compound']\n",
    "    if score >= 0.05:\n",
    "        return \"positive\"\n",
    "    elif score <= -0.05:\n",
    "        return \"negative\"\n",
    "    else:\n",
    "        return \"neutral\"\n",
    "\n",
    "# Apply sentiment analysis to 'source_article'\n",
    "df['sentiment'] = df['source_article'].apply(get_sentiment)"
   ],
   "id": "dde3ee05f1f6920d",
   "outputs": [],
   "execution_count": 1
  },
  {
   "metadata": {
    "ExecuteTime": {
     "end_time": "2025-04-26T13:02:08.050284Z",
     "start_time": "2025-04-26T13:02:07.976393Z"
    }
   },
   "cell_type": "code",
   "source": [
    "df.to_csv(\"../data/all/combined_lfud_huggingface_binary_sent.csv\", index=False)\n",
    "print(df.head())"
   ],
   "id": "9e144ef63fa413a7",
   "outputs": [
    {
     "name": "stdout",
     "output_type": "stream",
     "text": [
      "                                      source_article logical_fallacies  \\\n",
      "0  Such misrepresentations are now commonplace in...           fallacy   \n",
      "1  If we use just one more can of hairspray this ...           fallacy   \n",
      "2  That doesn ’ t mean pollution controls are fut...           fallacy   \n",
      "3                         The Earth is not warming .           fallacy   \n",
      "4     McDonald's Hamburgers: over 99 billion served.           fallacy   \n",
      "\n",
      "                                   source_article_ro proposition  \\\n",
      "0  Astfel de denaturari sunt acum obisnuite in an...         NaN   \n",
      "1  Dacă mai folosim o singură cutie de fixativ lu...         NaN   \n",
      "2  Asta nu înseamnă că controalele poluării sunt ...         NaN   \n",
      "3                         Pământul nu se încălzește.         NaN   \n",
      "4  Hamburgeri McDonald's: peste 99 de miliarde se...         NaN   \n",
      "\n",
      "  proposition_ro sentiment  \n",
      "0            NaN  negative  \n",
      "1            NaN  negative  \n",
      "2            NaN   neutral  \n",
      "3            NaN  negative  \n",
      "4            NaN   neutral  \n"
     ]
    }
   ],
   "execution_count": 3
  },
  {
   "metadata": {
    "ExecuteTime": {
     "end_time": "2025-04-26T13:02:18.643612Z",
     "start_time": "2025-04-26T13:02:18.576154Z"
    }
   },
   "cell_type": "code",
   "source": [
    "import pandas as pd\n",
    "data = pd.read_csv(\"../data/all/combined_lfud_huggingface_binary_sent.csv\")"
   ],
   "id": "5983aa5c7e27c6a7",
   "outputs": [],
   "execution_count": 4
  },
  {
   "metadata": {
    "ExecuteTime": {
     "end_time": "2025-04-26T13:02:24.128991Z",
     "start_time": "2025-04-26T13:02:24.102624Z"
    }
   },
   "cell_type": "code",
   "source": "data.value_counts(data[\"sentiment\"])",
   "id": "a774f002ae78a92e",
   "outputs": [
    {
     "data": {
      "text/plain": [
       "sentiment\n",
       "negative    1978\n",
       "positive    1938\n",
       "neutral     1790\n",
       "Name: count, dtype: int64"
      ]
     },
     "execution_count": 5,
     "metadata": {},
     "output_type": "execute_result"
    }
   ],
   "execution_count": 5
  },
  {
   "metadata": {},
   "cell_type": "code",
   "outputs": [],
   "execution_count": null,
   "source": "",
   "id": "f0e6a22c7d9ee32e"
  }
 ],
 "metadata": {
  "kernelspec": {
   "display_name": "Python 3",
   "language": "python",
   "name": "python3"
  },
  "language_info": {
   "codemirror_mode": {
    "name": "ipython",
    "version": 2
   },
   "file_extension": ".py",
   "mimetype": "text/x-python",
   "name": "python",
   "nbconvert_exporter": "python",
   "pygments_lexer": "ipython2",
   "version": "2.7.6"
  }
 },
 "nbformat": 4,
 "nbformat_minor": 5
}
