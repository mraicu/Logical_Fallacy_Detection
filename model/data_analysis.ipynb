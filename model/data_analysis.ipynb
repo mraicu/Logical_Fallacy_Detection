{
 "cells": [
  {
   "cell_type": "code",
   "id": "initial_id",
   "metadata": {
    "collapsed": true
   },
   "source": [
    "from utils.data_utils import read_data\n",
    "import matplotlib.pyplot as plt\n",
    "from collections import Counter\n",
    "\n",
    "tran_data_binary, test_dataset_binary, validation_dataset_binary = read_data(\n",
    "    \"../data/all/combined_lfud_huggingface_binary.csv\")\n",
    "\n",
    "tran_data, test_dataset, validation_dataset = read_data(\"../data/all/combined_lfud_huggingface_nonfallacies.csv\")"
   ],
   "outputs": [],
   "execution_count": null
  },
  {
   "metadata": {},
   "cell_type": "code",
   "source": [
    "def plot_class_distribution(datasets, dataset_names, column='logical_fallacies', title_prefix=''):\n",
    "    \"\"\"\n",
    "    Plots the class distribution for one or more datasets using bar charts.\n",
    "\n",
    "    Each dataset is expected to be a pandas DataFrame. The function counts the frequency of each class \n",
    "    in the specified column and plots a separate bar chart for each dataset to visualize how the classes \n",
    "    are distributed.\n",
    "\n",
    "    Args:\n",
    "        datasets (list of pd.DataFrame): A list of pandas DataFrames to analyze.\n",
    "        dataset_names (list of str): A list of names corresponding to each dataset (used in plot titles).\n",
    "        column (str, optional): The name of the column to analyze for class distribution. \n",
    "            Defaults to 'logical_fallacies'.\n",
    "        title_prefix (str, optional): A prefix to prepend to each subplot title. \n",
    "            Useful for adding context (e.g., 'Train - ', 'Test - '). Defaults to ''.\n",
    "\n",
    "    Returns:\n",
    "        None: Displays the plot with class distribution for each dataset.\n",
    "    \"\"\"\n",
    "\n",
    "    num_datasets = len(datasets)\n",
    "    fig, axes = plt.subplots(1, num_datasets, figsize=(6 * num_datasets, 5), squeeze=False)\n",
    "\n",
    "    for idx, (data, name) in enumerate(zip(datasets, dataset_names)):\n",
    "        class_counts = Counter(data[column])\n",
    "        labels, values = zip(*sorted(class_counts.items(), key=lambda x: x[0]))\n",
    "\n",
    "        axes[0, idx].bar(labels, values, color='skyblue')\n",
    "        axes[0, idx].set_title(f\"{title_prefix}{name}\")\n",
    "        axes[0, idx].set_xlabel(\"Class\")\n",
    "        axes[0, idx].set_ylabel(\"Frequency\")\n",
    "        axes[0, idx].tick_params(axis='x', rotation=45)\n",
    "\n",
    "    plt.tight_layout()\n",
    "    plt.show()"
   ],
   "id": "e9b53b2a0239d31d",
   "outputs": [],
   "execution_count": null
  },
  {
   "metadata": {},
   "cell_type": "code",
   "source": [
    "# Plot for binary datasets\n",
    "plot_class_distribution(\n",
    "    [tran_data_binary, test_dataset_binary, validation_dataset_binary],\n",
    "    [\"Train (Binary)\", \"Test (Binary)\", \"Validation (Binary)\"],\n",
    "    column=\"logical_fallacies\",\n",
    "    title_prefix=\"Binary - \"\n",
    ")"
   ],
   "id": "b65cd2ff96664873",
   "outputs": [],
   "execution_count": null
  },
  {
   "metadata": {},
   "cell_type": "code",
   "source": [
    "# Plot for non-fallacies datasets\n",
    "plot_class_distribution(\n",
    "    [tran_data, test_dataset, validation_dataset],\n",
    "    [\"Train\", \"Test\", \"Validation\"],\n",
    "    column=\"logical_fallacies\",\n",
    "    title_prefix=\"Non-Fallacies - \"\n",
    ")"
   ],
   "id": "491e82a447bcd0c1",
   "outputs": [],
   "execution_count": null
  }
 ],
 "metadata": {
  "kernelspec": {
   "display_name": "Python 3",
   "language": "python",
   "name": "python3"
  },
  "language_info": {
   "codemirror_mode": {
    "name": "ipython",
    "version": 2
   },
   "file_extension": ".py",
   "mimetype": "text/x-python",
   "name": "python",
   "nbconvert_exporter": "python",
   "pygments_lexer": "ipython2",
   "version": "2.7.6"
  }
 },
 "nbformat": 4,
 "nbformat_minor": 5
}
