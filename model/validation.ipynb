{
 "cells": [
  {
   "cell_type": "code",
   "id": "initial_id",
   "metadata": {
    "collapsed": true,
    "ExecuteTime": {
     "end_time": "2025-03-06T09:58:40.944692Z",
     "start_time": "2025-03-06T09:58:18.784426Z"
    }
   },
   "source": [
    "from transformers import BertForSequenceClassification, BertTokenizerFast, pipeline\n",
    "from utils.data_utils import read_data\n",
    "from sklearn.metrics import classification_report, accuracy_score, confusion_matrix\n",
    "import matplotlib.pyplot as plt\n",
    "import seaborn as sns\n",
    "\n",
    "train_dataset, test_dataset, dev_dataset = read_data(\"../data/all/combined_lfud_huggingface_nonfallacies.csv\")\n",
    "# train_dataset, test_dataset, dev_dataset = read_data(\"../data/all/combined_lfud_huggingface_binary.csv\")"
   ],
   "outputs": [],
   "execution_count": 1
  },
  {
   "metadata": {
    "ExecuteTime": {
     "end_time": "2025-03-06T09:59:15.632103Z",
     "start_time": "2025-03-06T09:59:12.644838Z"
    }
   },
   "cell_type": "code",
   "source": [
    "# model_path = \"../model/outputs/21-02-2025_14-45-55_bert-2-classes-model.pickle\" \n",
    "# model_path = \"../model/outputs/03-03-2025_16-23-08_bert-3-classes-model.pickle\"\n",
    "model_path = \"../model/outputs/03-03-2025_16-46-39_bert-5-classes-model.pickle\" \n",
    "# model_path = \"../model/outputs/20-02-2025_10-26-38_bert-all-classes-model.pickle\" \n",
    "\n",
    "model = BertForSequenceClassification.from_pretrained(model_path)\n",
    "tokenizer = BertTokenizerFast.from_pretrained(model_path)\n",
    "nlp = pipeline(\"text-classification\", model=model, tokenizer=tokenizer)"
   ],
   "id": "eb04da53dfe45944",
   "outputs": [],
   "execution_count": 2
  },
  {
   "metadata": {
    "ExecuteTime": {
     "end_time": "2025-03-06T09:59:19.705529Z",
     "start_time": "2025-03-06T09:59:19.673774Z"
    }
   },
   "cell_type": "code",
   "source": [
    "# logical_fallacies = ['nonfallacy', 'fallacy']\n",
    "# logical_fallacies = ['nonfallacy', 'faulty generalization', 'intentional']\n",
    "logical_fallacies = ['nonfallacy', 'faulty generalization', 'intentional', 'ad hominem', 'false causality']\n",
    "# logical_fallacies = list(set(list(test_dataset['logical_fallacies'])))\n",
    "filtered_test_data = test_dataset[test_dataset.logical_fallacies.isin(logical_fallacies)]\n",
    "filtered_test_data"
   ],
   "id": "221631a5c0bc223f",
   "outputs": [
    {
     "data": {
      "text/plain": [
       "          logical_fallacies                                  source_article_ro\n",
       "4280  faulty generalization  „Dacă nu obții un A la clasa domnului K, vei p...\n",
       "4281        false causality  De fiecare dată când port acest colier, îmi pr...\n",
       "4285             nonfallacy             O jucărie este ceva cu care să te joci\n",
       "4289             nonfallacy     Tulsidas (1541-1623) a fost un scriitor indian\n",
       "4290             nonfallacy  Ayurveda () este un sistem de medicină alterna...\n",
       "...                     ...                                                ...\n",
       "5126        false causality  Copiii care joacă jocuri video violente acțion...\n",
       "5127             nonfallacy            Haflinger este o rasă universală de cai\n",
       "5128            intentional  „Taxele pe carbon sunt otravă politică, deoare...\n",
       "5131            intentional  Poate cercetarea climatică să revină pe drumul...\n",
       "5132  faulty generalization  Toate cursurile universitare necesare sunt pli...\n",
       "\n",
       "[472 rows x 2 columns]"
      ],
      "text/html": [
       "<div>\n",
       "<style scoped>\n",
       "    .dataframe tbody tr th:only-of-type {\n",
       "        vertical-align: middle;\n",
       "    }\n",
       "\n",
       "    .dataframe tbody tr th {\n",
       "        vertical-align: top;\n",
       "    }\n",
       "\n",
       "    .dataframe thead th {\n",
       "        text-align: right;\n",
       "    }\n",
       "</style>\n",
       "<table border=\"1\" class=\"dataframe\">\n",
       "  <thead>\n",
       "    <tr style=\"text-align: right;\">\n",
       "      <th></th>\n",
       "      <th>logical_fallacies</th>\n",
       "      <th>source_article_ro</th>\n",
       "    </tr>\n",
       "  </thead>\n",
       "  <tbody>\n",
       "    <tr>\n",
       "      <th>4280</th>\n",
       "      <td>faulty generalization</td>\n",
       "      <td>„Dacă nu obții un A la clasa domnului K, vei p...</td>\n",
       "    </tr>\n",
       "    <tr>\n",
       "      <th>4281</th>\n",
       "      <td>false causality</td>\n",
       "      <td>De fiecare dată când port acest colier, îmi pr...</td>\n",
       "    </tr>\n",
       "    <tr>\n",
       "      <th>4285</th>\n",
       "      <td>nonfallacy</td>\n",
       "      <td>O jucărie este ceva cu care să te joci</td>\n",
       "    </tr>\n",
       "    <tr>\n",
       "      <th>4289</th>\n",
       "      <td>nonfallacy</td>\n",
       "      <td>Tulsidas (1541-1623) a fost un scriitor indian</td>\n",
       "    </tr>\n",
       "    <tr>\n",
       "      <th>4290</th>\n",
       "      <td>nonfallacy</td>\n",
       "      <td>Ayurveda () este un sistem de medicină alterna...</td>\n",
       "    </tr>\n",
       "    <tr>\n",
       "      <th>...</th>\n",
       "      <td>...</td>\n",
       "      <td>...</td>\n",
       "    </tr>\n",
       "    <tr>\n",
       "      <th>5126</th>\n",
       "      <td>false causality</td>\n",
       "      <td>Copiii care joacă jocuri video violente acțion...</td>\n",
       "    </tr>\n",
       "    <tr>\n",
       "      <th>5127</th>\n",
       "      <td>nonfallacy</td>\n",
       "      <td>Haflinger este o rasă universală de cai</td>\n",
       "    </tr>\n",
       "    <tr>\n",
       "      <th>5128</th>\n",
       "      <td>intentional</td>\n",
       "      <td>„Taxele pe carbon sunt otravă politică, deoare...</td>\n",
       "    </tr>\n",
       "    <tr>\n",
       "      <th>5131</th>\n",
       "      <td>intentional</td>\n",
       "      <td>Poate cercetarea climatică să revină pe drumul...</td>\n",
       "    </tr>\n",
       "    <tr>\n",
       "      <th>5132</th>\n",
       "      <td>faulty generalization</td>\n",
       "      <td>Toate cursurile universitare necesare sunt pli...</td>\n",
       "    </tr>\n",
       "  </tbody>\n",
       "</table>\n",
       "<p>472 rows × 2 columns</p>\n",
       "</div>"
      ]
     },
     "execution_count": 3,
     "metadata": {},
     "output_type": "execute_result"
    }
   ],
   "execution_count": 3
  },
  {
   "metadata": {},
   "cell_type": "markdown",
   "source": "",
   "id": "9edf5fd602a58b9f"
  },
  {
   "metadata": {
    "ExecuteTime": {
     "end_time": "2025-03-06T09:59:20.247069Z",
     "start_time": "2025-03-06T09:59:20.231324Z"
    }
   },
   "cell_type": "code",
   "source": "filtered_test_data[\"logical_fallacies\"].value_counts()",
   "id": "99a4d0bdcf1bcddd",
   "outputs": [
    {
     "data": {
      "text/plain": [
       "logical_fallacies\n",
       "nonfallacy               173\n",
       "faulty generalization     89\n",
       "intentional               73\n",
       "ad hominem                70\n",
       "false causality           67\n",
       "Name: count, dtype: int64"
      ]
     },
     "execution_count": 4,
     "metadata": {},
     "output_type": "execute_result"
    }
   ],
   "execution_count": 4
  },
  {
   "metadata": {
    "ExecuteTime": {
     "end_time": "2025-03-06T09:59:44.472956Z",
     "start_time": "2025-03-06T09:59:21.619963Z"
    }
   },
   "cell_type": "code",
   "source": [
    "predictions = []\n",
    "for data in filtered_test_data[\"source_article_ro\"]:\n",
    "    predictions.append(nlp(data)[0][\"label\"])"
   ],
   "id": "750186b38c71ecdf",
   "outputs": [],
   "execution_count": 5
  },
  {
   "metadata": {
    "ExecuteTime": {
     "end_time": "2025-03-03T17:06:58.540623Z",
     "start_time": "2025-03-03T17:06:58.511533Z"
    }
   },
   "cell_type": "code",
   "source": [
    "report = classification_report(filtered_test_data[\"logical_fallacies\"], predictions)\n",
    "accuracy = accuracy_score(filtered_test_data[\"logical_fallacies\"], predictions)\n",
    "\n",
    "print(\"Accuracy:\", accuracy)\n",
    "print(\"Classification Report:\\n\", report)"
   ],
   "id": "12e6c68e63c712c1",
   "outputs": [
    {
     "name": "stdout",
     "output_type": "stream",
     "text": [
      "Accuracy: 0.8050847457627118\n",
      "Classification Report:\n",
      "                        precision    recall  f1-score   support\n",
      "\n",
      "           ad hominem       0.82      0.76      0.79        70\n",
      "      false causality       0.92      0.49      0.64        67\n",
      "faulty generalization       0.63      0.85      0.72        89\n",
      "          intentional       0.60      0.62      0.61        73\n",
      "           nonfallacy       0.99      1.00      0.99       173\n",
      "\n",
      "             accuracy                           0.81       472\n",
      "            macro avg       0.79      0.74      0.75       472\n",
      "         weighted avg       0.82      0.81      0.80       472\n",
      "\n"
     ]
    }
   ],
   "execution_count": 28
  },
  {
   "metadata": {
    "ExecuteTime": {
     "end_time": "2025-03-03T17:06:58.556279Z",
     "start_time": "2025-03-03T17:06:58.543622Z"
    }
   },
   "cell_type": "code",
   "source": [
    "import numpy as np\n",
    "\n",
    "y_true = np.array(filtered_test_data[\"logical_fallacies\"])\n",
    "y_pred = np.array(predictions)\n",
    "\n",
    "classes = np.unique(y_true) \n",
    "\n",
    "for cls in classes:\n",
    "    cls_mask = (y_true == cls)\n",
    "    cls_correct = (y_true[cls_mask] == y_pred[cls_mask])\n",
    "    cls_accuracy = cls_correct.sum() / cls_mask.sum()\n",
    "    print(f\"Class {cls} Accuracy: {cls_accuracy:.2f}\")\n"
   ],
   "id": "32aaf2c5bbaa6968",
   "outputs": [
    {
     "name": "stdout",
     "output_type": "stream",
     "text": [
      "Class ad hominem Accuracy: 0.76\n",
      "Class false causality Accuracy: 0.49\n",
      "Class faulty generalization Accuracy: 0.85\n",
      "Class intentional Accuracy: 0.62\n",
      "Class nonfallacy Accuracy: 1.00\n"
     ]
    }
   ],
   "execution_count": 29
  },
  {
   "metadata": {},
   "cell_type": "markdown",
   "source": "Confusion Matrix",
   "id": "89bd1490e4bf0178"
  },
  {
   "metadata": {
    "ExecuteTime": {
     "end_time": "2025-03-03T17:06:58.838556Z",
     "start_time": "2025-03-03T17:06:58.559286Z"
    }
   },
   "cell_type": "code",
   "source": [
    "class_labels = sorted(logical_fallacies)  # Ensure consistent ordering\n",
    "\n",
    "cm = confusion_matrix(filtered_test_data[\"logical_fallacies\"], predictions, labels=class_labels)\n",
    "\n",
    "plt.figure(figsize=(8, 6))\n",
    "sns.heatmap(cm, annot=True, fmt=\"d\", cmap=\"Blues\", xticklabels=class_labels, yticklabels=class_labels)\n",
    "plt.xlabel(\"Predicted Label\")\n",
    "plt.ylabel(\"True Label\")\n",
    "plt.title(\"Confusion Matrix\")\n",
    "plt.show()\n"
   ],
   "id": "4d43a86b74d1efbf",
   "outputs": [
    {
     "data": {
      "text/plain": [
       "<Figure size 800x600 with 2 Axes>"
      ],
      "image/png": "[encoded data removed]"
     },
     "metadata": {},
     "output_type": "display_data"
    }
   ],
   "execution_count": 30
  }
 ],
 "metadata": {
  "kernelspec": {
   "display_name": "Python 3",
   "language": "python",
   "name": "python3"
  },
  "language_info": {
   "codemirror_mode": {
    "name": "ipython",
    "version": 2
   },
   "file_extension": ".py",
   "mimetype": "text/x-python",
   "name": "python",
   "nbconvert_exporter": "python",
   "pygments_lexer": "ipython2",
   "version": "2.7.6"
  }
 },
 "nbformat": 4,
 "nbformat_minor": 5
}
