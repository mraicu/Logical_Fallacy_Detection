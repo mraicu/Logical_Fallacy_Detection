{
 "cells": [
  {
   "metadata": {
    "ExecuteTime": {
     "end_time": "2024-09-30T07:43:42.617331Z",
     "start_time": "2024-09-30T07:43:41.719817Z"
    }
   },
   "cell_type": "code",
   "source": [
    "import pandas as pd\n",
    "from deep_translator import GoogleTranslator"
   ],
   "id": "5175b93817895455",
   "outputs": [],
   "execution_count": 1
  },
  {
   "metadata": {
    "ExecuteTime": {
     "end_time": "2024-09-30T09:28:48.863880Z",
     "start_time": "2024-09-30T09:28:48.621315Z"
    }
   },
   "cell_type": "code",
   "source": [
    "translator = GoogleTranslator(source='en', target='ro')\n",
    "\n",
    "to_translate = \"The bigger a child's shoe size, the better the child's handwriting\"\n",
    "translated = translator.translate(to_translate)\n",
    "translated"
   ],
   "id": "64e2b3c4dd7b2bc6",
   "outputs": [
    {
     "data": {
      "text/plain": [
       "'Cu cât mărimea pantofilor unui copil este mai mare, cu atât scrisul de mână al copilului este mai bun'"
      ]
     },
     "execution_count": 44,
     "metadata": {},
     "output_type": "execute_result"
    }
   ],
   "execution_count": 44
  },
  {
   "metadata": {
    "ExecuteTime": {
     "end_time": "2024-09-30T09:28:49.997253Z",
     "start_time": "2024-09-30T09:28:49.981571Z"
    }
   },
   "cell_type": "code",
   "source": [
    "translator = GoogleTranslator(source='en', target='ro')\n",
    "\n",
    "\n",
    "def translate_text(text):\n",
    "    try:\n",
    "        translated = translator.translate(text)\n",
    "        return translated\n",
    "    except Exception as e:\n",
    "        print(f\"Translation failed: {e}\")\n",
    "        return text"
   ],
   "id": "6b72bd5e9318dc3c",
   "outputs": [],
   "execution_count": 45
  },
  {
   "metadata": {},
   "cell_type": "markdown",
   "source": "Translating huggingface LOGIC dataset",
   "id": "40093b6938f643b9"
  },
  {
   "metadata": {
    "ExecuteTime": {
     "end_time": "2024-10-05T16:52:14.548153Z",
     "start_time": "2024-10-05T16:52:07.840567Z"
    }
   },
   "cell_type": "code",
   "source": [
    "from datasets import load_dataset\n",
    "\n",
    "full_data = load_dataset(\"tasksource/logical-fallacy\")"
   ],
   "id": "df916eec91588e53",
   "outputs": [],
   "execution_count": 1
  },
  {
   "metadata": {
    "ExecuteTime": {
     "end_time": "2024-10-05T16:52:25.932177Z",
     "start_time": "2024-10-05T16:52:25.911165Z"
    }
   },
   "cell_type": "code",
   "source": "full_data['test'].shape",
   "id": "b894c85cffc4793a",
   "outputs": [
    {
     "data": {
      "text/plain": [
       "(511, 3)"
      ]
     },
     "execution_count": 2,
     "metadata": {},
     "output_type": "execute_result"
    }
   ],
   "execution_count": 2
  },
  {
   "metadata": {
    "ExecuteTime": {
     "end_time": "2024-10-05T16:55:57.454879Z",
     "start_time": "2024-10-05T16:55:57.423548Z"
    }
   },
   "cell_type": "code",
   "source": "full_data['dev'].shape",
   "id": "3403591c22c6c875",
   "outputs": [
    {
     "data": {
      "text/plain": [
       "(570, 3)"
      ]
     },
     "execution_count": 7,
     "metadata": {},
     "output_type": "execute_result"
    }
   ],
   "execution_count": 7
  },
  {
   "metadata": {
    "ExecuteTime": {
     "end_time": "2024-09-30T08:24:39.457170Z",
     "start_time": "2024-09-30T08:15:47.634863Z"
    }
   },
   "cell_type": "code",
   "source": [
    "test = pd.DataFrame(full_data['test'])\n",
    "test['source_article_ro'] = test['source_article'].apply(translate_text)\n",
    "test.to_csv('test.csv', index=False)"
   ],
   "id": "dad01e49c53f804e",
   "outputs": [],
   "execution_count": 40
  },
  {
   "metadata": {
    "ExecuteTime": {
     "end_time": "2024-09-30T09:11:16.157176Z",
     "start_time": "2024-09-30T08:27:05.805913Z"
    }
   },
   "cell_type": "code",
   "source": [
    "train = pd.DataFrame(full_data['train'])\n",
    "train['source_article_ro'] = train['source_article'].apply(translate_text)\n",
    "train.to_csv('data/huggingface/train.csv', index=False)"
   ],
   "id": "4194eedd0e44f0f5",
   "outputs": [],
   "execution_count": 42
  },
  {
   "metadata": {
    "ExecuteTime": {
     "end_time": "2024-09-30T09:20:13.425085Z",
     "start_time": "2024-09-30T09:11:52.877581Z"
    }
   },
   "cell_type": "code",
   "source": [
    "dev = pd.DataFrame(full_data['dev'])\n",
    "dev['source_article_ro'] = dev['source_article'].apply(translate_text)\n",
    "dev.to_csv('data/huggingface/dev.csv', index=False)"
   ],
   "id": "b7dfc8616cab33f9",
   "outputs": [],
   "execution_count": 43
  },
  {
   "metadata": {},
   "cell_type": "markdown",
   "source": "Translating LFUD dataset",
   "id": "6ba679a9eeca2299"
  },
  {
   "metadata": {
    "ExecuteTime": {
     "end_time": "2024-09-30T09:38:29.034778Z",
     "start_time": "2024-09-30T09:38:28.987342Z"
    }
   },
   "cell_type": "code",
   "source": [
    "lfud = pd.read_csv(\"data/LFUD.csv\")\n",
    "lfud.head()"
   ],
   "id": "4c59ee8f499fa36e",
   "outputs": [
    {
     "data": {
      "text/plain": [
       "   index                                proposition  \\\n",
       "0      0  All electronic products need electricity.   \n",
       "1      1  All electronic products need electricity.   \n",
       "2      2  All electronic products need electricity.   \n",
       "3      3  All electronic products need electricity.   \n",
       "4      4  All electronic products need electricity.   \n",
       "\n",
       "                                            sentence           fallacy_type  \\\n",
       "0  All electronic products need electricity. Elec...  faulty generalization   \n",
       "1  Since all electronic products need electricity...        false causality   \n",
       "2  All electronic products function because they ...     circular reasoning   \n",
       "3  Most people think that all electronic products...             ad populum   \n",
       "4  \"Either every electronic item operates using e...          false dilemma   \n",
       "\n",
       "                                               task1  \\\n",
       "0  {'question': 'Statement: All electronic produc...   \n",
       "1  {'question': 'Statement: Since all electronic ...   \n",
       "2  {'question': 'Statement: All electronic produc...   \n",
       "3  {'question': 'Statement: Most people think tha...   \n",
       "4  {'question': 'Statement: \"Either every electro...   \n",
       "\n",
       "                                               task2  \\\n",
       "0  {'question': 'Faulty generalization occurs whe...   \n",
       "1  {'question': 'False causality occurs when an a...   \n",
       "2  {'question': 'Circular reasoning occurs when a...   \n",
       "3  {'question': 'Ad populum occurs when an argume...   \n",
       "4  {'question': 'False dilemma occurs when incorr...   \n",
       "\n",
       "                                               task3  \\\n",
       "0  {'question': 'Faulty generalization occurs whe...   \n",
       "1  {'question': 'False causality occurs when an a...   \n",
       "2  {'question': 'Circular reasoning occurs when a...   \n",
       "3  {'question': 'Ad populum occurs when an argume...   \n",
       "4  {'question': 'False dilemma occurs when incorr...   \n",
       "\n",
       "                                               task4  \\\n",
       "0  {'question': 'Faulty generalization occurs whe...   \n",
       "1  {'question': 'False causality occurs when an a...   \n",
       "2  {'question': 'Circular reasoning occurs when a...   \n",
       "3  {'question': 'Ad populum occurs when an argume...   \n",
       "4  {'question': 'False dilemma occurs when incorr...   \n",
       "\n",
       "                                               task5  \n",
       "0  {'question': 'Original sentence: All electroni...  \n",
       "1  {'question': 'Original sentence: Since all ele...  \n",
       "2  {'question': 'Original sentence: All electroni...  \n",
       "3  {'question': 'Original sentence: Most people t...  \n",
       "4  {'question': 'Original sentence: \"Either every...  "
      ],
      "text/html": [
       "<div>\n",
       "<style scoped>\n",
       "    .dataframe tbody tr th:only-of-type {\n",
       "        vertical-align: middle;\n",
       "    }\n",
       "\n",
       "    .dataframe tbody tr th {\n",
       "        vertical-align: top;\n",
       "    }\n",
       "\n",
       "    .dataframe thead th {\n",
       "        text-align: right;\n",
       "    }\n",
       "</style>\n",
       "<table border=\"1\" class=\"dataframe\">\n",
       "  <thead>\n",
       "    <tr style=\"text-align: right;\">\n",
       "      <th></th>\n",
       "      <th>index</th>\n",
       "      <th>proposition</th>\n",
       "      <th>sentence</th>\n",
       "      <th>fallacy_type</th>\n",
       "      <th>task1</th>\n",
       "      <th>task2</th>\n",
       "      <th>task3</th>\n",
       "      <th>task4</th>\n",
       "      <th>task5</th>\n",
       "    </tr>\n",
       "  </thead>\n",
       "  <tbody>\n",
       "    <tr>\n",
       "      <th>0</th>\n",
       "      <td>0</td>\n",
       "      <td>All electronic products need electricity.</td>\n",
       "      <td>All electronic products need electricity. Elec...</td>\n",
       "      <td>faulty generalization</td>\n",
       "      <td>{'question': 'Statement: All electronic produc...</td>\n",
       "      <td>{'question': 'Faulty generalization occurs whe...</td>\n",
       "      <td>{'question': 'Faulty generalization occurs whe...</td>\n",
       "      <td>{'question': 'Faulty generalization occurs whe...</td>\n",
       "      <td>{'question': 'Original sentence: All electroni...</td>\n",
       "    </tr>\n",
       "    <tr>\n",
       "      <th>1</th>\n",
       "      <td>1</td>\n",
       "      <td>All electronic products need electricity.</td>\n",
       "      <td>Since all electronic products need electricity...</td>\n",
       "      <td>false causality</td>\n",
       "      <td>{'question': 'Statement: Since all electronic ...</td>\n",
       "      <td>{'question': 'False causality occurs when an a...</td>\n",
       "      <td>{'question': 'False causality occurs when an a...</td>\n",
       "      <td>{'question': 'False causality occurs when an a...</td>\n",
       "      <td>{'question': 'Original sentence: Since all ele...</td>\n",
       "    </tr>\n",
       "    <tr>\n",
       "      <th>2</th>\n",
       "      <td>2</td>\n",
       "      <td>All electronic products need electricity.</td>\n",
       "      <td>All electronic products function because they ...</td>\n",
       "      <td>circular reasoning</td>\n",
       "      <td>{'question': 'Statement: All electronic produc...</td>\n",
       "      <td>{'question': 'Circular reasoning occurs when a...</td>\n",
       "      <td>{'question': 'Circular reasoning occurs when a...</td>\n",
       "      <td>{'question': 'Circular reasoning occurs when a...</td>\n",
       "      <td>{'question': 'Original sentence: All electroni...</td>\n",
       "    </tr>\n",
       "    <tr>\n",
       "      <th>3</th>\n",
       "      <td>3</td>\n",
       "      <td>All electronic products need electricity.</td>\n",
       "      <td>Most people think that all electronic products...</td>\n",
       "      <td>ad populum</td>\n",
       "      <td>{'question': 'Statement: Most people think tha...</td>\n",
       "      <td>{'question': 'Ad populum occurs when an argume...</td>\n",
       "      <td>{'question': 'Ad populum occurs when an argume...</td>\n",
       "      <td>{'question': 'Ad populum occurs when an argume...</td>\n",
       "      <td>{'question': 'Original sentence: Most people t...</td>\n",
       "    </tr>\n",
       "    <tr>\n",
       "      <th>4</th>\n",
       "      <td>4</td>\n",
       "      <td>All electronic products need electricity.</td>\n",
       "      <td>\"Either every electronic item operates using e...</td>\n",
       "      <td>false dilemma</td>\n",
       "      <td>{'question': 'Statement: \"Either every electro...</td>\n",
       "      <td>{'question': 'False dilemma occurs when incorr...</td>\n",
       "      <td>{'question': 'False dilemma occurs when incorr...</td>\n",
       "      <td>{'question': 'False dilemma occurs when incorr...</td>\n",
       "      <td>{'question': 'Original sentence: \"Either every...</td>\n",
       "    </tr>\n",
       "  </tbody>\n",
       "</table>\n",
       "</div>"
      ]
     },
     "execution_count": 51,
     "metadata": {},
     "output_type": "execute_result"
    }
   ],
   "execution_count": 51
  },
  {
   "metadata": {
    "ExecuteTime": {
     "end_time": "2024-09-30T09:38:54.278327Z",
     "start_time": "2024-09-30T09:38:54.262309Z"
    }
   },
   "cell_type": "code",
   "source": "lfud.drop(['task1', 'task2', 'task3', 'task4', 'task5'], axis=1, inplace=True)",
   "id": "c1e6ef27a18c2a11",
   "outputs": [],
   "execution_count": 52
  },
  {
   "metadata": {
    "ExecuteTime": {
     "end_time": "2024-09-30T09:58:53.931239Z",
     "start_time": "2024-09-30T09:42:46.070406Z"
    }
   },
   "cell_type": "code",
   "source": [
    "lfud['proposition_ro'] = lfud['proposition'].apply(translate_text)\n",
    "lfud['sentence_ro'] = lfud['sentence'].apply(translate_text)\n",
    "lfud.to_csv('data/logical_fallacy_understanding_dataset/lfud.csv', index=False)"
   ],
   "id": "bbc1f9b3f34e61d0",
   "outputs": [],
   "execution_count": 56
  },
  {
   "metadata": {},
   "cell_type": "code",
   "outputs": [],
   "execution_count": null,
   "source": "data = data",
   "id": "64ea4836c274e5f"
  }
 ],
 "metadata": {
  "kernelspec": {
   "display_name": "Python 3",
   "language": "python",
   "name": "python3"
  },
  "language_info": {
   "codemirror_mode": {
    "name": "ipython",
    "version": 2
   },
   "file_extension": ".py",
   "mimetype": "text/x-python",
   "name": "python",
   "nbconvert_exporter": "python",
   "pygments_lexer": "ipython2",
   "version": "2.7.6"
  }
 },
 "nbformat": 4,
 "nbformat_minor": 5
}
